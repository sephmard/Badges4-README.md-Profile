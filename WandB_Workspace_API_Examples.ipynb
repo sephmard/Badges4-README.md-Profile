{
  "nbformat": 4,
  "nbformat_minor": 0,
  "metadata": {
    "colab": {
      "provenance": [],
      "toc_visible": true,
      "collapsed_sections": [
        "s1Y1OfuMnbdj"
      ],
      "include_colab_link": true
    },
    "kernelspec": {
      "name": "python3",
      "display_name": "Python 3"
    },
    "language_info": {
      "name": "python"
    },
    "widgets": {
      "application/vnd.jupyter.widget-state+json": {
        "7ae05f0781414a55a3889bf82097747f": {
          "model_module": "@jupyter-widgets/controls",
          "model_name": "VBoxModel",
          "model_module_version": "1.5.0",
          "state": {
            "_dom_classes": [],
            "_model_module": "@jupyter-widgets/controls",
            "_model_module_version": "1.5.0",
            "_model_name": "VBoxModel",
            "_view_count": null,
            "_view_module": "@jupyter-widgets/controls",
            "_view_module_version": "1.5.0",
            "_view_name": "VBoxView",
            "box_style": "",
            "children": [
              "IPY_MODEL_a1c473ede75d4815b8408a6ca390cc77",
              "IPY_MODEL_88634b79d45b4c5db3ae1cf22bd3b2b5"
            ],
            "layout": "IPY_MODEL_3801e7813b4741c29709d5c83ec8c882"
          }
        },
        "a1c473ede75d4815b8408a6ca390cc77": {
          "model_module": "@jupyter-widgets/controls",
          "model_name": "LabelModel",
          "model_module_version": "1.5.0",
          "state": {
            "_dom_classes": [],
            "_model_module": "@jupyter-widgets/controls",
            "_model_module_version": "1.5.0",
            "_model_name": "LabelModel",
            "_view_count": null,
            "_view_module": "@jupyter-widgets/controls",
            "_view_module_version": "1.5.0",
            "_view_name": "LabelView",
            "description": "",
            "description_tooltip": null,
            "layout": "IPY_MODEL_24007f3187a54d98a1eae39b818bb0a3",
            "placeholder": "​",
            "style": "IPY_MODEL_c62b276bab144d708958ad383410f08b",
            "value": "0.058 MB of 0.058 MB uploaded (0.009 MB deduped)\r"
          }
        },
        "88634b79d45b4c5db3ae1cf22bd3b2b5": {
          "model_module": "@jupyter-widgets/controls",
          "model_name": "FloatProgressModel",
          "model_module_version": "1.5.0",
          "state": {
            "_dom_classes": [],
            "_model_module": "@jupyter-widgets/controls",
            "_model_module_version": "1.5.0",
            "_model_name": "FloatProgressModel",
            "_view_count": null,
            "_view_module": "@jupyter-widgets/controls",
            "_view_module_version": "1.5.0",
            "_view_name": "ProgressView",
            "bar_style": "",
            "description": "",
            "description_tooltip": null,
            "layout": "IPY_MODEL_6d7cfa21dbb140ff825db2b7851c4f24",
            "max": 1,
            "min": 0,
            "orientation": "horizontal",
            "style": "IPY_MODEL_ae071625088943de8afcce48217f3150",
            "value": 1
          }
        },
        "3801e7813b4741c29709d5c83ec8c882": {
          "model_module": "@jupyter-widgets/base",
          "model_name": "LayoutModel",
          "model_module_version": "1.2.0",
          "state": {
            "_model_module": "@jupyter-widgets/base",
            "_model_module_version": "1.2.0",
            "_model_name": "LayoutModel",
            "_view_count": null,
            "_view_module": "@jupyter-widgets/base",
            "_view_module_version": "1.2.0",
            "_view_name": "LayoutView",
            "align_content": null,
            "align_items": null,
            "align_self": null,
            "border": null,
            "bottom": null,
            "display": null,
            "flex": null,
            "flex_flow": null,
            "grid_area": null,
            "grid_auto_columns": null,
            "grid_auto_flow": null,
            "grid_auto_rows": null,
            "grid_column": null,
            "grid_gap": null,
            "grid_row": null,
            "grid_template_areas": null,
            "grid_template_columns": null,
            "grid_template_rows": null,
            "height": null,
            "justify_content": null,
            "justify_items": null,
            "left": null,
            "margin": null,
            "max_height": null,
            "max_width": null,
            "min_height": null,
            "min_width": null,
            "object_fit": null,
            "object_position": null,
            "order": null,
            "overflow": null,
            "overflow_x": null,
            "overflow_y": null,
            "padding": null,
            "right": null,
            "top": null,
            "visibility": null,
            "width": null
          }
        },
        "24007f3187a54d98a1eae39b818bb0a3": {
          "model_module": "@jupyter-widgets/base",
          "model_name": "LayoutModel",
          "model_module_version": "1.2.0",
          "state": {
            "_model_module": "@jupyter-widgets/base",
            "_model_module_version": "1.2.0",
            "_model_name": "LayoutModel",
            "_view_count": null,
            "_view_module": "@jupyter-widgets/base",
            "_view_module_version": "1.2.0",
            "_view_name": "LayoutView",
            "align_content": null,
            "align_items": null,
            "align_self": null,
            "border": null,
            "bottom": null,
            "display": null,
            "flex": null,
            "flex_flow": null,
            "grid_area": null,
            "grid_auto_columns": null,
            "grid_auto_flow": null,
            "grid_auto_rows": null,
            "grid_column": null,
            "grid_gap": null,
            "grid_row": null,
            "grid_template_areas": null,
            "grid_template_columns": null,
            "grid_template_rows": null,
            "height": null,
            "justify_content": null,
            "justify_items": null,
            "left": null,
            "margin": null,
            "max_height": null,
            "max_width": null,
            "min_height": null,
            "min_width": null,
            "object_fit": null,
            "object_position": null,
            "order": null,
            "overflow": null,
            "overflow_x": null,
            "overflow_y": null,
            "padding": null,
            "right": null,
            "top": null,
            "visibility": null,
            "width": null
          }
        },
        "c62b276bab144d708958ad383410f08b": {
          "model_module": "@jupyter-widgets/controls",
          "model_name": "DescriptionStyleModel",
          "model_module_version": "1.5.0",
          "state": {
            "_model_module": "@jupyter-widgets/controls",
            "_model_module_version": "1.5.0",
            "_model_name": "DescriptionStyleModel",
            "_view_count": null,
            "_view_module": "@jupyter-widgets/base",
            "_view_module_version": "1.2.0",
            "_view_name": "StyleView",
            "description_width": ""
          }
        },
        "6d7cfa21dbb140ff825db2b7851c4f24": {
          "model_module": "@jupyter-widgets/base",
          "model_name": "LayoutModel",
          "model_module_version": "1.2.0",
          "state": {
            "_model_module": "@jupyter-widgets/base",
            "_model_module_version": "1.2.0",
            "_model_name": "LayoutModel",
            "_view_count": null,
            "_view_module": "@jupyter-widgets/base",
            "_view_module_version": "1.2.0",
            "_view_name": "LayoutView",
            "align_content": null,
            "align_items": null,
            "align_self": null,
            "border": null,
            "bottom": null,
            "display": null,
            "flex": null,
            "flex_flow": null,
            "grid_area": null,
            "grid_auto_columns": null,
            "grid_auto_flow": null,
            "grid_auto_rows": null,
            "grid_column": null,
            "grid_gap": null,
            "grid_row": null,
            "grid_template_areas": null,
            "grid_template_columns": null,
            "grid_template_rows": null,
            "height": null,
            "justify_content": null,
            "justify_items": null,
            "left": null,
            "margin": null,
            "max_height": null,
            "max_width": null,
            "min_height": null,
            "min_width": null,
            "object_fit": null,
            "object_position": null,
            "order": null,
            "overflow": null,
            "overflow_x": null,
            "overflow_y": null,
            "padding": null,
            "right": null,
            "top": null,
            "visibility": null,
            "width": null
          }
        },
        "ae071625088943de8afcce48217f3150": {
          "model_module": "@jupyter-widgets/controls",
          "model_name": "ProgressStyleModel",
          "model_module_version": "1.5.0",
          "state": {
            "_model_module": "@jupyter-widgets/controls",
            "_model_module_version": "1.5.0",
            "_model_name": "ProgressStyleModel",
            "_view_count": null,
            "_view_module": "@jupyter-widgets/base",
            "_view_module_version": "1.2.0",
            "_view_name": "StyleView",
            "bar_color": null,
            "description_width": ""
          }
        },
        "c12314cc5f114c079f3b7309f599f4d7": {
          "model_module": "@jupyter-widgets/controls",
          "model_name": "VBoxModel",
          "model_module_version": "1.5.0",
          "state": {
            "_dom_classes": [],
            "_model_module": "@jupyter-widgets/controls",
            "_model_module_version": "1.5.0",
            "_model_name": "VBoxModel",
            "_view_count": null,
            "_view_module": "@jupyter-widgets/controls",
            "_view_module_version": "1.5.0",
            "_view_name": "VBoxView",
            "box_style": "",
            "children": [
              "IPY_MODEL_fdea346faf4c49688dea2f52b9fcd053",
              "IPY_MODEL_a983f05503354072babaef5c916b7ddb"
            ],
            "layout": "IPY_MODEL_7107c02cc5cb49ff8a1e79a0fe168c8e"
          }
        },
        "fdea346faf4c49688dea2f52b9fcd053": {
          "model_module": "@jupyter-widgets/controls",
          "model_name": "LabelModel",
          "model_module_version": "1.5.0",
          "state": {
            "_dom_classes": [],
            "_model_module": "@jupyter-widgets/controls",
            "_model_module_version": "1.5.0",
            "_model_name": "LabelModel",
            "_view_count": null,
            "_view_module": "@jupyter-widgets/controls",
            "_view_module_version": "1.5.0",
            "_view_name": "LabelView",
            "description": "",
            "description_tooltip": null,
            "layout": "IPY_MODEL_a56d068222554767bc1ed43156ce7570",
            "placeholder": "​",
            "style": "IPY_MODEL_4256d13c16de450a879ba0400c49c295",
            "value": "0.074 MB of 0.074 MB uploaded (0.009 MB deduped)\r"
          }
        },
        "a983f05503354072babaef5c916b7ddb": {
          "model_module": "@jupyter-widgets/controls",
          "model_name": "FloatProgressModel",
          "model_module_version": "1.5.0",
          "state": {
            "_dom_classes": [],
            "_model_module": "@jupyter-widgets/controls",
            "_model_module_version": "1.5.0",
            "_model_name": "FloatProgressModel",
            "_view_count": null,
            "_view_module": "@jupyter-widgets/controls",
            "_view_module_version": "1.5.0",
            "_view_name": "ProgressView",
            "bar_style": "",
            "description": "",
            "description_tooltip": null,
            "layout": "IPY_MODEL_7aa609d13af14b1db7f424caa1d25b1a",
            "max": 1,
            "min": 0,
            "orientation": "horizontal",
            "style": "IPY_MODEL_b2e80b22458449afbce535a491c36056",
            "value": 1
          }
        },
        "7107c02cc5cb49ff8a1e79a0fe168c8e": {
          "model_module": "@jupyter-widgets/base",
          "model_name": "LayoutModel",
          "model_module_version": "1.2.0",
          "state": {
            "_model_module": "@jupyter-widgets/base",
            "_model_module_version": "1.2.0",
            "_model_name": "LayoutModel",
            "_view_count": null,
            "_view_module": "@jupyter-widgets/base",
            "_view_module_version": "1.2.0",
            "_view_name": "LayoutView",
            "align_content": null,
            "align_items": null,
            "align_self": null,
            "border": null,
            "bottom": null,
            "display": null,
            "flex": null,
            "flex_flow": null,
            "grid_area": null,
            "grid_auto_columns": null,
            "grid_auto_flow": null,
            "grid_auto_rows": null,
            "grid_column": null,
            "grid_gap": null,
            "grid_row": null,
            "grid_template_areas": null,
            "grid_template_columns": null,
            "grid_template_rows": null,
            "height": null,
            "justify_content": null,
            "justify_items": null,
            "left": null,
            "margin": null,
            "max_height": null,
            "max_width": null,
            "min_height": null,
            "min_width": null,
            "object_fit": null,
            "object_position": null,
            "order": null,
            "overflow": null,
            "overflow_x": null,
            "overflow_y": null,
            "padding": null,
            "right": null,
            "top": null,
            "visibility": null,
            "width": null
          }
        },
        "a56d068222554767bc1ed43156ce7570": {
          "model_module": "@jupyter-widgets/base",
          "model_name": "LayoutModel",
          "model_module_version": "1.2.0",
          "state": {
            "_model_module": "@jupyter-widgets/base",
            "_model_module_version": "1.2.0",
            "_model_name": "LayoutModel",
            "_view_count": null,
            "_view_module": "@jupyter-widgets/base",
            "_view_module_version": "1.2.0",
            "_view_name": "LayoutView",
            "align_content": null,
            "align_items": null,
            "align_self": null,
            "border": null,
            "bottom": null,
            "display": null,
            "flex": null,
            "flex_flow": null,
            "grid_area": null,
            "grid_auto_columns": null,
            "grid_auto_flow": null,
            "grid_auto_rows": null,
            "grid_column": null,
            "grid_gap": null,
            "grid_row": null,
            "grid_template_areas": null,
            "grid_template_columns": null,
            "grid_template_rows": null,
            "height": null,
            "justify_content": null,
            "justify_items": null,
            "left": null,
            "margin": null,
            "max_height": null,
            "max_width": null,
            "min_height": null,
            "min_width": null,
            "object_fit": null,
            "object_position": null,
            "order": null,
            "overflow": null,
            "overflow_x": null,
            "overflow_y": null,
            "padding": null,
            "right": null,
            "top": null,
            "visibility": null,
            "width": null
          }
        },
        "4256d13c16de450a879ba0400c49c295": {
          "model_module": "@jupyter-widgets/controls",
          "model_name": "DescriptionStyleModel",
          "model_module_version": "1.5.0",
          "state": {
            "_model_module": "@jupyter-widgets/controls",
            "_model_module_version": "1.5.0",
            "_model_name": "DescriptionStyleModel",
            "_view_count": null,
            "_view_module": "@jupyter-widgets/base",
            "_view_module_version": "1.2.0",
            "_view_name": "StyleView",
            "description_width": ""
          }
        },
        "7aa609d13af14b1db7f424caa1d25b1a": {
          "model_module": "@jupyter-widgets/base",
          "model_name": "LayoutModel",
          "model_module_version": "1.2.0",
          "state": {
            "_model_module": "@jupyter-widgets/base",
            "_model_module_version": "1.2.0",
            "_model_name": "LayoutModel",
            "_view_count": null,
            "_view_module": "@jupyter-widgets/base",
            "_view_module_version": "1.2.0",
            "_view_name": "LayoutView",
            "align_content": null,
            "align_items": null,
            "align_self": null,
            "border": null,
            "bottom": null,
            "display": null,
            "flex": null,
            "flex_flow": null,
            "grid_area": null,
            "grid_auto_columns": null,
            "grid_auto_flow": null,
            "grid_auto_rows": null,
            "grid_column": null,
            "grid_gap": null,
            "grid_row": null,
            "grid_template_areas": null,
            "grid_template_columns": null,
            "grid_template_rows": null,
            "height": null,
            "justify_content": null,
            "justify_items": null,
            "left": null,
            "margin": null,
            "max_height": null,
            "max_width": null,
            "min_height": null,
            "min_width": null,
            "object_fit": null,
            "object_position": null,
            "order": null,
            "overflow": null,
            "overflow_x": null,
            "overflow_y": null,
            "padding": null,
            "right": null,
            "top": null,
            "visibility": null,
            "width": null
          }
        },
        "b2e80b22458449afbce535a491c36056": {
          "model_module": "@jupyter-widgets/controls",
          "model_name": "ProgressStyleModel",
          "model_module_version": "1.5.0",
          "state": {
            "_model_module": "@jupyter-widgets/controls",
            "_model_module_version": "1.5.0",
            "_model_name": "ProgressStyleModel",
            "_view_count": null,
            "_view_module": "@jupyter-widgets/base",
            "_view_module_version": "1.2.0",
            "_view_name": "StyleView",
            "bar_color": null,
            "description_width": ""
          }
        },
        "7698a55e00294ca9be85455e3ee58a04": {
          "model_module": "@jupyter-widgets/controls",
          "model_name": "VBoxModel",
          "model_module_version": "1.5.0",
          "state": {
            "_dom_classes": [],
            "_model_module": "@jupyter-widgets/controls",
            "_model_module_version": "1.5.0",
            "_model_name": "VBoxModel",
            "_view_count": null,
            "_view_module": "@jupyter-widgets/controls",
            "_view_module_version": "1.5.0",
            "_view_name": "VBoxView",
            "box_style": "",
            "children": [
              "IPY_MODEL_532c91e4c01c4060ae3205f8d2d2769f",
              "IPY_MODEL_5e59e675c7d5494b9880d38ba7d6a201"
            ],
            "layout": "IPY_MODEL_e0fefbd576164557b3ab3076d2fd9746"
          }
        },
        "532c91e4c01c4060ae3205f8d2d2769f": {
          "model_module": "@jupyter-widgets/controls",
          "model_name": "LabelModel",
          "model_module_version": "1.5.0",
          "state": {
            "_dom_classes": [],
            "_model_module": "@jupyter-widgets/controls",
            "_model_module_version": "1.5.0",
            "_model_name": "LabelModel",
            "_view_count": null,
            "_view_module": "@jupyter-widgets/controls",
            "_view_module_version": "1.5.0",
            "_view_name": "LabelView",
            "description": "",
            "description_tooltip": null,
            "layout": "IPY_MODEL_764bdd8b48514348873f425a78ef798d",
            "placeholder": "​",
            "style": "IPY_MODEL_57ee697b514f485b9698b76fc450ac06",
            "value": "0.089 MB of 0.089 MB uploaded (0.009 MB deduped)\r"
          }
        },
        "5e59e675c7d5494b9880d38ba7d6a201": {
          "model_module": "@jupyter-widgets/controls",
          "model_name": "FloatProgressModel",
          "model_module_version": "1.5.0",
          "state": {
            "_dom_classes": [],
            "_model_module": "@jupyter-widgets/controls",
            "_model_module_version": "1.5.0",
            "_model_name": "FloatProgressModel",
            "_view_count": null,
            "_view_module": "@jupyter-widgets/controls",
            "_view_module_version": "1.5.0",
            "_view_name": "ProgressView",
            "bar_style": "",
            "description": "",
            "description_tooltip": null,
            "layout": "IPY_MODEL_dfaaad76faea4fa89c39896ba48fa52e",
            "max": 1,
            "min": 0,
            "orientation": "horizontal",
            "style": "IPY_MODEL_a17db21795a14a6f94e3162d247ed66a",
            "value": 1
          }
        },
        "e0fefbd576164557b3ab3076d2fd9746": {
          "model_module": "@jupyter-widgets/base",
          "model_name": "LayoutModel",
          "model_module_version": "1.2.0",
          "state": {
            "_model_module": "@jupyter-widgets/base",
            "_model_module_version": "1.2.0",
            "_model_name": "LayoutModel",
            "_view_count": null,
            "_view_module": "@jupyter-widgets/base",
            "_view_module_version": "1.2.0",
            "_view_name": "LayoutView",
            "align_content": null,
            "align_items": null,
            "align_self": null,
            "border": null,
            "bottom": null,
            "display": null,
            "flex": null,
            "flex_flow": null,
            "grid_area": null,
            "grid_auto_columns": null,
            "grid_auto_flow": null,
            "grid_auto_rows": null,
            "grid_column": null,
            "grid_gap": null,
            "grid_row": null,
            "grid_template_areas": null,
            "grid_template_columns": null,
            "grid_template_rows": null,
            "height": null,
            "justify_content": null,
            "justify_items": null,
            "left": null,
            "margin": null,
            "max_height": null,
            "max_width": null,
            "min_height": null,
            "min_width": null,
            "object_fit": null,
            "object_position": null,
            "order": null,
            "overflow": null,
            "overflow_x": null,
            "overflow_y": null,
            "padding": null,
            "right": null,
            "top": null,
            "visibility": null,
            "width": null
          }
        },
        "764bdd8b48514348873f425a78ef798d": {
          "model_module": "@jupyter-widgets/base",
          "model_name": "LayoutModel",
          "model_module_version": "1.2.0",
          "state": {
            "_model_module": "@jupyter-widgets/base",
            "_model_module_version": "1.2.0",
            "_model_name": "LayoutModel",
            "_view_count": null,
            "_view_module": "@jupyter-widgets/base",
            "_view_module_version": "1.2.0",
            "_view_name": "LayoutView",
            "align_content": null,
            "align_items": null,
            "align_self": null,
            "border": null,
            "bottom": null,
            "display": null,
            "flex": null,
            "flex_flow": null,
            "grid_area": null,
            "grid_auto_columns": null,
            "grid_auto_flow": null,
            "grid_auto_rows": null,
            "grid_column": null,
            "grid_gap": null,
            "grid_row": null,
            "grid_template_areas": null,
            "grid_template_columns": null,
            "grid_template_rows": null,
            "height": null,
            "justify_content": null,
            "justify_items": null,
            "left": null,
            "margin": null,
            "max_height": null,
            "max_width": null,
            "min_height": null,
            "min_width": null,
            "object_fit": null,
            "object_position": null,
            "order": null,
            "overflow": null,
            "overflow_x": null,
            "overflow_y": null,
            "padding": null,
            "right": null,
            "top": null,
            "visibility": null,
            "width": null
          }
        },
        "57ee697b514f485b9698b76fc450ac06": {
          "model_module": "@jupyter-widgets/controls",
          "model_name": "DescriptionStyleModel",
          "model_module_version": "1.5.0",
          "state": {
            "_model_module": "@jupyter-widgets/controls",
            "_model_module_version": "1.5.0",
            "_model_name": "DescriptionStyleModel",
            "_view_count": null,
            "_view_module": "@jupyter-widgets/base",
            "_view_module_version": "1.2.0",
            "_view_name": "StyleView",
            "description_width": ""
          }
        },
        "dfaaad76faea4fa89c39896ba48fa52e": {
          "model_module": "@jupyter-widgets/base",
          "model_name": "LayoutModel",
          "model_module_version": "1.2.0",
          "state": {
            "_model_module": "@jupyter-widgets/base",
            "_model_module_version": "1.2.0",
            "_model_name": "LayoutModel",
            "_view_count": null,
            "_view_module": "@jupyter-widgets/base",
            "_view_module_version": "1.2.0",
            "_view_name": "LayoutView",
            "align_content": null,
            "align_items": null,
            "align_self": null,
            "border": null,
            "bottom": null,
            "display": null,
            "flex": null,
            "flex_flow": null,
            "grid_area": null,
            "grid_auto_columns": null,
            "grid_auto_flow": null,
            "grid_auto_rows": null,
            "grid_column": null,
            "grid_gap": null,
            "grid_row": null,
            "grid_template_areas": null,
            "grid_template_columns": null,
            "grid_template_rows": null,
            "height": null,
            "justify_content": null,
            "justify_items": null,
            "left": null,
            "margin": null,
            "max_height": null,
            "max_width": null,
            "min_height": null,
            "min_width": null,
            "object_fit": null,
            "object_position": null,
            "order": null,
            "overflow": null,
            "overflow_x": null,
            "overflow_y": null,
            "padding": null,
            "right": null,
            "top": null,
            "visibility": null,
            "width": null
          }
        },
        "a17db21795a14a6f94e3162d247ed66a": {
          "model_module": "@jupyter-widgets/controls",
          "model_name": "ProgressStyleModel",
          "model_module_version": "1.5.0",
          "state": {
            "_model_module": "@jupyter-widgets/controls",
            "_model_module_version": "1.5.0",
            "_model_name": "ProgressStyleModel",
            "_view_count": null,
            "_view_module": "@jupyter-widgets/base",
            "_view_module_version": "1.2.0",
            "_view_name": "StyleView",
            "bar_color": null,
            "description_width": ""
          }
        },
        "76be3974dd0241ce85aa80ded4b91510": {
          "model_module": "@jupyter-widgets/controls",
          "model_name": "VBoxModel",
          "model_module_version": "1.5.0",
          "state": {
            "_dom_classes": [],
            "_model_module": "@jupyter-widgets/controls",
            "_model_module_version": "1.5.0",
            "_model_name": "VBoxModel",
            "_view_count": null,
            "_view_module": "@jupyter-widgets/controls",
            "_view_module_version": "1.5.0",
            "_view_name": "VBoxView",
            "box_style": "",
            "children": [
              "IPY_MODEL_cceac866d9cb40fc84c5849f969d9d52",
              "IPY_MODEL_16dcd522733842f78f39979e413addfe"
            ],
            "layout": "IPY_MODEL_c58053febcca406d9710ea3b46272c18"
          }
        },
        "cceac866d9cb40fc84c5849f969d9d52": {
          "model_module": "@jupyter-widgets/controls",
          "model_name": "LabelModel",
          "model_module_version": "1.5.0",
          "state": {
            "_dom_classes": [],
            "_model_module": "@jupyter-widgets/controls",
            "_model_module_version": "1.5.0",
            "_model_name": "LabelModel",
            "_view_count": null,
            "_view_module": "@jupyter-widgets/controls",
            "_view_module_version": "1.5.0",
            "_view_name": "LabelView",
            "description": "",
            "description_tooltip": null,
            "layout": "IPY_MODEL_216669dec34e47d1980ed8a37667f7f2",
            "placeholder": "​",
            "style": "IPY_MODEL_fa4e1ad152244987b9e499e7fe330e85",
            "value": "0.105 MB of 0.105 MB uploaded (0.009 MB deduped)\r"
          }
        },
        "16dcd522733842f78f39979e413addfe": {
          "model_module": "@jupyter-widgets/controls",
          "model_name": "FloatProgressModel",
          "model_module_version": "1.5.0",
          "state": {
            "_dom_classes": [],
            "_model_module": "@jupyter-widgets/controls",
            "_model_module_version": "1.5.0",
            "_model_name": "FloatProgressModel",
            "_view_count": null,
            "_view_module": "@jupyter-widgets/controls",
            "_view_module_version": "1.5.0",
            "_view_name": "ProgressView",
            "bar_style": "",
            "description": "",
            "description_tooltip": null,
            "layout": "IPY_MODEL_d36b7a3bcc834acea45480552c23161b",
            "max": 1,
            "min": 0,
            "orientation": "horizontal",
            "style": "IPY_MODEL_a45daf0cb3e84b21bcff7abef802a9fe",
            "value": 1
          }
        },
        "c58053febcca406d9710ea3b46272c18": {
          "model_module": "@jupyter-widgets/base",
          "model_name": "LayoutModel",
          "model_module_version": "1.2.0",
          "state": {
            "_model_module": "@jupyter-widgets/base",
            "_model_module_version": "1.2.0",
            "_model_name": "LayoutModel",
            "_view_count": null,
            "_view_module": "@jupyter-widgets/base",
            "_view_module_version": "1.2.0",
            "_view_name": "LayoutView",
            "align_content": null,
            "align_items": null,
            "align_self": null,
            "border": null,
            "bottom": null,
            "display": null,
            "flex": null,
            "flex_flow": null,
            "grid_area": null,
            "grid_auto_columns": null,
            "grid_auto_flow": null,
            "grid_auto_rows": null,
            "grid_column": null,
            "grid_gap": null,
            "grid_row": null,
            "grid_template_areas": null,
            "grid_template_columns": null,
            "grid_template_rows": null,
            "height": null,
            "justify_content": null,
            "justify_items": null,
            "left": null,
            "margin": null,
            "max_height": null,
            "max_width": null,
            "min_height": null,
            "min_width": null,
            "object_fit": null,
            "object_position": null,
            "order": null,
            "overflow": null,
            "overflow_x": null,
            "overflow_y": null,
            "padding": null,
            "right": null,
            "top": null,
            "visibility": null,
            "width": null
          }
        },
        "216669dec34e47d1980ed8a37667f7f2": {
          "model_module": "@jupyter-widgets/base",
          "model_name": "LayoutModel",
          "model_module_version": "1.2.0",
          "state": {
            "_model_module": "@jupyter-widgets/base",
            "_model_module_version": "1.2.0",
            "_model_name": "LayoutModel",
            "_view_count": null,
            "_view_module": "@jupyter-widgets/base",
            "_view_module_version": "1.2.0",
            "_view_name": "LayoutView",
            "align_content": null,
            "align_items": null,
            "align_self": null,
            "border": null,
            "bottom": null,
            "display": null,
            "flex": null,
            "flex_flow": null,
            "grid_area": null,
            "grid_auto_columns": null,
            "grid_auto_flow": null,
            "grid_auto_rows": null,
            "grid_column": null,
            "grid_gap": null,
            "grid_row": null,
            "grid_template_areas": null,
            "grid_template_columns": null,
            "grid_template_rows": null,
            "height": null,
            "justify_content": null,
            "justify_items": null,
            "left": null,
            "margin": null,
            "max_height": null,
            "max_width": null,
            "min_height": null,
            "min_width": null,
            "object_fit": null,
            "object_position": null,
            "order": null,
            "overflow": null,
            "overflow_x": null,
            "overflow_y": null,
            "padding": null,
            "right": null,
            "top": null,
            "visibility": null,
            "width": null
          }
        },
        "fa4e1ad152244987b9e499e7fe330e85": {
          "model_module": "@jupyter-widgets/controls",
          "model_name": "DescriptionStyleModel",
          "model_module_version": "1.5.0",
          "state": {
            "_model_module": "@jupyter-widgets/controls",
            "_model_module_version": "1.5.0",
            "_model_name": "DescriptionStyleModel",
            "_view_count": null,
            "_view_module": "@jupyter-widgets/base",
            "_view_module_version": "1.2.0",
            "_view_name": "StyleView",
            "description_width": ""
          }
        },
        "d36b7a3bcc834acea45480552c23161b": {
          "model_module": "@jupyter-widgets/base",
          "model_name": "LayoutModel",
          "model_module_version": "1.2.0",
          "state": {
            "_model_module": "@jupyter-widgets/base",
            "_model_module_version": "1.2.0",
            "_model_name": "LayoutModel",
            "_view_count": null,
            "_view_module": "@jupyter-widgets/base",
            "_view_module_version": "1.2.0",
            "_view_name": "LayoutView",
            "align_content": null,
            "align_items": null,
            "align_self": null,
            "border": null,
            "bottom": null,
            "display": null,
            "flex": null,
            "flex_flow": null,
            "grid_area": null,
            "grid_auto_columns": null,
            "grid_auto_flow": null,
            "grid_auto_rows": null,
            "grid_column": null,
            "grid_gap": null,
            "grid_row": null,
            "grid_template_areas": null,
            "grid_template_columns": null,
            "grid_template_rows": null,
            "height": null,
            "justify_content": null,
            "justify_items": null,
            "left": null,
            "margin": null,
            "max_height": null,
            "max_width": null,
            "min_height": null,
            "min_width": null,
            "object_fit": null,
            "object_position": null,
            "order": null,
            "overflow": null,
            "overflow_x": null,
            "overflow_y": null,
            "padding": null,
            "right": null,
            "top": null,
            "visibility": null,
            "width": null
          }
        },
        "a45daf0cb3e84b21bcff7abef802a9fe": {
          "model_module": "@jupyter-widgets/controls",
          "model_name": "ProgressStyleModel",
          "model_module_version": "1.5.0",
          "state": {
            "_model_module": "@jupyter-widgets/controls",
            "_model_module_version": "1.5.0",
            "_model_name": "ProgressStyleModel",
            "_view_count": null,
            "_view_module": "@jupyter-widgets/base",
            "_view_module_version": "1.2.0",
            "_view_name": "StyleView",
            "bar_color": null,
            "description_width": ""
          }
        }
      }
    }
  },
  "cells": [
    {
      "cell_type": "markdown",
      "metadata": {
        "id": "view-in-github",
        "colab_type": "text"
      },
      "source": [
        "<a href=\"https://colab.research.google.com/github/sephmard/Badges4-README.md-Profile/blob/master/WandB_Workspace_API_Examples.ipynb\" target=\"_parent\"><img src=\"https://colab.research.google.com/assets/colab-badge.svg\" alt=\"Open In Colab\"/></a>"
      ]
    },
    {
      "cell_type": "markdown",
      "source": [
        "# Workspace API Examples\n",
        "\n",
        "### As you go through these examples, I'd appreciate some feedback on config verbosity.\n",
        "- Some settings are intentionally hidden because they can make the repr very large, but this hiding can obscure some settings\n",
        "- As an example of \"verbosity\", `WorkspaceSettings` has been left verbose to show you how it might impact the repr for users\n",
        "\n",
        "To see all possible settings, [see section below](#scrollTo=trYOsObnSIwK&line=1&uniqifier=1)\n",
        "\n",
        "### Known limitations:\n",
        "- Only works with named workspaces (the URL will end with `?nw=...`)\n",
        "- Does not work with personal workspaces (clone the view in the UI first)"
      ],
      "metadata": {
        "id": "iY9Qa0a0x3Km"
      }
    },
    {
      "cell_type": "code",
      "source": [
        "%%capture\n",
        "# Need this because of nexus\n",
        "!add-apt-repository ppa:longsleep/golang-backports -y\n",
        "!apt update\n",
        "!apt install golang-go"
      ],
      "metadata": {
        "id": "epfAJ4DjwZBk"
      },
      "execution_count": null,
      "outputs": []
    },
    {
      "cell_type": "code",
      "source": [
        "!pip install git+ssh://git@github.com/wandb/wandb.git@andrew/wandb-workspaces[workspaces] rich"
      ],
      "metadata": {
        "colab": {
          "base_uri": "https://localhost:8080/"
        },
        "id": "qqkh-E2mxHnU",
        "outputId": "5d41e840-c1bb-4620-c698-cd6331a619a6"
      },
      "execution_count": null,
      "outputs": [
        {
          "output_type": "stream",
          "name": "stdout",
          "text": [
            "Collecting git+ssh://****@github.com/wandb/wandb.git@andrew/wandb-workspaces[workspaces]\n",
            "  Cloning ssh://****@github.com/wandb/wandb.git (to revision andrew/wandb-workspaces[workspaces]) to /tmp/pip-req-build-ughpdxzl\n",
            "  Running command git clone --filter=blob:none --quiet 'ssh://****@github.com/wandb/wandb.git' /tmp/pip-req-build-ughpdxzl\n",
            "  Host key verification failed.\n",
            "  fatal: Could not read from remote repository.\n",
            "\n",
            "  Please make sure you have the correct access rights\n",
            "  and the repository exists.\n",
            "  \u001b[1;31merror\u001b[0m: \u001b[1msubprocess-exited-with-error\u001b[0m\n",
            "  \n",
            "  \u001b[31m×\u001b[0m \u001b[32mgit clone --\u001b[0m\u001b[32mfilter\u001b[0m\u001b[32m=\u001b[0m\u001b[32mblob\u001b[0m\u001b[32m:none --quiet \u001b[0m\u001b[32m'ssh://****@github.com/wandb/wandb.git'\u001b[0m\u001b[32m \u001b[0m\u001b[32m/tmp/\u001b[0m\u001b[32mpip-req-build-ughpdxzl\u001b[0m did not run successfully.\n",
            "  \u001b[31m│\u001b[0m exit code: \u001b[1;36m128\u001b[0m\n",
            "  \u001b[31m╰─>\u001b[0m See above for output.\n",
            "  \n",
            "  \u001b[1;35mnote\u001b[0m: This error originates from a subprocess, and is likely not a problem with pip.\n",
            "\u001b[1;31merror\u001b[0m: \u001b[1msubprocess-exited-with-error\u001b[0m\n",
            "\n",
            "\u001b[31m×\u001b[0m \u001b[32mgit clone --\u001b[0m\u001b[32mfilter\u001b[0m\u001b[32m=\u001b[0m\u001b[32mblob\u001b[0m\u001b[32m:none --quiet \u001b[0m\u001b[32m'ssh://****@github.com/wandb/wandb.git'\u001b[0m\u001b[32m \u001b[0m\u001b[32m/tmp/\u001b[0m\u001b[32mpip-req-build-ughpdxzl\u001b[0m did not run successfully.\n",
            "\u001b[31m│\u001b[0m exit code: \u001b[1;36m128\u001b[0m\n",
            "\u001b[31m╰─>\u001b[0m See above for output.\n",
            "\n",
            "\u001b[1;35mnote\u001b[0m: This error originates from a subprocess, and is likely not a problem with pip.\n"
          ]
        }
      ]
    },
    {
      "cell_type": "code",
      "source": [
        "# makes formatting nicer (you might want to use dark mode on colab)\n",
        "%load_ext rich"
      ],
      "metadata": {
        "id": "MrnN8E5Cxkpn"
      },
      "execution_count": null,
      "outputs": []
    },
    {
      "cell_type": "code",
      "source": [
        "import wandb.apis.workspaces as ws\n",
        "import wandb.apis.reports.v2 as wr  # We use the Reports API panels"
      ],
      "metadata": {
        "id": "ZAfkP1dtYPgO",
        "colab": {
          "base_uri": "https://localhost:8080/"
        },
        "outputId": "43b9a565-3cdc-4000-f3ee-0cf8e025c87a"
      },
      "execution_count": null,
      "outputs": [
        {
          "output_type": "stream",
          "name": "stderr",
          "text": [
            "\u001b[34m\u001b[1mwandb\u001b[0m: \u001b[33mWARNING\u001b[0m The v1 API is deprecated and will be removed in a future release.  Please move to v2 by setting the env var WANDB_REPORT_API_ENABLE_V2=True.  This will be on by default in a future release.\n",
            "\u001b[34m\u001b[1mwandb\u001b[0m: \u001b[33mWARNING\u001b[0m You can disable this message by setting the env var WANDB_REPORT_API_DISABLE_MESSAGE=True\n"
          ]
        }
      ]
    },
    {
      "cell_type": "code",
      "source": [
        "import wandb\n",
        "\n",
        "ENTITY = wandb.Api().default_entity  # or specify your entity\n",
        "PROJECT = \"workspace-api-demo\""
      ],
      "metadata": {
        "colab": {
          "base_uri": "https://localhost:8080/",
          "height": 104
        },
        "id": "8a_J_optom1C",
        "outputId": "6f45ab2f-384d-4755-fb6f-9520190487bf"
      },
      "execution_count": null,
      "outputs": [
        {
          "output_type": "display_data",
          "data": {
            "text/plain": [],
            "text/html": [
              "<pre style=\"white-space:pre;overflow-x:auto;line-height:normal;font-family:Menlo,'DejaVu Sans Mono',consolas,'Courier New',monospace\"></pre>\n"
            ]
          },
          "metadata": {}
        },
        {
          "output_type": "display_data",
          "data": {
            "text/plain": [
              "\u001b[1m<\u001b[0m\u001b[1;95mIPython.core.display.Javascript\u001b[0m\u001b[39m object\u001b[0m\u001b[1m>\u001b[0m"
            ],
            "application/javascript": [
              "\n",
              "        window._wandbApiKey = new Promise((resolve, reject) => {\n",
              "            function loadScript(url) {\n",
              "            return new Promise(function(resolve, reject) {\n",
              "                let newScript = document.createElement(\"script\");\n",
              "                newScript.onerror = reject;\n",
              "                newScript.onload = resolve;\n",
              "                document.body.appendChild(newScript);\n",
              "                newScript.src = url;\n",
              "            });\n",
              "            }\n",
              "            loadScript(\"https://cdn.jsdelivr.net/npm/postmate/build/postmate.min.js\").then(() => {\n",
              "            const iframe = document.createElement('iframe')\n",
              "            iframe.style.cssText = \"width:0;height:0;border:none\"\n",
              "            document.body.appendChild(iframe)\n",
              "            const handshake = new Postmate({\n",
              "                container: iframe,\n",
              "                url: 'https://wandb.ai/authorize'\n",
              "            });\n",
              "            const timeout = setTimeout(() => reject(\"Couldn't auto authenticate\"), 5000)\n",
              "            handshake.then(function(child) {\n",
              "                child.on('authorize', data => {\n",
              "                    clearTimeout(timeout)\n",
              "                    resolve(data)\n",
              "                });\n",
              "            });\n",
              "            })\n",
              "        });\n",
              "    "
            ]
          },
          "metadata": {}
        },
        {
          "output_type": "stream",
          "name": "stderr",
          "text": [
            "\u001b[34m\u001b[1mwandb\u001b[0m: Logging into wandb.ai. (Learn how to deploy a W&B server locally: https://wandb.me/wandb-server)\n",
            "\u001b[34m\u001b[1mwandb\u001b[0m: You can find your API key in your browser here: https://wandb.ai/authorize\n",
            "wandb: Paste an API key from your profile and hit enter, or press ctrl+c to quit:"
          ]
        },
        {
          "name": "stdout",
          "output_type": "stream",
          "text": [
            " ··········\n"
          ]
        },
        {
          "output_type": "stream",
          "name": "stderr",
          "text": [
            "\u001b[34m\u001b[1mwandb\u001b[0m: Appending key for api.wandb.ai to your netrc file: /root/.netrc\n"
          ]
        }
      ]
    },
    {
      "cell_type": "markdown",
      "source": [
        "## First, log some data for this example"
      ],
      "metadata": {
        "id": "s1Y1OfuMnbdj"
      }
    },
    {
      "cell_type": "code",
      "source": [
        "import random\n",
        "\n",
        "import numpy as np\n",
        "import pandas as pd\n",
        "\n",
        "import wandb\n",
        "\n",
        "\n",
        "# Function to generate synthetic data with noise\n",
        "def generate_metrics(run_id, epochs=50):\n",
        "    random.seed(run_id)\n",
        "    np.random.seed(run_id)\n",
        "\n",
        "    noise_level = 0.05\n",
        "\n",
        "    epochs_array = np.arange(1, epochs + 1)\n",
        "    decay_factor = np.exp(-0.1 * epochs_array)\n",
        "\n",
        "    data = {\n",
        "        \"epoch\": epochs_array,\n",
        "        \"train_loss\": (np.random.uniform(0.2, 1.0, epochs) * decay_factor)\n",
        "        + np.random.normal(0, noise_level, epochs),\n",
        "        \"val_loss\": (np.random.uniform(0.2, 1.0, epochs) * decay_factor)\n",
        "        + np.random.normal(0, noise_level, epochs),\n",
        "        \"train_accuracy\": (\n",
        "            np.random.uniform(0.7, 0.9, epochs) + np.linspace(0, 0.1, epochs)\n",
        "        )\n",
        "        + np.random.normal(0, noise_level, epochs),\n",
        "        \"val_accuracy\": (\n",
        "            np.random.uniform(0.6, 0.8, epochs) + np.linspace(0, 0.1, epochs)\n",
        "        )\n",
        "        + np.random.normal(0, noise_level, epochs),\n",
        "        \"precision\": (0.5 + 0.4 * decay_factor)\n",
        "        + np.random.normal(0, noise_level, epochs),\n",
        "        \"recall\": (0.4 + 0.45 * decay_factor)\n",
        "        + np.random.normal(0, noise_level, epochs),\n",
        "        \"f1_score\": (0.5 + 0.4 * decay_factor)\n",
        "        + np.random.normal(0, noise_level, epochs),\n",
        "        \"learning_rate\": np.linspace(0.01, 0.001, epochs)\n",
        "        + np.random.normal(0, noise_level * 0.01, epochs),\n",
        "        \"train_time_per_epoch\": np.random.uniform(10, 20, epochs)\n",
        "        + np.random.normal(0, noise_level * 10, epochs),\n",
        "        \"val_time_per_epoch\": np.random.uniform(2, 5, epochs)\n",
        "        + np.random.normal(0, noise_level * 5, epochs),\n",
        "    }\n",
        "\n",
        "    return pd.DataFrame(data)\n",
        "\n",
        "\n",
        "# Function to log data to wandb\n",
        "def log_to_wandb(run_id, name):\n",
        "    with wandb.init(project=PROJECT, name=name, id=run_id) as run:\n",
        "        df = generate_metrics(id(run_id) % 50000)\n",
        "        for epoch in range(len(df)):\n",
        "            run.log(df.iloc[epoch].to_dict())\n",
        "\n",
        "run_ids = ['1pitw7pm', 'yvkevn0m', '2u1g3j1c', '1mbku38n']\n",
        "names = ['valiant-spaceship-1', 'vocal-dew-2', 'brisk-vortex-3', 'smooth-star-4']\n",
        "for run_id, name in zip(run_ids, names):\n",
        "    log_to_wandb(run_id, name)"
      ],
      "metadata": {
        "colab": {
          "base_uri": "https://localhost:8080/",
          "height": 1000,
          "referenced_widgets": [
            "7ae05f0781414a55a3889bf82097747f",
            "a1c473ede75d4815b8408a6ca390cc77",
            "88634b79d45b4c5db3ae1cf22bd3b2b5",
            "3801e7813b4741c29709d5c83ec8c882",
            "24007f3187a54d98a1eae39b818bb0a3",
            "c62b276bab144d708958ad383410f08b",
            "6d7cfa21dbb140ff825db2b7851c4f24",
            "ae071625088943de8afcce48217f3150",
            "c12314cc5f114c079f3b7309f599f4d7",
            "fdea346faf4c49688dea2f52b9fcd053",
            "a983f05503354072babaef5c916b7ddb",
            "7107c02cc5cb49ff8a1e79a0fe168c8e",
            "a56d068222554767bc1ed43156ce7570",
            "4256d13c16de450a879ba0400c49c295",
            "7aa609d13af14b1db7f424caa1d25b1a",
            "b2e80b22458449afbce535a491c36056",
            "7698a55e00294ca9be85455e3ee58a04",
            "532c91e4c01c4060ae3205f8d2d2769f",
            "5e59e675c7d5494b9880d38ba7d6a201",
            "e0fefbd576164557b3ab3076d2fd9746",
            "764bdd8b48514348873f425a78ef798d",
            "57ee697b514f485b9698b76fc450ac06",
            "dfaaad76faea4fa89c39896ba48fa52e",
            "a17db21795a14a6f94e3162d247ed66a",
            "76be3974dd0241ce85aa80ded4b91510",
            "cceac866d9cb40fc84c5849f969d9d52",
            "16dcd522733842f78f39979e413addfe",
            "c58053febcca406d9710ea3b46272c18",
            "216669dec34e47d1980ed8a37667f7f2",
            "fa4e1ad152244987b9e499e7fe330e85",
            "d36b7a3bcc834acea45480552c23161b",
            "a45daf0cb3e84b21bcff7abef802a9fe"
          ]
        },
        "id": "bBzha_Akni_i",
        "outputId": "cd3b8af5-bf04-42cc-ec0c-1bb5342ac94c"
      },
      "execution_count": null,
      "outputs": [
        {
          "output_type": "stream",
          "name": "stderr",
          "text": [
            "\u001b[34m\u001b[1mwandb\u001b[0m: Currently logged in as: \u001b[33mmegatruong\u001b[0m. Use \u001b[1m`wandb login --relogin`\u001b[0m to force relogin\n"
          ]
        },
        {
          "output_type": "display_data",
          "data": {
            "text/plain": [],
            "text/html": [
              "<pre style=\"white-space:pre;overflow-x:auto;line-height:normal;font-family:Menlo,'DejaVu Sans Mono',consolas,'Courier New',monospace\"></pre>\n"
            ]
          },
          "metadata": {}
        },
        {
          "output_type": "display_data",
          "data": {
            "text/plain": [
              "\u001b[1m<\u001b[0m\u001b[1;95mIPython.core.display.HTML\u001b[0m\u001b[39m object\u001b[0m\u001b[1m>\u001b[0m"
            ],
            "text/html": [
              "Tracking run with wandb version 0.17.1.dev1"
            ]
          },
          "metadata": {}
        },
        {
          "output_type": "display_data",
          "data": {
            "text/plain": [],
            "text/html": [
              "<pre style=\"white-space:pre;overflow-x:auto;line-height:normal;font-family:Menlo,'DejaVu Sans Mono',consolas,'Courier New',monospace\"></pre>\n"
            ]
          },
          "metadata": {}
        },
        {
          "output_type": "display_data",
          "data": {
            "text/plain": [
              "\u001b[1m<\u001b[0m\u001b[1;95mIPython.core.display.HTML\u001b[0m\u001b[39m object\u001b[0m\u001b[1m>\u001b[0m"
            ],
            "text/html": [
              "Run data is saved locally in <code>/content/wandb/run-20240520_160231-1pitw7pm</code>"
            ]
          },
          "metadata": {}
        },
        {
          "output_type": "display_data",
          "data": {
            "text/plain": [],
            "text/html": [
              "<pre style=\"white-space:pre;overflow-x:auto;line-height:normal;font-family:Menlo,'DejaVu Sans Mono',consolas,'Courier New',monospace\"></pre>\n"
            ]
          },
          "metadata": {}
        },
        {
          "output_type": "display_data",
          "data": {
            "text/plain": [
              "\u001b[1m<\u001b[0m\u001b[1;95mIPython.core.display.HTML\u001b[0m\u001b[39m object\u001b[0m\u001b[1m>\u001b[0m"
            ],
            "text/html": [
              "Syncing run <strong><a href='https://wandb.ai/megatruong/workspace-api-demo/runs/1pitw7pm' target=\"_blank\">valiant-spaceship-1</a></strong> to <a href='https://wandb.ai/megatruong/workspace-api-demo' target=\"_blank\">Weights & Biases</a> (<a href='https://wandb.me/run' target=\"_blank\">docs</a>)<br/>"
            ]
          },
          "metadata": {}
        },
        {
          "output_type": "display_data",
          "data": {
            "text/plain": [],
            "text/html": [
              "<pre style=\"white-space:pre;overflow-x:auto;line-height:normal;font-family:Menlo,'DejaVu Sans Mono',consolas,'Courier New',monospace\"></pre>\n"
            ]
          },
          "metadata": {}
        },
        {
          "output_type": "display_data",
          "data": {
            "text/plain": [
              "\u001b[1m<\u001b[0m\u001b[1;95mIPython.core.display.HTML\u001b[0m\u001b[39m object\u001b[0m\u001b[1m>\u001b[0m"
            ],
            "text/html": [
              " View project at <a href='https://wandb.ai/megatruong/workspace-api-demo' target=\"_blank\">https://wandb.ai/megatruong/workspace-api-demo</a>"
            ]
          },
          "metadata": {}
        },
        {
          "output_type": "display_data",
          "data": {
            "text/plain": [],
            "text/html": [
              "<pre style=\"white-space:pre;overflow-x:auto;line-height:normal;font-family:Menlo,'DejaVu Sans Mono',consolas,'Courier New',monospace\"></pre>\n"
            ]
          },
          "metadata": {}
        },
        {
          "output_type": "display_data",
          "data": {
            "text/plain": [
              "\u001b[1m<\u001b[0m\u001b[1;95mIPython.core.display.HTML\u001b[0m\u001b[39m object\u001b[0m\u001b[1m>\u001b[0m"
            ],
            "text/html": [
              " View run at <a href='https://wandb.ai/megatruong/workspace-api-demo/runs/1pitw7pm' target=\"_blank\">https://wandb.ai/megatruong/workspace-api-demo/runs/1pitw7pm</a>"
            ]
          },
          "metadata": {}
        },
        {
          "output_type": "display_data",
          "data": {
            "text/plain": [
              "VBox(children=(Label(value='0.030 MB of 0.030 MB uploaded\\r'), FloatProgress(value=1.0, max=1.0)))"
            ],
            "application/vnd.jupyter.widget-view+json": {
              "version_major": 2,
              "version_minor": 0,
              "model_id": "7ae05f0781414a55a3889bf82097747f"
            }
          },
          "metadata": {}
        },
        {
          "output_type": "display_data",
          "data": {
            "text/plain": [],
            "text/html": [
              "<pre style=\"white-space:pre;overflow-x:auto;line-height:normal;font-family:Menlo,'DejaVu Sans Mono',consolas,'Courier New',monospace\"></pre>\n"
            ]
          },
          "metadata": {}
        },
        {
          "output_type": "display_data",
          "data": {
            "text/plain": [
              "\u001b[1m<\u001b[0m\u001b[1;95mIPython.core.display.HTML\u001b[0m\u001b[39m object\u001b[0m\u001b[1m>\u001b[0m"
            ],
            "text/html": [
              "W&B sync reduced upload amount by 15.1%             "
            ]
          },
          "metadata": {}
        },
        {
          "output_type": "display_data",
          "data": {
            "text/plain": [],
            "text/html": [
              "<pre style=\"white-space:pre;overflow-x:auto;line-height:normal;font-family:Menlo,'DejaVu Sans Mono',consolas,'Courier New',monospace\"></pre>\n"
            ]
          },
          "metadata": {}
        },
        {
          "output_type": "display_data",
          "data": {
            "text/plain": [
              "\u001b[1m<\u001b[0m\u001b[1;95mIPython.core.display.HTML\u001b[0m\u001b[39m object\u001b[0m\u001b[1m>\u001b[0m"
            ],
            "text/html": [
              "<style>\n",
              "    table.wandb td:nth-child(1) { padding: 0 10px; text-align: left ; width: auto;} td:nth-child(2) {text-align: left ; width: 100%}\n",
              "    .wandb-row { display: flex; flex-direction: row; flex-wrap: wrap; justify-content: flex-start; width: 100% }\n",
              "    .wandb-col { display: flex; flex-direction: column; flex-basis: 100%; flex: 1; padding: 10px; }\n",
              "    </style>\n",
              "<div class=\"wandb-row\"><div class=\"wandb-col\"><h3>Run history:</h3><br/><table class=\"wandb\"><tr><td>epoch</td><td>▁▁▁▁▂▂▂▂▂▃▃▃▃▃▃▄▄▄▄▄▅▅▅▅▅▅▆▆▆▆▆▆▇▇▇▇▇███</td></tr><tr><td>f1_score</td><td>█▆▇█▄▅▅▅▄▆▃▄▂▃▃▄▂▂▃▄▂▂▃▃▄▃▁▂▂▂▄▂▂▂▃▃▂▂▂▃</td></tr><tr><td>learning_rate</td><td>▇▇█▇▇▇▆▆▆▆▆▆▅▆▅▅▄▄▄▄▄▄▄▃▄▄▃▄▃▃▂▂▃▂▂▂▁▁▁▁</td></tr><tr><td>precision</td><td>█▇▇█▇▅▆▅▃▄▃▃▂▃▃▃▂▂▂▁▁▃▄▂▂▂▃▁▂▂▂▁▂▂▂▂▃▂▁▁</td></tr><tr><td>recall</td><td>█▇█▇▅▆▆▅▅▄▃▁▄▃▄▃▁▄▃▁▃▂▁▂▁▂▄▁▂▂▂▁▂▂▃▂▃▃▂▃</td></tr><tr><td>train_accuracy</td><td>▁▅█▄▆▃▃▅▃▄▃▅█▄▄▄▆▃▃▄▄▄▁▄▄▂▃▃▅▆▂▄▅█▂▂▅▆█▅</td></tr><tr><td>train_loss</td><td>▇█▆█▅▄▅▅▄▃▄▂▃▂▂▂▃▃▁▂▂▂▁▃▂▂▂▂▂▂▂▂▂▂▁▂▁▂▁▂</td></tr><tr><td>train_time_per_epoch</td><td>▃▇▄▇▃▂▂▆▄▅█▅▂▃▂▁▇▄▃▄▅▅▃▅▃▇▆▄▆▁▁▅▄▃▄▆▄▅▂▆</td></tr><tr><td>val_accuracy</td><td>▃▃▃▁▅▆▃▃▆▄▃▄▄▅▃▄▆▇▅▃▄▄▆▃▆▄▅▂▄▄▇▃▆▃▆▄█▅▅▇</td></tr><tr><td>val_loss</td><td>█▇▅▅▆▄▃▄▂▂▃▃▃▂▃▂▂▂▂▂▂▁▂▂▂▃▂▁▁▂▁▂▂▂▂▂▂▁▃▂</td></tr><tr><td>val_time_per_epoch</td><td>▆▇▆▄▇▁█▃▂▅▂▅▅▄▃▇▆▇▆▄▇▂█▄▂▄▆▅▃▆▄▆▃█▄▅▃▇▄▇</td></tr></table><br/></div><div class=\"wandb-col\"><h3>Run summary:</h3><br/><table class=\"wandb\"><tr><td>epoch</td><td>50.0</td></tr><tr><td>f1_score</td><td>0.5328</td></tr><tr><td>learning_rate</td><td>0.00159</td></tr><tr><td>precision</td><td>0.44815</td></tr><tr><td>recall</td><td>0.49136</td></tr><tr><td>train_accuracy</td><td>0.88924</td></tr><tr><td>train_loss</td><td>0.03399</td></tr><tr><td>train_time_per_epoch</td><td>17.46136</td></tr><tr><td>val_accuracy</td><td>0.87619</td></tr><tr><td>val_loss</td><td>0.03553</td></tr><tr><td>val_time_per_epoch</td><td>4.62508</td></tr></table><br/></div></div>"
            ]
          },
          "metadata": {}
        },
        {
          "output_type": "display_data",
          "data": {
            "text/plain": [],
            "text/html": [
              "<pre style=\"white-space:pre;overflow-x:auto;line-height:normal;font-family:Menlo,'DejaVu Sans Mono',consolas,'Courier New',monospace\"></pre>\n"
            ]
          },
          "metadata": {}
        },
        {
          "output_type": "display_data",
          "data": {
            "text/plain": [
              "\u001b[1m<\u001b[0m\u001b[1;95mIPython.core.display.HTML\u001b[0m\u001b[39m object\u001b[0m\u001b[1m>\u001b[0m"
            ],
            "text/html": [
              " View run <strong style=\"color:#cdcd00\">valiant-spaceship-1</strong> at: <a href='https://wandb.ai/megatruong/workspace-api-demo/runs/1pitw7pm' target=\"_blank\">https://wandb.ai/megatruong/workspace-api-demo/runs/1pitw7pm</a><br/> View project at: <a href='https://wandb.ai/megatruong/workspace-api-demo' target=\"_blank\">https://wandb.ai/megatruong/workspace-api-demo</a><br/>Synced 4 W&B file(s), 0 media file(s), 4 artifact file(s) and 1 other file(s)"
            ]
          },
          "metadata": {}
        },
        {
          "output_type": "display_data",
          "data": {
            "text/plain": [],
            "text/html": [
              "<pre style=\"white-space:pre;overflow-x:auto;line-height:normal;font-family:Menlo,'DejaVu Sans Mono',consolas,'Courier New',monospace\"></pre>\n"
            ]
          },
          "metadata": {}
        },
        {
          "output_type": "display_data",
          "data": {
            "text/plain": [
              "\u001b[1m<\u001b[0m\u001b[1;95mIPython.core.display.HTML\u001b[0m\u001b[39m object\u001b[0m\u001b[1m>\u001b[0m"
            ],
            "text/html": [
              "Find logs at: <code>./wandb/run-20240520_160231-1pitw7pm/logs</code>"
            ]
          },
          "metadata": {}
        },
        {
          "output_type": "display_data",
          "data": {
            "text/plain": [],
            "text/html": [
              "<pre style=\"white-space:pre;overflow-x:auto;line-height:normal;font-family:Menlo,'DejaVu Sans Mono',consolas,'Courier New',monospace\"></pre>\n"
            ]
          },
          "metadata": {}
        },
        {
          "output_type": "display_data",
          "data": {
            "text/plain": [
              "\u001b[1m<\u001b[0m\u001b[1;95mIPython.core.display.HTML\u001b[0m\u001b[39m object\u001b[0m\u001b[1m>\u001b[0m"
            ],
            "text/html": [
              "Tracking run with wandb version 0.17.1.dev1"
            ]
          },
          "metadata": {}
        },
        {
          "output_type": "display_data",
          "data": {
            "text/plain": [],
            "text/html": [
              "<pre style=\"white-space:pre;overflow-x:auto;line-height:normal;font-family:Menlo,'DejaVu Sans Mono',consolas,'Courier New',monospace\"></pre>\n"
            ]
          },
          "metadata": {}
        },
        {
          "output_type": "display_data",
          "data": {
            "text/plain": [
              "\u001b[1m<\u001b[0m\u001b[1;95mIPython.core.display.HTML\u001b[0m\u001b[39m object\u001b[0m\u001b[1m>\u001b[0m"
            ],
            "text/html": [
              "Run data is saved locally in <code>/content/wandb/run-20240520_160238-yvkevn0m</code>"
            ]
          },
          "metadata": {}
        },
        {
          "output_type": "display_data",
          "data": {
            "text/plain": [],
            "text/html": [
              "<pre style=\"white-space:pre;overflow-x:auto;line-height:normal;font-family:Menlo,'DejaVu Sans Mono',consolas,'Courier New',monospace\"></pre>\n"
            ]
          },
          "metadata": {}
        },
        {
          "output_type": "display_data",
          "data": {
            "text/plain": [
              "\u001b[1m<\u001b[0m\u001b[1;95mIPython.core.display.HTML\u001b[0m\u001b[39m object\u001b[0m\u001b[1m>\u001b[0m"
            ],
            "text/html": [
              "Syncing run <strong><a href='https://wandb.ai/megatruong/workspace-api-demo/runs/yvkevn0m' target=\"_blank\">vocal-dew-2</a></strong> to <a href='https://wandb.ai/megatruong/workspace-api-demo' target=\"_blank\">Weights & Biases</a> (<a href='https://wandb.me/run' target=\"_blank\">docs</a>)<br/>"
            ]
          },
          "metadata": {}
        },
        {
          "output_type": "display_data",
          "data": {
            "text/plain": [],
            "text/html": [
              "<pre style=\"white-space:pre;overflow-x:auto;line-height:normal;font-family:Menlo,'DejaVu Sans Mono',consolas,'Courier New',monospace\"></pre>\n"
            ]
          },
          "metadata": {}
        },
        {
          "output_type": "display_data",
          "data": {
            "text/plain": [
              "\u001b[1m<\u001b[0m\u001b[1;95mIPython.core.display.HTML\u001b[0m\u001b[39m object\u001b[0m\u001b[1m>\u001b[0m"
            ],
            "text/html": [
              " View project at <a href='https://wandb.ai/megatruong/workspace-api-demo' target=\"_blank\">https://wandb.ai/megatruong/workspace-api-demo</a>"
            ]
          },
          "metadata": {}
        },
        {
          "output_type": "display_data",
          "data": {
            "text/plain": [],
            "text/html": [
              "<pre style=\"white-space:pre;overflow-x:auto;line-height:normal;font-family:Menlo,'DejaVu Sans Mono',consolas,'Courier New',monospace\"></pre>\n"
            ]
          },
          "metadata": {}
        },
        {
          "output_type": "display_data",
          "data": {
            "text/plain": [
              "\u001b[1m<\u001b[0m\u001b[1;95mIPython.core.display.HTML\u001b[0m\u001b[39m object\u001b[0m\u001b[1m>\u001b[0m"
            ],
            "text/html": [
              " View run at <a href='https://wandb.ai/megatruong/workspace-api-demo/runs/yvkevn0m' target=\"_blank\">https://wandb.ai/megatruong/workspace-api-demo/runs/yvkevn0m</a>"
            ]
          },
          "metadata": {}
        },
        {
          "output_type": "display_data",
          "data": {
            "text/plain": [
              "VBox(children=(Label(value='0.046 MB of 0.046 MB uploaded\\r'), FloatProgress(value=1.0, max=1.0)))"
            ],
            "application/vnd.jupyter.widget-view+json": {
              "version_major": 2,
              "version_minor": 0,
              "model_id": "c12314cc5f114c079f3b7309f599f4d7"
            }
          },
          "metadata": {}
        },
        {
          "output_type": "display_data",
          "data": {
            "text/plain": [],
            "text/html": [
              "<pre style=\"white-space:pre;overflow-x:auto;line-height:normal;font-family:Menlo,'DejaVu Sans Mono',consolas,'Courier New',monospace\"></pre>\n"
            ]
          },
          "metadata": {}
        },
        {
          "output_type": "display_data",
          "data": {
            "text/plain": [
              "\u001b[1m<\u001b[0m\u001b[1;95mIPython.core.display.HTML\u001b[0m\u001b[39m object\u001b[0m\u001b[1m>\u001b[0m"
            ],
            "text/html": [
              "W&B sync reduced upload amount by 11.9%             "
            ]
          },
          "metadata": {}
        },
        {
          "output_type": "display_data",
          "data": {
            "text/plain": [],
            "text/html": [
              "<pre style=\"white-space:pre;overflow-x:auto;line-height:normal;font-family:Menlo,'DejaVu Sans Mono',consolas,'Courier New',monospace\"></pre>\n"
            ]
          },
          "metadata": {}
        },
        {
          "output_type": "display_data",
          "data": {
            "text/plain": [
              "\u001b[1m<\u001b[0m\u001b[1;95mIPython.core.display.HTML\u001b[0m\u001b[39m object\u001b[0m\u001b[1m>\u001b[0m"
            ],
            "text/html": [
              "<style>\n",
              "    table.wandb td:nth-child(1) { padding: 0 10px; text-align: left ; width: auto;} td:nth-child(2) {text-align: left ; width: 100%}\n",
              "    .wandb-row { display: flex; flex-direction: row; flex-wrap: wrap; justify-content: flex-start; width: 100% }\n",
              "    .wandb-col { display: flex; flex-direction: column; flex-basis: 100%; flex: 1; padding: 10px; }\n",
              "    </style>\n",
              "<div class=\"wandb-row\"><div class=\"wandb-col\"><h3>Run history:</h3><br/><table class=\"wandb\"><tr><td>epoch</td><td>▁▁▁▁▂▂▂▂▂▃▃▃▃▃▃▄▄▄▄▄▅▅▅▅▅▅▆▆▆▆▆▆▇▇▇▇▇███</td></tr><tr><td>f1_score</td><td>█▇▇▆▄▆▃▄▄▄▄▄▂▂▄▃▃▂▄▂▂▁▁▂▂▄▃▂▂▂▃▂▂▁▃▂▃▂▂▃</td></tr><tr><td>learning_rate</td><td>█▇██▇▇▇▇▆▇▅▆▅▆▅▅▄▄▅▄▅▄▄▄▃▄▃▂▃▃▃▂▂▁▂▁▂▁▂▁</td></tr><tr><td>precision</td><td>▇█▆▆▅▃▅▅▄▄▄▄▃▂▂▂▂▃▃▃▂▂▄▃▃▁▁▁▂▂▃▃▃▂▂▁▂▃▃▂</td></tr><tr><td>recall</td><td>█▇▆▆▅▄▅▄▄▄▃▄▄▄▂▃▃▂▂▂▃▂▁▃▃▃▂▃▃▂▂▂▁▂▂▂▂▂▂▃</td></tr><tr><td>train_accuracy</td><td>▁▆▄▃▅▃▄▂▆▄▂▂▄▅▁▅▄▁▃▆▃▅▄▆▆▃▅▆▄▃▅▃▅▄▅█▆▄▂▅</td></tr><tr><td>train_loss</td><td>▇▇█▄▇█▅▅▆▆▅▂▄▂▄▃▄▃▃▁▂▄▃▃▂▃▂▃▃▁▂▂▁▂▂▂▁▃▂▂</td></tr><tr><td>train_time_per_epoch</td><td>▁▆▇▇▄▄▆▄▂▂▄█▃█▇▅▆▆▇▃▆▄▇▃▆▅▅▆▄▂▇▃▄▂▂▄▂▂▃▁</td></tr><tr><td>val_accuracy</td><td>▅▃▆▇▅▇▁▆▆▆▅▆▄█▇▇▆▅▅▅▄▆▄▆▅▆▄▅▅▇▄█▅█▆▅▇▆▇▆</td></tr><tr><td>val_loss</td><td>█▅▄▅▄▃▅▄▂▂▂▃▃▂▂▂▂▂▂▂▃▂▃▁▂▂▂▂▁▂▂▁▂▂▁▂▁▂▂▂</td></tr><tr><td>val_time_per_epoch</td><td>▃▅▄▄▂▆▅▃▂▇▄▄▇▇▅▆█▃▆▇▇▅▃▃▁▂▅▁▃▂▄▂▂▂▅▄▄▃▇▅</td></tr></table><br/></div><div class=\"wandb-col\"><h3>Run summary:</h3><br/><table class=\"wandb\"><tr><td>epoch</td><td>50.0</td></tr><tr><td>f1_score</td><td>0.53253</td></tr><tr><td>learning_rate</td><td>0.00141</td></tr><tr><td>precision</td><td>0.50134</td></tr><tr><td>recall</td><td>0.43323</td></tr><tr><td>train_accuracy</td><td>0.88769</td></tr><tr><td>train_loss</td><td>-0.02211</td></tr><tr><td>train_time_per_epoch</td><td>10.11424</td></tr><tr><td>val_accuracy</td><td>0.7631</td></tr><tr><td>val_loss</td><td>-0.00345</td></tr><tr><td>val_time_per_epoch</td><td>3.51384</td></tr></table><br/></div></div>"
            ]
          },
          "metadata": {}
        },
        {
          "output_type": "display_data",
          "data": {
            "text/plain": [],
            "text/html": [
              "<pre style=\"white-space:pre;overflow-x:auto;line-height:normal;font-family:Menlo,'DejaVu Sans Mono',consolas,'Courier New',monospace\"></pre>\n"
            ]
          },
          "metadata": {}
        },
        {
          "output_type": "display_data",
          "data": {
            "text/plain": [
              "\u001b[1m<\u001b[0m\u001b[1;95mIPython.core.display.HTML\u001b[0m\u001b[39m object\u001b[0m\u001b[1m>\u001b[0m"
            ],
            "text/html": [
              " View run <strong style=\"color:#cdcd00\">vocal-dew-2</strong> at: <a href='https://wandb.ai/megatruong/workspace-api-demo/runs/yvkevn0m' target=\"_blank\">https://wandb.ai/megatruong/workspace-api-demo/runs/yvkevn0m</a><br/> View project at: <a href='https://wandb.ai/megatruong/workspace-api-demo' target=\"_blank\">https://wandb.ai/megatruong/workspace-api-demo</a><br/>Synced 4 W&B file(s), 0 media file(s), 4 artifact file(s) and 1 other file(s)"
            ]
          },
          "metadata": {}
        },
        {
          "output_type": "display_data",
          "data": {
            "text/plain": [],
            "text/html": [
              "<pre style=\"white-space:pre;overflow-x:auto;line-height:normal;font-family:Menlo,'DejaVu Sans Mono',consolas,'Courier New',monospace\"></pre>\n"
            ]
          },
          "metadata": {}
        },
        {
          "output_type": "display_data",
          "data": {
            "text/plain": [
              "\u001b[1m<\u001b[0m\u001b[1;95mIPython.core.display.HTML\u001b[0m\u001b[39m object\u001b[0m\u001b[1m>\u001b[0m"
            ],
            "text/html": [
              "Find logs at: <code>./wandb/run-20240520_160238-yvkevn0m/logs</code>"
            ]
          },
          "metadata": {}
        },
        {
          "output_type": "display_data",
          "data": {
            "text/plain": [],
            "text/html": [
              "<pre style=\"white-space:pre;overflow-x:auto;line-height:normal;font-family:Menlo,'DejaVu Sans Mono',consolas,'Courier New',monospace\"></pre>\n"
            ]
          },
          "metadata": {}
        },
        {
          "output_type": "display_data",
          "data": {
            "text/plain": [
              "\u001b[1m<\u001b[0m\u001b[1;95mIPython.core.display.HTML\u001b[0m\u001b[39m object\u001b[0m\u001b[1m>\u001b[0m"
            ],
            "text/html": [
              "Tracking run with wandb version 0.17.1.dev1"
            ]
          },
          "metadata": {}
        },
        {
          "output_type": "display_data",
          "data": {
            "text/plain": [],
            "text/html": [
              "<pre style=\"white-space:pre;overflow-x:auto;line-height:normal;font-family:Menlo,'DejaVu Sans Mono',consolas,'Courier New',monospace\"></pre>\n"
            ]
          },
          "metadata": {}
        },
        {
          "output_type": "display_data",
          "data": {
            "text/plain": [
              "\u001b[1m<\u001b[0m\u001b[1;95mIPython.core.display.HTML\u001b[0m\u001b[39m object\u001b[0m\u001b[1m>\u001b[0m"
            ],
            "text/html": [
              "Run data is saved locally in <code>/content/wandb/run-20240520_160247-2u1g3j1c</code>"
            ]
          },
          "metadata": {}
        },
        {
          "output_type": "display_data",
          "data": {
            "text/plain": [],
            "text/html": [
              "<pre style=\"white-space:pre;overflow-x:auto;line-height:normal;font-family:Menlo,'DejaVu Sans Mono',consolas,'Courier New',monospace\"></pre>\n"
            ]
          },
          "metadata": {}
        },
        {
          "output_type": "display_data",
          "data": {
            "text/plain": [
              "\u001b[1m<\u001b[0m\u001b[1;95mIPython.core.display.HTML\u001b[0m\u001b[39m object\u001b[0m\u001b[1m>\u001b[0m"
            ],
            "text/html": [
              "Syncing run <strong><a href='https://wandb.ai/megatruong/workspace-api-demo/runs/2u1g3j1c' target=\"_blank\">brisk-vortex-3</a></strong> to <a href='https://wandb.ai/megatruong/workspace-api-demo' target=\"_blank\">Weights & Biases</a> (<a href='https://wandb.me/run' target=\"_blank\">docs</a>)<br/>"
            ]
          },
          "metadata": {}
        },
        {
          "output_type": "display_data",
          "data": {
            "text/plain": [],
            "text/html": [
              "<pre style=\"white-space:pre;overflow-x:auto;line-height:normal;font-family:Menlo,'DejaVu Sans Mono',consolas,'Courier New',monospace\"></pre>\n"
            ]
          },
          "metadata": {}
        },
        {
          "output_type": "display_data",
          "data": {
            "text/plain": [
              "\u001b[1m<\u001b[0m\u001b[1;95mIPython.core.display.HTML\u001b[0m\u001b[39m object\u001b[0m\u001b[1m>\u001b[0m"
            ],
            "text/html": [
              " View project at <a href='https://wandb.ai/megatruong/workspace-api-demo' target=\"_blank\">https://wandb.ai/megatruong/workspace-api-demo</a>"
            ]
          },
          "metadata": {}
        },
        {
          "output_type": "display_data",
          "data": {
            "text/plain": [],
            "text/html": [
              "<pre style=\"white-space:pre;overflow-x:auto;line-height:normal;font-family:Menlo,'DejaVu Sans Mono',consolas,'Courier New',monospace\"></pre>\n"
            ]
          },
          "metadata": {}
        },
        {
          "output_type": "display_data",
          "data": {
            "text/plain": [
              "\u001b[1m<\u001b[0m\u001b[1;95mIPython.core.display.HTML\u001b[0m\u001b[39m object\u001b[0m\u001b[1m>\u001b[0m"
            ],
            "text/html": [
              " View run at <a href='https://wandb.ai/megatruong/workspace-api-demo/runs/2u1g3j1c' target=\"_blank\">https://wandb.ai/megatruong/workspace-api-demo/runs/2u1g3j1c</a>"
            ]
          },
          "metadata": {}
        },
        {
          "output_type": "display_data",
          "data": {
            "text/plain": [
              "VBox(children=(Label(value='0.072 MB of 0.089 MB uploaded (0.009 MB deduped)\\r'), FloatProgress(value=0.805462…"
            ],
            "application/vnd.jupyter.widget-view+json": {
              "version_major": 2,
              "version_minor": 0,
              "model_id": "7698a55e00294ca9be85455e3ee58a04"
            }
          },
          "metadata": {}
        },
        {
          "output_type": "display_data",
          "data": {
            "text/plain": [],
            "text/html": [
              "<pre style=\"white-space:pre;overflow-x:auto;line-height:normal;font-family:Menlo,'DejaVu Sans Mono',consolas,'Courier New',monospace\"></pre>\n"
            ]
          },
          "metadata": {}
        },
        {
          "output_type": "display_data",
          "data": {
            "text/plain": [
              "\u001b[1m<\u001b[0m\u001b[1;95mIPython.core.display.HTML\u001b[0m\u001b[39m object\u001b[0m\u001b[1m>\u001b[0m"
            ],
            "text/html": [
              "W&B sync reduced upload amount by 9.8%             "
            ]
          },
          "metadata": {}
        },
        {
          "output_type": "display_data",
          "data": {
            "text/plain": [],
            "text/html": [
              "<pre style=\"white-space:pre;overflow-x:auto;line-height:normal;font-family:Menlo,'DejaVu Sans Mono',consolas,'Courier New',monospace\"></pre>\n"
            ]
          },
          "metadata": {}
        },
        {
          "output_type": "display_data",
          "data": {
            "text/plain": [
              "\u001b[1m<\u001b[0m\u001b[1;95mIPython.core.display.HTML\u001b[0m\u001b[39m object\u001b[0m\u001b[1m>\u001b[0m"
            ],
            "text/html": [
              "<style>\n",
              "    table.wandb td:nth-child(1) { padding: 0 10px; text-align: left ; width: auto;} td:nth-child(2) {text-align: left ; width: 100%}\n",
              "    .wandb-row { display: flex; flex-direction: row; flex-wrap: wrap; justify-content: flex-start; width: 100% }\n",
              "    .wandb-col { display: flex; flex-direction: column; flex-basis: 100%; flex: 1; padding: 10px; }\n",
              "    </style>\n",
              "<div class=\"wandb-row\"><div class=\"wandb-col\"><h3>Run history:</h3><br/><table class=\"wandb\"><tr><td>epoch</td><td>▁▁▁▁▂▂▂▂▂▃▃▃▃▃▃▄▄▄▄▄▅▅▅▅▅▅▆▆▆▆▆▆▇▇▇▇▇███</td></tr><tr><td>f1_score</td><td>▇█▆▇█▆▄▄▄▄▃▄▃▂▄▂▂▂▂▃▄▁▂▂▂▃▂▃▁▁▂▂▂▃▄▁▃▃▃▁</td></tr><tr><td>learning_rate</td><td>████▇▇▇▇▆▆▆▆▅▆▅▅▅▅▅▅▄▅▄▄▃▃▃▄▃▃▃▂▃▂▂▂▂▁▂▂</td></tr><tr><td>precision</td><td>███▇▆▇▆▆▆▅▅▃▆▃▄▃▄▃▄▄▃▃▅▅▃▄▃▃▃▄▃▃▄▂▄▂▃▁▃▁</td></tr><tr><td>recall</td><td>█▆█▆▅▆▅▅▂▄▄▃▂▂▃▃▃▃▃▃▄▂▂▂▂▂▂▂▂▂▁▃▂▂▃▂▂▄▂▂</td></tr><tr><td>train_accuracy</td><td>▃▂▆▅▃▅▂▄▁▆▆█▄▄▃▆▄▅▇▄▅▆▆▅▄█▃▄▃▇▄▆▂▃█▅▇▅▅▅</td></tr><tr><td>train_loss</td><td>▅█▆▇▅▄▇▄▄▄▃▅▂▃▃▂▂▂▃▂▃▂▃▃▃▁▃▂▃▂▂▂▁▂▂▄▃▃▃▃</td></tr><tr><td>train_time_per_epoch</td><td>▆▆▄▂▂▂▅▆▂▂▇▆▇▃▇▃▅▄▂▁▇▇▅▅▆▃▆█▃▅▂▄▄▂▁▆▃▂▇▅</td></tr><tr><td>val_accuracy</td><td>▃▆▄▁▂▅▆▄▄▄▅▄▇▄▄▆▅▄▄▅▆▆▄▄█▅▆▆▆█▃█▅▄▅▅▆▆▆▅</td></tr><tr><td>val_loss</td><td>▆██▇▇▆▆▆▂▂▄▄▄▃▃▄▃▃▃▃▃▃▂▃▂▁▃▃▃▃▃▁▂▃▂▂▂▂▂▂</td></tr><tr><td>val_time_per_epoch</td><td>▇▃▂▆▆█▃▂▆▂▇▆▄▂▅▇▁▁▇▇▃▂▅▇▅▅▆▆▃▆▄▇▇▆▂▇▂▇▃▄</td></tr></table><br/></div><div class=\"wandb-col\"><h3>Run summary:</h3><br/><table class=\"wandb\"><tr><td>epoch</td><td>50.0</td></tr><tr><td>f1_score</td><td>0.45188</td></tr><tr><td>learning_rate</td><td>0.00157</td></tr><tr><td>precision</td><td>0.36568</td></tr><tr><td>recall</td><td>0.39643</td></tr><tr><td>train_accuracy</td><td>0.87476</td></tr><tr><td>train_loss</td><td>0.05139</td></tr><tr><td>train_time_per_epoch</td><td>16.42312</td></tr><tr><td>val_accuracy</td><td>0.73585</td></tr><tr><td>val_loss</td><td>-0.0226</td></tr><tr><td>val_time_per_epoch</td><td>3.12249</td></tr></table><br/></div></div>"
            ]
          },
          "metadata": {}
        },
        {
          "output_type": "display_data",
          "data": {
            "text/plain": [],
            "text/html": [
              "<pre style=\"white-space:pre;overflow-x:auto;line-height:normal;font-family:Menlo,'DejaVu Sans Mono',consolas,'Courier New',monospace\"></pre>\n"
            ]
          },
          "metadata": {}
        },
        {
          "output_type": "display_data",
          "data": {
            "text/plain": [
              "\u001b[1m<\u001b[0m\u001b[1;95mIPython.core.display.HTML\u001b[0m\u001b[39m object\u001b[0m\u001b[1m>\u001b[0m"
            ],
            "text/html": [
              " View run <strong style=\"color:#cdcd00\">brisk-vortex-3</strong> at: <a href='https://wandb.ai/megatruong/workspace-api-demo/runs/2u1g3j1c' target=\"_blank\">https://wandb.ai/megatruong/workspace-api-demo/runs/2u1g3j1c</a><br/> View project at: <a href='https://wandb.ai/megatruong/workspace-api-demo' target=\"_blank\">https://wandb.ai/megatruong/workspace-api-demo</a><br/>Synced 4 W&B file(s), 0 media file(s), 4 artifact file(s) and 1 other file(s)"
            ]
          },
          "metadata": {}
        },
        {
          "output_type": "display_data",
          "data": {
            "text/plain": [],
            "text/html": [
              "<pre style=\"white-space:pre;overflow-x:auto;line-height:normal;font-family:Menlo,'DejaVu Sans Mono',consolas,'Courier New',monospace\"></pre>\n"
            ]
          },
          "metadata": {}
        },
        {
          "output_type": "display_data",
          "data": {
            "text/plain": [
              "\u001b[1m<\u001b[0m\u001b[1;95mIPython.core.display.HTML\u001b[0m\u001b[39m object\u001b[0m\u001b[1m>\u001b[0m"
            ],
            "text/html": [
              "Find logs at: <code>./wandb/run-20240520_160247-2u1g3j1c/logs</code>"
            ]
          },
          "metadata": {}
        },
        {
          "output_type": "display_data",
          "data": {
            "text/plain": [],
            "text/html": [
              "<pre style=\"white-space:pre;overflow-x:auto;line-height:normal;font-family:Menlo,'DejaVu Sans Mono',consolas,'Courier New',monospace\"></pre>\n"
            ]
          },
          "metadata": {}
        },
        {
          "output_type": "display_data",
          "data": {
            "text/plain": [
              "\u001b[1m<\u001b[0m\u001b[1;95mIPython.core.display.HTML\u001b[0m\u001b[39m object\u001b[0m\u001b[1m>\u001b[0m"
            ],
            "text/html": [
              "Tracking run with wandb version 0.17.1.dev1"
            ]
          },
          "metadata": {}
        },
        {
          "output_type": "display_data",
          "data": {
            "text/plain": [],
            "text/html": [
              "<pre style=\"white-space:pre;overflow-x:auto;line-height:normal;font-family:Menlo,'DejaVu Sans Mono',consolas,'Courier New',monospace\"></pre>\n"
            ]
          },
          "metadata": {}
        },
        {
          "output_type": "display_data",
          "data": {
            "text/plain": [
              "\u001b[1m<\u001b[0m\u001b[1;95mIPython.core.display.HTML\u001b[0m\u001b[39m object\u001b[0m\u001b[1m>\u001b[0m"
            ],
            "text/html": [
              "Run data is saved locally in <code>/content/wandb/run-20240520_160254-1mbku38n</code>"
            ]
          },
          "metadata": {}
        },
        {
          "output_type": "display_data",
          "data": {
            "text/plain": [],
            "text/html": [
              "<pre style=\"white-space:pre;overflow-x:auto;line-height:normal;font-family:Menlo,'DejaVu Sans Mono',consolas,'Courier New',monospace\"></pre>\n"
            ]
          },
          "metadata": {}
        },
        {
          "output_type": "display_data",
          "data": {
            "text/plain": [
              "\u001b[1m<\u001b[0m\u001b[1;95mIPython.core.display.HTML\u001b[0m\u001b[39m object\u001b[0m\u001b[1m>\u001b[0m"
            ],
            "text/html": [
              "Syncing run <strong><a href='https://wandb.ai/megatruong/workspace-api-demo/runs/1mbku38n' target=\"_blank\">smooth-star-4</a></strong> to <a href='https://wandb.ai/megatruong/workspace-api-demo' target=\"_blank\">Weights & Biases</a> (<a href='https://wandb.me/run' target=\"_blank\">docs</a>)<br/>"
            ]
          },
          "metadata": {}
        },
        {
          "output_type": "display_data",
          "data": {
            "text/plain": [],
            "text/html": [
              "<pre style=\"white-space:pre;overflow-x:auto;line-height:normal;font-family:Menlo,'DejaVu Sans Mono',consolas,'Courier New',monospace\"></pre>\n"
            ]
          },
          "metadata": {}
        },
        {
          "output_type": "display_data",
          "data": {
            "text/plain": [
              "\u001b[1m<\u001b[0m\u001b[1;95mIPython.core.display.HTML\u001b[0m\u001b[39m object\u001b[0m\u001b[1m>\u001b[0m"
            ],
            "text/html": [
              " View project at <a href='https://wandb.ai/megatruong/workspace-api-demo' target=\"_blank\">https://wandb.ai/megatruong/workspace-api-demo</a>"
            ]
          },
          "metadata": {}
        },
        {
          "output_type": "display_data",
          "data": {
            "text/plain": [],
            "text/html": [
              "<pre style=\"white-space:pre;overflow-x:auto;line-height:normal;font-family:Menlo,'DejaVu Sans Mono',consolas,'Courier New',monospace\"></pre>\n"
            ]
          },
          "metadata": {}
        },
        {
          "output_type": "display_data",
          "data": {
            "text/plain": [
              "\u001b[1m<\u001b[0m\u001b[1;95mIPython.core.display.HTML\u001b[0m\u001b[39m object\u001b[0m\u001b[1m>\u001b[0m"
            ],
            "text/html": [
              " View run at <a href='https://wandb.ai/megatruong/workspace-api-demo/runs/1mbku38n' target=\"_blank\">https://wandb.ai/megatruong/workspace-api-demo/runs/1mbku38n</a>"
            ]
          },
          "metadata": {}
        },
        {
          "output_type": "display_data",
          "data": {
            "text/plain": [
              "VBox(children=(Label(value='0.077 MB of 0.077 MB uploaded\\r'), FloatProgress(value=1.0, max=1.0)))"
            ],
            "application/vnd.jupyter.widget-view+json": {
              "version_major": 2,
              "version_minor": 0,
              "model_id": "76be3974dd0241ce85aa80ded4b91510"
            }
          },
          "metadata": {}
        },
        {
          "output_type": "display_data",
          "data": {
            "text/plain": [],
            "text/html": [
              "<pre style=\"white-space:pre;overflow-x:auto;line-height:normal;font-family:Menlo,'DejaVu Sans Mono',consolas,'Courier New',monospace\"></pre>\n"
            ]
          },
          "metadata": {}
        },
        {
          "output_type": "display_data",
          "data": {
            "text/plain": [
              "\u001b[1m<\u001b[0m\u001b[1;95mIPython.core.display.HTML\u001b[0m\u001b[39m object\u001b[0m\u001b[1m>\u001b[0m"
            ],
            "text/html": [
              "W&B sync reduced upload amount by 8.4%             "
            ]
          },
          "metadata": {}
        },
        {
          "output_type": "display_data",
          "data": {
            "text/plain": [],
            "text/html": [
              "<pre style=\"white-space:pre;overflow-x:auto;line-height:normal;font-family:Menlo,'DejaVu Sans Mono',consolas,'Courier New',monospace\"></pre>\n"
            ]
          },
          "metadata": {}
        },
        {
          "output_type": "display_data",
          "data": {
            "text/plain": [
              "\u001b[1m<\u001b[0m\u001b[1;95mIPython.core.display.HTML\u001b[0m\u001b[39m object\u001b[0m\u001b[1m>\u001b[0m"
            ],
            "text/html": [
              "<style>\n",
              "    table.wandb td:nth-child(1) { padding: 0 10px; text-align: left ; width: auto;} td:nth-child(2) {text-align: left ; width: 100%}\n",
              "    .wandb-row { display: flex; flex-direction: row; flex-wrap: wrap; justify-content: flex-start; width: 100% }\n",
              "    .wandb-col { display: flex; flex-direction: column; flex-basis: 100%; flex: 1; padding: 10px; }\n",
              "    </style>\n",
              "<div class=\"wandb-row\"><div class=\"wandb-col\"><h3>Run history:</h3><br/><table class=\"wandb\"><tr><td>epoch</td><td>▁▁▁▁▂▂▂▂▂▃▃▃▃▃▃▄▄▄▄▄▅▅▅▅▅▅▆▆▆▆▆▆▇▇▇▇▇███</td></tr><tr><td>f1_score</td><td>▇█▇▆▆▅▅▅▃▆▄▄▄▄▄▅▄▂▃▂▄▂▃▅▃▂▃▁▃▄▃▃▂▂▁▄▃▂▂▃</td></tr><tr><td>learning_rate</td><td>██▇▇▇▇▇▆▆▆▆▆▆▆▅▅▅▅▅▅▄▄▄▄▄▄▃▃▄▃▃▃▂▃▂▂▁▂▁▁</td></tr><tr><td>precision</td><td>███▆▆▆▆▆▄▅▅▄▃▄▄▅▂▃▃▃▁▄▄▃▃▄▃▃▃▃▃▂▃▃▃▂▁▂▃▄</td></tr><tr><td>recall</td><td>█▆▇▇▇▅▆▄▅▄▄▄▄▄▃▃▃▃▃▂▂▂▂▂▂▂▂▃▁▃▂▂▂▂▂▃▁▂▂▃</td></tr><tr><td>train_accuracy</td><td>▃▂▃▄▅▄▃▂▄▄▅▅▄▅▄▅▄▆▇▄█▂▆▄▂▃▆▆▃▆▆▆▁▅▄▆▃▄▄▆</td></tr><tr><td>train_loss</td><td>▄█▇▅▄▅▃▅▅▄▂▅▃▃▂▃▃▂▃▃▂▃▃▂▂▂▃▃▂▃▁▂▂▁▂▃▂▃▂▂</td></tr><tr><td>train_time_per_epoch</td><td>▆▇▇▇▇█▆▄▅▂▅▃▄▅▃▆▆█▇▁▅▄▇▅▂▃▁▅█▁▁█▃▇▄▂▂▄█▅</td></tr><tr><td>val_accuracy</td><td>▁▅▄▄▄▂▅▅▄▃▄▄▅▆▆▅▅▂▇▃▆▄▆▄▆▅▆█▄▆▇▄▂▅▇▇▆▅▆█</td></tr><tr><td>val_loss</td><td>▅█▃▅▃▅▃▄▅▃▃▃▃▂▂▃▂▃▂▂▂▁▂▃▂▂▃▁▂▂▂▂▁▁▂▁▂▁▂▁</td></tr><tr><td>val_time_per_epoch</td><td>▂▆▄▇▇▅▂▅▁▃▆▄▄▄▇▆▆▅▅▆▅█▂▃▆▆▃▂▆▃▃▁█▆▇▆▃▃▂▁</td></tr></table><br/></div><div class=\"wandb-col\"><h3>Run summary:</h3><br/><table class=\"wandb\"><tr><td>epoch</td><td>50.0</td></tr><tr><td>f1_score</td><td>0.56202</td></tr><tr><td>learning_rate</td><td>0.00118</td></tr><tr><td>precision</td><td>0.57611</td></tr><tr><td>recall</td><td>0.45667</td></tr><tr><td>train_accuracy</td><td>0.94749</td></tr><tr><td>train_loss</td><td>0.00335</td></tr><tr><td>train_time_per_epoch</td><td>14.79602</td></tr><tr><td>val_accuracy</td><td>0.87307</td></tr><tr><td>val_loss</td><td>-0.01713</td></tr><tr><td>val_time_per_epoch</td><td>1.89088</td></tr></table><br/></div></div>"
            ]
          },
          "metadata": {}
        },
        {
          "output_type": "display_data",
          "data": {
            "text/plain": [],
            "text/html": [
              "<pre style=\"white-space:pre;overflow-x:auto;line-height:normal;font-family:Menlo,'DejaVu Sans Mono',consolas,'Courier New',monospace\"></pre>\n"
            ]
          },
          "metadata": {}
        },
        {
          "output_type": "display_data",
          "data": {
            "text/plain": [
              "\u001b[1m<\u001b[0m\u001b[1;95mIPython.core.display.HTML\u001b[0m\u001b[39m object\u001b[0m\u001b[1m>\u001b[0m"
            ],
            "text/html": [
              " View run <strong style=\"color:#cdcd00\">smooth-star-4</strong> at: <a href='https://wandb.ai/megatruong/workspace-api-demo/runs/1mbku38n' target=\"_blank\">https://wandb.ai/megatruong/workspace-api-demo/runs/1mbku38n</a><br/> View project at: <a href='https://wandb.ai/megatruong/workspace-api-demo' target=\"_blank\">https://wandb.ai/megatruong/workspace-api-demo</a><br/>Synced 4 W&B file(s), 0 media file(s), 4 artifact file(s) and 1 other file(s)"
            ]
          },
          "metadata": {}
        },
        {
          "output_type": "display_data",
          "data": {
            "text/plain": [],
            "text/html": [
              "<pre style=\"white-space:pre;overflow-x:auto;line-height:normal;font-family:Menlo,'DejaVu Sans Mono',consolas,'Courier New',monospace\"></pre>\n"
            ]
          },
          "metadata": {}
        },
        {
          "output_type": "display_data",
          "data": {
            "text/plain": [
              "\u001b[1m<\u001b[0m\u001b[1;95mIPython.core.display.HTML\u001b[0m\u001b[39m object\u001b[0m\u001b[1m>\u001b[0m"
            ],
            "text/html": [
              "Find logs at: <code>./wandb/run-20240520_160254-1mbku38n/logs</code>"
            ]
          },
          "metadata": {}
        }
      ]
    },
    {
      "cell_type": "markdown",
      "source": [
        "## Load an existing view from a W&B via URL with `ws.Workspace.from_url`"
      ],
      "metadata": {
        "id": "JFfolV7xx7k5"
      }
    },
    {
      "cell_type": "code",
      "source": [
        "workspace = ws.Workspace.from_url(\"https://wandb.ai/wandb/mendeleev?nw=powe7mfn13k\")  # or use your own workspace"
      ],
      "metadata": {
        "id": "zYddylKjYTim"
      },
      "execution_count": null,
      "outputs": []
    },
    {
      "cell_type": "markdown",
      "source": [
        "## Create and save a new workspace with `ws.Workspace`"
      ],
      "metadata": {
        "id": "KpZPhy_Bxw5k"
      }
    },
    {
      "cell_type": "code",
      "source": [
        "workspace = ws.Workspace(\n",
        "  entity=\"megatruong\",\n",
        "  project=PROJECT,\n",
        "  name=\"My amazing workspace\",\n",
        ")"
      ],
      "metadata": {
        "id": "N_yAYDlHx-VC"
      },
      "execution_count": null,
      "outputs": []
    },
    {
      "cell_type": "code",
      "source": [
        "workspace.save()"
      ],
      "metadata": {
        "colab": {
          "base_uri": "https://localhost:8080/",
          "height": 364
        },
        "id": "TcYjuBGd8C3P",
        "outputId": "7d880813-e21f-4eee-b068-90babb5a1f62"
      },
      "execution_count": null,
      "outputs": [
        {
          "output_type": "stream",
          "name": "stderr",
          "text": [
            "\u001b[34m\u001b[1mwandb\u001b[0m: View saved: https://wandb.ai/megatruong/workspace-api-demo?nw=8pyh74u4js3\n"
          ]
        },
        {
          "output_type": "display_data",
          "data": {
            "text/plain": [],
            "text/html": [
              "<pre style=\"white-space:pre;overflow-x:auto;line-height:normal;font-family:Menlo,'DejaVu Sans Mono',consolas,'Courier New',monospace\"></pre>\n"
            ]
          },
          "metadata": {}
        },
        {
          "output_type": "execute_result",
          "data": {
            "text/plain": [
              "\n",
              "\u001b[1;35mWorkspace\u001b[0m\u001b[1m(\u001b[0m\n",
              "    \u001b[33mentity\u001b[0m=\u001b[32m'megatruong'\u001b[0m,\n",
              "    \u001b[33mproject\u001b[0m=\u001b[32m'workspace-api-demo'\u001b[0m,\n",
              "    \u001b[33mname\u001b[0m=\u001b[32m'My amazing workspace'\u001b[0m,\n",
              "    \u001b[33msettings\u001b[0m=\u001b[1;35mWorkspaceSettings\u001b[0m\u001b[1m(\u001b[0m\n",
              "        \u001b[33mx_axis\u001b[0m=\u001b[32m'_step'\u001b[0m,\n",
              "        \u001b[33msmoothing_type\u001b[0m=\u001b[32m'none'\u001b[0m,\n",
              "        \u001b[33msmoothing_weight\u001b[0m=\u001b[1;36m0\u001b[0m,\n",
              "        \u001b[33mignore_outliers\u001b[0m=\u001b[3;91mFalse\u001b[0m,\n",
              "        \u001b[33mremove_legends_from_panels\u001b[0m=\u001b[3;91mFalse\u001b[0m,\n",
              "        \u001b[33mtooltip_number_of_runs\u001b[0m=\u001b[32m'default'\u001b[0m,\n",
              "        \u001b[33mtooltip_color_run_names\u001b[0m=\u001b[3;92mTrue\u001b[0m,\n",
              "        \u001b[33mmax_runs\u001b[0m=\u001b[1;36m10\u001b[0m,\n",
              "        \u001b[33mpoint_visualization_method\u001b[0m=\u001b[32m'bucketing'\u001b[0m,\n",
              "        \u001b[33mauto_expand_panel_search_results\u001b[0m=\u001b[3;91mFalse\u001b[0m\n",
              "    \u001b[1m)\u001b[0m,\n",
              "    \u001b[33mrunset_settings\u001b[0m=\u001b[1;35mRunsetSettings\u001b[0m\u001b[1m(\u001b[0m\u001b[33mregex_query\u001b[0m=\u001b[3;91mFalse\u001b[0m\u001b[1m)\u001b[0m\n",
              "\u001b[1m)\u001b[0m"
            ]
          },
          "metadata": {},
          "execution_count": 8
        }
      ]
    },
    {
      "cell_type": "markdown",
      "source": [
        "## Edit workspaces like a regular python object\n",
        "- Configure `workspace.settings` to change workspace-level configs\n",
        "- Configure `workspace.runset_settings` to filter, group, and sort the project's runs for your view ([see section below](#scrollTo=B2Bd4Yw9AWmJ&line=1&uniqifier=1))\n",
        "- When you're done, save the view with `workspace.save()`"
      ],
      "metadata": {
        "id": "s98DN-kE1A3w"
      }
    },
    {
      "cell_type": "code",
      "source": [
        "workspace.name = \"A perfectly reasonable name for a workspace\"\n",
        "workspace.settings.smoothing_type = \"gaussian\"\n",
        "workspace.settings.smoothing_weight = 20\n",
        "\n",
        "workspace.save()"
      ],
      "metadata": {
        "colab": {
          "base_uri": "https://localhost:8080/",
          "height": 364
        },
        "id": "5uDNOJ4m75vn",
        "outputId": "6d890657-308f-430f-a0dc-b0f7cc5a2e48"
      },
      "execution_count": null,
      "outputs": [
        {
          "output_type": "stream",
          "name": "stderr",
          "text": [
            "\u001b[34m\u001b[1mwandb\u001b[0m: View saved: https://wandb.ai/megatruong/workspace-api-demo?nw=dcvwf4a2ul2\n"
          ]
        },
        {
          "output_type": "display_data",
          "data": {
            "text/plain": [],
            "text/html": [
              "<pre style=\"white-space:pre;overflow-x:auto;line-height:normal;font-family:Menlo,'DejaVu Sans Mono',consolas,'Courier New',monospace\"></pre>\n"
            ]
          },
          "metadata": {}
        },
        {
          "output_type": "execute_result",
          "data": {
            "text/plain": [
              "\n",
              "\u001b[1;35mWorkspace\u001b[0m\u001b[1m(\u001b[0m\n",
              "    \u001b[33mentity\u001b[0m=\u001b[32m'megatruong'\u001b[0m,\n",
              "    \u001b[33mproject\u001b[0m=\u001b[32m'workspace-api-demo'\u001b[0m,\n",
              "    \u001b[33mname\u001b[0m=\u001b[32m'A perfectly reasonable name for a workspace'\u001b[0m,\n",
              "    \u001b[33msettings\u001b[0m=\u001b[1;35mWorkspaceSettings\u001b[0m\u001b[1m(\u001b[0m\n",
              "        \u001b[33mx_axis\u001b[0m=\u001b[32m'_step'\u001b[0m,\n",
              "        \u001b[33msmoothing_type\u001b[0m=\u001b[32m'gaussian'\u001b[0m,\n",
              "        \u001b[33msmoothing_weight\u001b[0m=\u001b[1;36m20\u001b[0m\u001b[1;36m.0\u001b[0m,\n",
              "        \u001b[33mignore_outliers\u001b[0m=\u001b[3;91mFalse\u001b[0m,\n",
              "        \u001b[33mremove_legends_from_panels\u001b[0m=\u001b[3;91mFalse\u001b[0m,\n",
              "        \u001b[33mtooltip_number_of_runs\u001b[0m=\u001b[32m'default'\u001b[0m,\n",
              "        \u001b[33mtooltip_color_run_names\u001b[0m=\u001b[3;92mTrue\u001b[0m,\n",
              "        \u001b[33mmax_runs\u001b[0m=\u001b[1;36m10\u001b[0m,\n",
              "        \u001b[33mpoint_visualization_method\u001b[0m=\u001b[32m'bucketing'\u001b[0m,\n",
              "        \u001b[33mauto_expand_panel_search_results\u001b[0m=\u001b[3;91mFalse\u001b[0m\n",
              "    \u001b[1m)\u001b[0m,\n",
              "    \u001b[33mrunset_settings\u001b[0m=\u001b[1;35mRunsetSettings\u001b[0m\u001b[1m(\u001b[0m\u001b[33mregex_query\u001b[0m=\u001b[3;91mFalse\u001b[0m\u001b[1m)\u001b[0m\n",
              "\u001b[1m)\u001b[0m"
            ]
          },
          "metadata": {},
          "execution_count": 9
        }
      ]
    },
    {
      "cell_type": "markdown",
      "source": [
        "## Add sections to organize workspaces"
      ],
      "metadata": {
        "id": "aEUqy6xL8exa"
      }
    },
    {
      "cell_type": "code",
      "source": [
        "workspace.sections = [\n",
        "    ws.Section(name=\"This 🔥 section\", collapsed=True),\n",
        "    ws.Section(name=\"A section that is 👌\", collapsed=False)\n",
        "]\n",
        "\n",
        "workspace.save()"
      ],
      "metadata": {
        "colab": {
          "base_uri": "https://localhost:8080/",
          "height": 434
        },
        "id": "5RNmYCBn0swp",
        "outputId": "7696d88b-094e-4259-aab9-423a8ef06e99"
      },
      "execution_count": null,
      "outputs": [
        {
          "output_type": "stream",
          "name": "stderr",
          "text": [
            "\u001b[34m\u001b[1mwandb\u001b[0m: View saved: https://wandb.ai/megatruong/workspace-api-demo?nw=3b3i9bickxm\n"
          ]
        },
        {
          "output_type": "display_data",
          "data": {
            "text/plain": [],
            "text/html": [
              "<pre style=\"white-space:pre;overflow-x:auto;line-height:normal;font-family:Menlo,'DejaVu Sans Mono',consolas,'Courier New',monospace\"></pre>\n"
            ]
          },
          "metadata": {}
        },
        {
          "output_type": "execute_result",
          "data": {
            "text/plain": [
              "\n",
              "\u001b[1;35mWorkspace\u001b[0m\u001b[1m(\u001b[0m\n",
              "    \u001b[33mentity\u001b[0m=\u001b[32m'megatruong'\u001b[0m,\n",
              "    \u001b[33mproject\u001b[0m=\u001b[32m'workspace-api-demo'\u001b[0m,\n",
              "    \u001b[33mname\u001b[0m=\u001b[32m'A perfectly reasonable name for a workspace'\u001b[0m,\n",
              "    \u001b[33msections\u001b[0m=\u001b[1m[\u001b[0m\n",
              "        \u001b[1;35mSection\u001b[0m\u001b[1m(\u001b[0m\u001b[33mname\u001b[0m=\u001b[32m'This 🔥 section'\u001b[0m, \u001b[33mcollapsed\u001b[0m=\u001b[3;92mTrue\u001b[0m\u001b[1m)\u001b[0m,\n",
              "        \u001b[1;35mSection\u001b[0m\u001b[1m(\u001b[0m\u001b[33mname\u001b[0m=\u001b[32m'A section that is 👌'\u001b[0m, \u001b[33mcollapsed\u001b[0m=\u001b[3;91mFalse\u001b[0m\u001b[1m)\u001b[0m\n",
              "    \u001b[1m]\u001b[0m,\n",
              "    \u001b[33msettings\u001b[0m=\u001b[1;35mWorkspaceSettings\u001b[0m\u001b[1m(\u001b[0m\n",
              "        \u001b[33mx_axis\u001b[0m=\u001b[32m'_step'\u001b[0m,\n",
              "        \u001b[33msmoothing_type\u001b[0m=\u001b[32m'gaussian'\u001b[0m,\n",
              "        \u001b[33msmoothing_weight\u001b[0m=\u001b[1;36m20\u001b[0m\u001b[1;36m.0\u001b[0m,\n",
              "        \u001b[33mignore_outliers\u001b[0m=\u001b[3;91mFalse\u001b[0m,\n",
              "        \u001b[33mremove_legends_from_panels\u001b[0m=\u001b[3;91mFalse\u001b[0m,\n",
              "        \u001b[33mtooltip_number_of_runs\u001b[0m=\u001b[32m'default'\u001b[0m,\n",
              "        \u001b[33mtooltip_color_run_names\u001b[0m=\u001b[3;92mTrue\u001b[0m,\n",
              "        \u001b[33mmax_runs\u001b[0m=\u001b[1;36m10\u001b[0m,\n",
              "        \u001b[33mpoint_visualization_method\u001b[0m=\u001b[32m'bucketing'\u001b[0m,\n",
              "        \u001b[33mauto_expand_panel_search_results\u001b[0m=\u001b[3;91mFalse\u001b[0m\n",
              "    \u001b[1m)\u001b[0m,\n",
              "    \u001b[33mrunset_settings\u001b[0m=\u001b[1;35mRunsetSettings\u001b[0m\u001b[1m(\u001b[0m\u001b[33mregex_query\u001b[0m=\u001b[3;91mFalse\u001b[0m\u001b[1m)\u001b[0m\n",
              "\u001b[1m)\u001b[0m"
            ]
          },
          "metadata": {},
          "execution_count": 10
        }
      ]
    },
    {
      "cell_type": "markdown",
      "source": [
        "## Add panels to sections to customize your workspace view"
      ],
      "metadata": {
        "id": "UL1u9KjZ9JxR"
      }
    },
    {
      "cell_type": "code",
      "source": [
        "workspace.sections[0].panels = [\n",
        "    wr.LinePlot(x=\"Step\", y=[\"val_loss\"]),\n",
        "    wr.LinePlot(x=\"Step\", y=[\"val_accuracy\"]),\n",
        "]\n",
        "\n",
        "workspace.sections[1].panels = [\n",
        "    wr.ScalarChart(metric=\"f1_score\"),\n",
        "    wr.ScalarChart(metric=\"precision\"),\n",
        "    wr.ScalarChart(metric=\"recall\"),\n",
        "]\n",
        "\n",
        "workspace.save()"
      ],
      "metadata": {
        "colab": {
          "base_uri": "https://localhost:8080/",
          "height": 694
        },
        "id": "hzpMVFna9M_C",
        "outputId": "4a79bcda-ce38-4edd-f0d9-01f7ac99a92a"
      },
      "execution_count": null,
      "outputs": [
        {
          "output_type": "stream",
          "name": "stderr",
          "text": [
            "\u001b[34m\u001b[1mwandb\u001b[0m: View saved: https://wandb.ai/megatruong/workspace-api-demo?nw=pqaabwvqyhe\n"
          ]
        },
        {
          "output_type": "display_data",
          "data": {
            "text/plain": [],
            "text/html": [
              "<pre style=\"white-space:pre;overflow-x:auto;line-height:normal;font-family:Menlo,'DejaVu Sans Mono',consolas,'Courier New',monospace\"></pre>\n"
            ]
          },
          "metadata": {}
        },
        {
          "output_type": "execute_result",
          "data": {
            "text/plain": [
              "\n",
              "\u001b[1;35mWorkspace\u001b[0m\u001b[1m(\u001b[0m\n",
              "    \u001b[33mentity\u001b[0m=\u001b[32m'megatruong'\u001b[0m,\n",
              "    \u001b[33mproject\u001b[0m=\u001b[32m'workspace-api-demo'\u001b[0m,\n",
              "    \u001b[33mname\u001b[0m=\u001b[32m'A perfectly reasonable name for a workspace'\u001b[0m,\n",
              "    \u001b[33msections\u001b[0m=\u001b[1m[\u001b[0m\n",
              "        \u001b[1;35mSection\u001b[0m\u001b[1m(\u001b[0m\n",
              "            \u001b[33mname\u001b[0m=\u001b[32m'This 🔥 section'\u001b[0m,\n",
              "            \u001b[33mpanels\u001b[0m=\u001b[1m[\u001b[0m\n",
              "                \u001b[1;35mLinePlot\u001b[0m\u001b[1m(\u001b[0m\u001b[33mx\u001b[0m=\u001b[32m'Step'\u001b[0m, \u001b[33my\u001b[0m=\u001b[1m[\u001b[0m\u001b[32m'val_loss'\u001b[0m\u001b[1m]\u001b[0m, \u001b[33mlayout\u001b[0m=\u001b[1;35mLayout\u001b[0m\u001b[1m(\u001b[0m\u001b[33mx\u001b[0m=\u001b[1;36m0\u001b[0m, \u001b[33my\u001b[0m=\u001b[1;36m0\u001b[0m, \u001b[33mw\u001b[0m=\u001b[1;36m8\u001b[0m, \u001b[33mh\u001b[0m=\u001b[1;36m6\u001b[0m\u001b[1m)\u001b[0m\u001b[1m)\u001b[0m,\n",
              "                \u001b[1;35mLinePlot\u001b[0m\u001b[1m(\u001b[0m\u001b[33mx\u001b[0m=\u001b[32m'Step'\u001b[0m, \u001b[33my\u001b[0m=\u001b[1m[\u001b[0m\u001b[32m'val_accuracy'\u001b[0m\u001b[1m]\u001b[0m, \u001b[33mlayout\u001b[0m=\u001b[1;35mLayout\u001b[0m\u001b[1m(\u001b[0m\u001b[33mx\u001b[0m=\u001b[1;36m0\u001b[0m, \u001b[33my\u001b[0m=\u001b[1;36m0\u001b[0m, \u001b[33mw\u001b[0m=\u001b[1;36m8\u001b[0m, \u001b[33mh\u001b[0m=\u001b[1;36m6\u001b[0m\u001b[1m)\u001b[0m\u001b[1m)\u001b[0m\n",
              "            \u001b[1m]\u001b[0m,\n",
              "            \u001b[33mcollapsed\u001b[0m=\u001b[3;92mTrue\u001b[0m\n",
              "        \u001b[1m)\u001b[0m,\n",
              "        \u001b[1;35mSection\u001b[0m\u001b[1m(\u001b[0m\n",
              "            \u001b[33mname\u001b[0m=\u001b[32m'A section that is 👌'\u001b[0m,\n",
              "            \u001b[33mpanels\u001b[0m=\u001b[1m[\u001b[0m\n",
              "                \u001b[1;35mScalarChart\u001b[0m\u001b[1m(\u001b[0m\u001b[33mmetric\u001b[0m=\u001b[32m'f1_score'\u001b[0m, \u001b[33mlayout\u001b[0m=\u001b[1;35mLayout\u001b[0m\u001b[1m(\u001b[0m\u001b[33mx\u001b[0m=\u001b[1;36m0\u001b[0m, \u001b[33my\u001b[0m=\u001b[1;36m0\u001b[0m, \u001b[33mw\u001b[0m=\u001b[1;36m8\u001b[0m, \u001b[33mh\u001b[0m=\u001b[1;36m6\u001b[0m\u001b[1m)\u001b[0m\u001b[1m)\u001b[0m,\n",
              "                \u001b[1;35mScalarChart\u001b[0m\u001b[1m(\u001b[0m\u001b[33mmetric\u001b[0m=\u001b[32m'precision'\u001b[0m, \u001b[33mlayout\u001b[0m=\u001b[1;35mLayout\u001b[0m\u001b[1m(\u001b[0m\u001b[33mx\u001b[0m=\u001b[1;36m0\u001b[0m, \u001b[33my\u001b[0m=\u001b[1;36m0\u001b[0m, \u001b[33mw\u001b[0m=\u001b[1;36m8\u001b[0m, \u001b[33mh\u001b[0m=\u001b[1;36m6\u001b[0m\u001b[1m)\u001b[0m\u001b[1m)\u001b[0m,\n",
              "                \u001b[1;35mScalarChart\u001b[0m\u001b[1m(\u001b[0m\u001b[33mmetric\u001b[0m=\u001b[32m'recall'\u001b[0m, \u001b[33mlayout\u001b[0m=\u001b[1;35mLayout\u001b[0m\u001b[1m(\u001b[0m\u001b[33mx\u001b[0m=\u001b[1;36m0\u001b[0m, \u001b[33my\u001b[0m=\u001b[1;36m0\u001b[0m, \u001b[33mw\u001b[0m=\u001b[1;36m8\u001b[0m, \u001b[33mh\u001b[0m=\u001b[1;36m6\u001b[0m\u001b[1m)\u001b[0m\u001b[1m)\u001b[0m\n",
              "            \u001b[1m]\u001b[0m,\n",
              "            \u001b[33mcollapsed\u001b[0m=\u001b[3;91mFalse\u001b[0m\n",
              "        \u001b[1m)\u001b[0m\n",
              "    \u001b[1m]\u001b[0m,\n",
              "    \u001b[33msettings\u001b[0m=\u001b[1;35mWorkspaceSettings\u001b[0m\u001b[1m(\u001b[0m\n",
              "        \u001b[33mx_axis\u001b[0m=\u001b[32m'_step'\u001b[0m,\n",
              "        \u001b[33msmoothing_type\u001b[0m=\u001b[32m'gaussian'\u001b[0m,\n",
              "        \u001b[33msmoothing_weight\u001b[0m=\u001b[1;36m20\u001b[0m\u001b[1;36m.0\u001b[0m,\n",
              "        \u001b[33mignore_outliers\u001b[0m=\u001b[3;91mFalse\u001b[0m,\n",
              "        \u001b[33mremove_legends_from_panels\u001b[0m=\u001b[3;91mFalse\u001b[0m,\n",
              "        \u001b[33mtooltip_number_of_runs\u001b[0m=\u001b[32m'default'\u001b[0m,\n",
              "        \u001b[33mtooltip_color_run_names\u001b[0m=\u001b[3;92mTrue\u001b[0m,\n",
              "        \u001b[33mmax_runs\u001b[0m=\u001b[1;36m10\u001b[0m,\n",
              "        \u001b[33mpoint_visualization_method\u001b[0m=\u001b[32m'bucketing'\u001b[0m,\n",
              "        \u001b[33mauto_expand_panel_search_results\u001b[0m=\u001b[3;91mFalse\u001b[0m\n",
              "    \u001b[1m)\u001b[0m,\n",
              "    \u001b[33mrunset_settings\u001b[0m=\u001b[1;35mRunsetSettings\u001b[0m\u001b[1m(\u001b[0m\u001b[33mregex_query\u001b[0m=\u001b[3;91mFalse\u001b[0m\u001b[1m)\u001b[0m\n",
              "\u001b[1m)\u001b[0m"
            ]
          },
          "metadata": {},
          "execution_count": 11
        }
      ]
    },
    {
      "cell_type": "markdown",
      "source": [
        "## Configure section-level panel configs like layout, axis configs, and smoothing"
      ],
      "metadata": {
        "id": "C5rXeR9vGbRS"
      }
    },
    {
      "cell_type": "code",
      "source": [
        "workspace.sections[0].section_panel_settings = ws.SectionPanelSettings(\n",
        "    columns=5,\n",
        "    rows=3\n",
        ")"
      ],
      "metadata": {
        "id": "dEybewoxGkHz"
      },
      "execution_count": null,
      "outputs": []
    },
    {
      "cell_type": "code",
      "source": [
        "workspace.save()"
      ],
      "metadata": {
        "colab": {
          "base_uri": "https://localhost:8080/",
          "height": 711
        },
        "id": "YheJSsycHChG",
        "outputId": "cf72abe9-4a50-4fd0-b337-b254b2ff7ce5"
      },
      "execution_count": null,
      "outputs": [
        {
          "output_type": "stream",
          "name": "stderr",
          "text": [
            "\u001b[34m\u001b[1mwandb\u001b[0m: View saved: https://wandb.ai/megatruong/workspace-api-demo?nw=afoqtq56mhi\n"
          ]
        },
        {
          "output_type": "display_data",
          "data": {
            "text/plain": [],
            "text/html": [
              "<pre style=\"white-space:pre;overflow-x:auto;line-height:normal;font-family:Menlo,'DejaVu Sans Mono',consolas,'Courier New',monospace\"></pre>\n"
            ]
          },
          "metadata": {}
        },
        {
          "output_type": "execute_result",
          "data": {
            "text/plain": [
              "\n",
              "\u001b[1;35mWorkspace\u001b[0m\u001b[1m(\u001b[0m\n",
              "    \u001b[33mentity\u001b[0m=\u001b[32m'megatruong'\u001b[0m,\n",
              "    \u001b[33mproject\u001b[0m=\u001b[32m'workspace-api-demo'\u001b[0m,\n",
              "    \u001b[33mname\u001b[0m=\u001b[32m'A perfectly reasonable name for a workspace'\u001b[0m,\n",
              "    \u001b[33msections\u001b[0m=\u001b[1m[\u001b[0m\n",
              "        \u001b[1;35mSection\u001b[0m\u001b[1m(\u001b[0m\n",
              "            \u001b[33mname\u001b[0m=\u001b[32m'This 🔥 section'\u001b[0m,\n",
              "            \u001b[33mpanels\u001b[0m=\u001b[1m[\u001b[0m\n",
              "                \u001b[1;35mLinePlot\u001b[0m\u001b[1m(\u001b[0m\u001b[33mx\u001b[0m=\u001b[32m'Step'\u001b[0m, \u001b[33my\u001b[0m=\u001b[1m[\u001b[0m\u001b[32m'val_loss'\u001b[0m\u001b[1m]\u001b[0m, \u001b[33mlayout\u001b[0m=\u001b[1;35mLayout\u001b[0m\u001b[1m(\u001b[0m\u001b[33mx\u001b[0m=\u001b[1;36m0\u001b[0m, \u001b[33my\u001b[0m=\u001b[1;36m0\u001b[0m, \u001b[33mw\u001b[0m=\u001b[1;36m8\u001b[0m, \u001b[33mh\u001b[0m=\u001b[1;36m6\u001b[0m\u001b[1m)\u001b[0m\u001b[1m)\u001b[0m,\n",
              "                \u001b[1;35mLinePlot\u001b[0m\u001b[1m(\u001b[0m\u001b[33mx\u001b[0m=\u001b[32m'Step'\u001b[0m, \u001b[33my\u001b[0m=\u001b[1m[\u001b[0m\u001b[32m'val_accuracy'\u001b[0m\u001b[1m]\u001b[0m, \u001b[33mlayout\u001b[0m=\u001b[1;35mLayout\u001b[0m\u001b[1m(\u001b[0m\u001b[33mx\u001b[0m=\u001b[1;36m0\u001b[0m, \u001b[33my\u001b[0m=\u001b[1;36m0\u001b[0m, \u001b[33mw\u001b[0m=\u001b[1;36m8\u001b[0m, \u001b[33mh\u001b[0m=\u001b[1;36m6\u001b[0m\u001b[1m)\u001b[0m\u001b[1m)\u001b[0m\n",
              "            \u001b[1m]\u001b[0m,\n",
              "            \u001b[33mcollapsed\u001b[0m=\u001b[3;92mTrue\u001b[0m,\n",
              "            \u001b[33msection_panel_settings\u001b[0m=\u001b[1;35mSectionPanelSettings\u001b[0m\u001b[1m(\u001b[0m\u001b[33mlayout\u001b[0m=\u001b[32m'standard'\u001b[0m, \u001b[33mcolumns\u001b[0m=\u001b[1;36m5\u001b[0m, \u001b[33mrows\u001b[0m=\u001b[1;36m3\u001b[0m\u001b[1m)\u001b[0m\n",
              "        \u001b[1m)\u001b[0m,\n",
              "        \u001b[1;35mSection\u001b[0m\u001b[1m(\u001b[0m\n",
              "            \u001b[33mname\u001b[0m=\u001b[32m'A section that is 👌'\u001b[0m,\n",
              "            \u001b[33mpanels\u001b[0m=\u001b[1m[\u001b[0m\n",
              "                \u001b[1;35mScalarChart\u001b[0m\u001b[1m(\u001b[0m\u001b[33mmetric\u001b[0m=\u001b[32m'f1_score'\u001b[0m, \u001b[33mlayout\u001b[0m=\u001b[1;35mLayout\u001b[0m\u001b[1m(\u001b[0m\u001b[33mx\u001b[0m=\u001b[1;36m0\u001b[0m, \u001b[33my\u001b[0m=\u001b[1;36m0\u001b[0m, \u001b[33mw\u001b[0m=\u001b[1;36m8\u001b[0m, \u001b[33mh\u001b[0m=\u001b[1;36m6\u001b[0m\u001b[1m)\u001b[0m\u001b[1m)\u001b[0m,\n",
              "                \u001b[1;35mScalarChart\u001b[0m\u001b[1m(\u001b[0m\u001b[33mmetric\u001b[0m=\u001b[32m'precision'\u001b[0m, \u001b[33mlayout\u001b[0m=\u001b[1;35mLayout\u001b[0m\u001b[1m(\u001b[0m\u001b[33mx\u001b[0m=\u001b[1;36m0\u001b[0m, \u001b[33my\u001b[0m=\u001b[1;36m0\u001b[0m, \u001b[33mw\u001b[0m=\u001b[1;36m8\u001b[0m, \u001b[33mh\u001b[0m=\u001b[1;36m6\u001b[0m\u001b[1m)\u001b[0m\u001b[1m)\u001b[0m,\n",
              "                \u001b[1;35mScalarChart\u001b[0m\u001b[1m(\u001b[0m\u001b[33mmetric\u001b[0m=\u001b[32m'recall'\u001b[0m, \u001b[33mlayout\u001b[0m=\u001b[1;35mLayout\u001b[0m\u001b[1m(\u001b[0m\u001b[33mx\u001b[0m=\u001b[1;36m0\u001b[0m, \u001b[33my\u001b[0m=\u001b[1;36m0\u001b[0m, \u001b[33mw\u001b[0m=\u001b[1;36m8\u001b[0m, \u001b[33mh\u001b[0m=\u001b[1;36m6\u001b[0m\u001b[1m)\u001b[0m\u001b[1m)\u001b[0m\n",
              "            \u001b[1m]\u001b[0m,\n",
              "            \u001b[33mcollapsed\u001b[0m=\u001b[3;91mFalse\u001b[0m\n",
              "        \u001b[1m)\u001b[0m\n",
              "    \u001b[1m]\u001b[0m,\n",
              "    \u001b[33msettings\u001b[0m=\u001b[1;35mWorkspaceSettings\u001b[0m\u001b[1m(\u001b[0m\n",
              "        \u001b[33mx_axis\u001b[0m=\u001b[32m'_step'\u001b[0m,\n",
              "        \u001b[33msmoothing_type\u001b[0m=\u001b[32m'gaussian'\u001b[0m,\n",
              "        \u001b[33msmoothing_weight\u001b[0m=\u001b[1;36m20\u001b[0m\u001b[1;36m.0\u001b[0m,\n",
              "        \u001b[33mignore_outliers\u001b[0m=\u001b[3;91mFalse\u001b[0m,\n",
              "        \u001b[33mremove_legends_from_panels\u001b[0m=\u001b[3;91mFalse\u001b[0m,\n",
              "        \u001b[33mtooltip_number_of_runs\u001b[0m=\u001b[32m'default'\u001b[0m,\n",
              "        \u001b[33mtooltip_color_run_names\u001b[0m=\u001b[3;92mTrue\u001b[0m,\n",
              "        \u001b[33mmax_runs\u001b[0m=\u001b[1;36m10\u001b[0m,\n",
              "        \u001b[33mpoint_visualization_method\u001b[0m=\u001b[32m'bucketing'\u001b[0m,\n",
              "        \u001b[33mauto_expand_panel_search_results\u001b[0m=\u001b[3;91mFalse\u001b[0m\n",
              "    \u001b[1m)\u001b[0m,\n",
              "    \u001b[33mrunset_settings\u001b[0m=\u001b[1;35mRunsetSettings\u001b[0m\u001b[1m(\u001b[0m\u001b[33mregex_query\u001b[0m=\u001b[3;91mFalse\u001b[0m\u001b[1m)\u001b[0m\n",
              "\u001b[1m)\u001b[0m"
            ]
          },
          "metadata": {},
          "execution_count": 13
        }
      ]
    },
    {
      "cell_type": "markdown",
      "source": [
        "## Customize run appearance\n",
        "- Pass a `dict[run_id, RunConfig]` to configure individual runs, including colors and visibility"
      ],
      "metadata": {
        "id": "b6p01QmTCjjG"
      }
    },
    {
      "cell_type": "code",
      "source": [
        "workspace.runset_settings.run_settings = {\n",
        "    \"1pitw7pm\": ws.RunSettings(color=\"red\"),\n",
        "    \"yvkevn0m\": ws.RunSettings(color=\"blue\"),\n",
        "    \"2u1g3j1c\": ws.RunSettings(color=\"green\", disabled=True),\n",
        "    \"1mbku38n\": ws.RunSettings(color=\"#FAC13C\"),\n",
        "}\n",
        "\n",
        "workspace.save()"
      ],
      "metadata": {
        "id": "GsG2URcbDaHE",
        "colab": {
          "base_uri": "https://localhost:8080/",
          "height": 850
        },
        "outputId": "9b4e6f0b-8337-477e-df34-b87b0d0ae287"
      },
      "execution_count": null,
      "outputs": [
        {
          "output_type": "stream",
          "name": "stderr",
          "text": [
            "\u001b[34m\u001b[1mwandb\u001b[0m: View saved: https://wandb.ai/megatruong/workspace-api-demo?nw=tfciz6dg9dh\n"
          ]
        },
        {
          "output_type": "display_data",
          "data": {
            "text/plain": [],
            "text/html": [
              "<pre style=\"white-space:pre;overflow-x:auto;line-height:normal;font-family:Menlo,'DejaVu Sans Mono',consolas,'Courier New',monospace\"></pre>\n"
            ]
          },
          "metadata": {}
        },
        {
          "output_type": "execute_result",
          "data": {
            "text/plain": [
              "\n",
              "\u001b[1;35mWorkspace\u001b[0m\u001b[1m(\u001b[0m\n",
              "    \u001b[33mentity\u001b[0m=\u001b[32m'megatruong'\u001b[0m,\n",
              "    \u001b[33mproject\u001b[0m=\u001b[32m'workspace-api-demo'\u001b[0m,\n",
              "    \u001b[33mname\u001b[0m=\u001b[32m'A perfectly reasonable name for a workspace'\u001b[0m,\n",
              "    \u001b[33msections\u001b[0m=\u001b[1m[\u001b[0m\n",
              "        \u001b[1;35mSection\u001b[0m\u001b[1m(\u001b[0m\n",
              "            \u001b[33mname\u001b[0m=\u001b[32m'This 🔥 section'\u001b[0m,\n",
              "            \u001b[33mpanels\u001b[0m=\u001b[1m[\u001b[0m\n",
              "                \u001b[1;35mLinePlot\u001b[0m\u001b[1m(\u001b[0m\u001b[33mx\u001b[0m=\u001b[32m'Step'\u001b[0m, \u001b[33my\u001b[0m=\u001b[1m[\u001b[0m\u001b[32m'val_loss'\u001b[0m\u001b[1m]\u001b[0m, \u001b[33mlayout\u001b[0m=\u001b[1;35mLayout\u001b[0m\u001b[1m(\u001b[0m\u001b[33mx\u001b[0m=\u001b[1;36m0\u001b[0m, \u001b[33my\u001b[0m=\u001b[1;36m0\u001b[0m, \u001b[33mw\u001b[0m=\u001b[1;36m8\u001b[0m, \u001b[33mh\u001b[0m=\u001b[1;36m6\u001b[0m\u001b[1m)\u001b[0m\u001b[1m)\u001b[0m,\n",
              "                \u001b[1;35mLinePlot\u001b[0m\u001b[1m(\u001b[0m\u001b[33mx\u001b[0m=\u001b[32m'Step'\u001b[0m, \u001b[33my\u001b[0m=\u001b[1m[\u001b[0m\u001b[32m'val_accuracy'\u001b[0m\u001b[1m]\u001b[0m, \u001b[33mlayout\u001b[0m=\u001b[1;35mLayout\u001b[0m\u001b[1m(\u001b[0m\u001b[33mx\u001b[0m=\u001b[1;36m0\u001b[0m, \u001b[33my\u001b[0m=\u001b[1;36m0\u001b[0m, \u001b[33mw\u001b[0m=\u001b[1;36m8\u001b[0m, \u001b[33mh\u001b[0m=\u001b[1;36m6\u001b[0m\u001b[1m)\u001b[0m\u001b[1m)\u001b[0m\n",
              "            \u001b[1m]\u001b[0m,\n",
              "            \u001b[33mcollapsed\u001b[0m=\u001b[3;92mTrue\u001b[0m,\n",
              "            \u001b[33msection_panel_settings\u001b[0m=\u001b[1;35mSectionPanelSettings\u001b[0m\u001b[1m(\u001b[0m\u001b[33mlayout\u001b[0m=\u001b[32m'standard'\u001b[0m, \u001b[33mcolumns\u001b[0m=\u001b[1;36m5\u001b[0m, \u001b[33mrows\u001b[0m=\u001b[1;36m3\u001b[0m\u001b[1m)\u001b[0m\n",
              "        \u001b[1m)\u001b[0m,\n",
              "        \u001b[1;35mSection\u001b[0m\u001b[1m(\u001b[0m\n",
              "            \u001b[33mname\u001b[0m=\u001b[32m'A section that is 👌'\u001b[0m,\n",
              "            \u001b[33mpanels\u001b[0m=\u001b[1m[\u001b[0m\n",
              "                \u001b[1;35mScalarChart\u001b[0m\u001b[1m(\u001b[0m\u001b[33mmetric\u001b[0m=\u001b[32m'f1_score'\u001b[0m, \u001b[33mlayout\u001b[0m=\u001b[1;35mLayout\u001b[0m\u001b[1m(\u001b[0m\u001b[33mx\u001b[0m=\u001b[1;36m0\u001b[0m, \u001b[33my\u001b[0m=\u001b[1;36m0\u001b[0m, \u001b[33mw\u001b[0m=\u001b[1;36m8\u001b[0m, \u001b[33mh\u001b[0m=\u001b[1;36m6\u001b[0m\u001b[1m)\u001b[0m\u001b[1m)\u001b[0m,\n",
              "                \u001b[1;35mScalarChart\u001b[0m\u001b[1m(\u001b[0m\u001b[33mmetric\u001b[0m=\u001b[32m'precision'\u001b[0m, \u001b[33mlayout\u001b[0m=\u001b[1;35mLayout\u001b[0m\u001b[1m(\u001b[0m\u001b[33mx\u001b[0m=\u001b[1;36m0\u001b[0m, \u001b[33my\u001b[0m=\u001b[1;36m0\u001b[0m, \u001b[33mw\u001b[0m=\u001b[1;36m8\u001b[0m, \u001b[33mh\u001b[0m=\u001b[1;36m6\u001b[0m\u001b[1m)\u001b[0m\u001b[1m)\u001b[0m,\n",
              "                \u001b[1;35mScalarChart\u001b[0m\u001b[1m(\u001b[0m\u001b[33mmetric\u001b[0m=\u001b[32m'recall'\u001b[0m, \u001b[33mlayout\u001b[0m=\u001b[1;35mLayout\u001b[0m\u001b[1m(\u001b[0m\u001b[33mx\u001b[0m=\u001b[1;36m0\u001b[0m, \u001b[33my\u001b[0m=\u001b[1;36m0\u001b[0m, \u001b[33mw\u001b[0m=\u001b[1;36m8\u001b[0m, \u001b[33mh\u001b[0m=\u001b[1;36m6\u001b[0m\u001b[1m)\u001b[0m\u001b[1m)\u001b[0m\n",
              "            \u001b[1m]\u001b[0m,\n",
              "            \u001b[33mcollapsed\u001b[0m=\u001b[3;91mFalse\u001b[0m\n",
              "        \u001b[1m)\u001b[0m\n",
              "    \u001b[1m]\u001b[0m,\n",
              "    \u001b[33msettings\u001b[0m=\u001b[1;35mWorkspaceSettings\u001b[0m\u001b[1m(\u001b[0m\n",
              "        \u001b[33mx_axis\u001b[0m=\u001b[32m'_step'\u001b[0m,\n",
              "        \u001b[33msmoothing_type\u001b[0m=\u001b[32m'gaussian'\u001b[0m,\n",
              "        \u001b[33msmoothing_weight\u001b[0m=\u001b[1;36m20\u001b[0m\u001b[1;36m.0\u001b[0m,\n",
              "        \u001b[33mignore_outliers\u001b[0m=\u001b[3;91mFalse\u001b[0m,\n",
              "        \u001b[33mremove_legends_from_panels\u001b[0m=\u001b[3;91mFalse\u001b[0m,\n",
              "        \u001b[33mtooltip_number_of_runs\u001b[0m=\u001b[32m'default'\u001b[0m,\n",
              "        \u001b[33mtooltip_color_run_names\u001b[0m=\u001b[3;92mTrue\u001b[0m,\n",
              "        \u001b[33mmax_runs\u001b[0m=\u001b[1;36m10\u001b[0m,\n",
              "        \u001b[33mpoint_visualization_method\u001b[0m=\u001b[32m'bucketing'\u001b[0m,\n",
              "        \u001b[33mauto_expand_panel_search_results\u001b[0m=\u001b[3;91mFalse\u001b[0m\n",
              "    \u001b[1m)\u001b[0m,\n",
              "    \u001b[33mrunset_settings\u001b[0m=\u001b[1;35mRunsetSettings\u001b[0m\u001b[1m(\u001b[0m\n",
              "        \u001b[33mregex_query\u001b[0m=\u001b[3;91mFalse\u001b[0m,\n",
              "        \u001b[33mrun_settings\u001b[0m=\u001b[1m{\u001b[0m\n",
              "            \u001b[32m'1pitw7pm'\u001b[0m: \u001b[1;35mRunSettings\u001b[0m\u001b[1m(\u001b[0m\u001b[33mcolor\u001b[0m=\u001b[32m'red'\u001b[0m, \u001b[33mdisabled\u001b[0m=\u001b[3;91mFalse\u001b[0m\u001b[1m)\u001b[0m,\n",
              "            \u001b[32m'yvkevn0m'\u001b[0m: \u001b[1;35mRunSettings\u001b[0m\u001b[1m(\u001b[0m\u001b[33mcolor\u001b[0m=\u001b[32m'blue'\u001b[0m, \u001b[33mdisabled\u001b[0m=\u001b[3;91mFalse\u001b[0m\u001b[1m)\u001b[0m,\n",
              "            \u001b[32m'2u1g3j1c'\u001b[0m: \u001b[1;35mRunSettings\u001b[0m\u001b[1m(\u001b[0m\u001b[33mcolor\u001b[0m=\u001b[32m'green'\u001b[0m, \u001b[33mdisabled\u001b[0m=\u001b[3;92mTrue\u001b[0m\u001b[1m)\u001b[0m,\n",
              "            \u001b[32m'1mbku38n'\u001b[0m: \u001b[1;35mRunSettings\u001b[0m\u001b[1m(\u001b[0m\u001b[33mcolor\u001b[0m=\u001b[32m'#FAC13C'\u001b[0m, \u001b[33mdisabled\u001b[0m=\u001b[3;91mFalse\u001b[0m\u001b[1m)\u001b[0m\n",
              "        \u001b[1m}\u001b[0m\n",
              "    \u001b[1m)\u001b[0m\n",
              "\u001b[1m)\u001b[0m"
            ]
          },
          "metadata": {},
          "execution_count": 14
        }
      ]
    },
    {
      "cell_type": "markdown",
      "source": [
        "## Filter, group, and sort your runs programmatically with simple expressions"
      ],
      "metadata": {
        "id": "B2Bd4Yw9AWmJ"
      }
    },
    {
      "cell_type": "markdown",
      "source": [
        "### Filtering\n",
        "- Use python expressions to declare filters\n"
      ],
      "metadata": {
        "id": "KIMyRXjUA6k8"
      }
    },
    {
      "cell_type": "code",
      "source": [
        "#todo: seems to be broken\n",
        "workspace.runset_settings.filters = [\n",
        "    (ws.Metric(\"Name\") != \"smooth-star-4\"),\n",
        "]\n",
        "\n",
        "workspace.save()"
      ],
      "metadata": {
        "colab": {
          "base_uri": "https://localhost:8080/",
          "height": 868
        },
        "id": "bxsZD36BBAs4",
        "outputId": "0ea6965d-4def-4769-d50e-2f62179879c8"
      },
      "execution_count": null,
      "outputs": [
        {
          "output_type": "stream",
          "name": "stderr",
          "text": [
            "\u001b[34m\u001b[1mwandb\u001b[0m: View saved: https://wandb.ai/megatruong/workspace-api-demo?nw=ynjzpbbnnq5\n"
          ]
        },
        {
          "output_type": "display_data",
          "data": {
            "text/plain": [],
            "text/html": [
              "<pre style=\"white-space:pre;overflow-x:auto;line-height:normal;font-family:Menlo,'DejaVu Sans Mono',consolas,'Courier New',monospace\"></pre>\n"
            ]
          },
          "metadata": {}
        },
        {
          "output_type": "execute_result",
          "data": {
            "text/plain": [
              "\n",
              "\u001b[1;35mWorkspace\u001b[0m\u001b[1m(\u001b[0m\n",
              "    \u001b[33mentity\u001b[0m=\u001b[32m'megatruong'\u001b[0m,\n",
              "    \u001b[33mproject\u001b[0m=\u001b[32m'workspace-api-demo'\u001b[0m,\n",
              "    \u001b[33mname\u001b[0m=\u001b[32m'A perfectly reasonable name for a workspace'\u001b[0m,\n",
              "    \u001b[33msections\u001b[0m=\u001b[1m[\u001b[0m\n",
              "        \u001b[1;35mSection\u001b[0m\u001b[1m(\u001b[0m\n",
              "            \u001b[33mname\u001b[0m=\u001b[32m'This 🔥 section'\u001b[0m,\n",
              "            \u001b[33mpanels\u001b[0m=\u001b[1m[\u001b[0m\n",
              "                \u001b[1;35mLinePlot\u001b[0m\u001b[1m(\u001b[0m\u001b[33mx\u001b[0m=\u001b[32m'Step'\u001b[0m, \u001b[33my\u001b[0m=\u001b[1m[\u001b[0m\u001b[32m'val_loss'\u001b[0m\u001b[1m]\u001b[0m, \u001b[33mlayout\u001b[0m=\u001b[1;35mLayout\u001b[0m\u001b[1m(\u001b[0m\u001b[33mx\u001b[0m=\u001b[1;36m0\u001b[0m, \u001b[33my\u001b[0m=\u001b[1;36m0\u001b[0m, \u001b[33mw\u001b[0m=\u001b[1;36m8\u001b[0m, \u001b[33mh\u001b[0m=\u001b[1;36m6\u001b[0m\u001b[1m)\u001b[0m\u001b[1m)\u001b[0m,\n",
              "                \u001b[1;35mLinePlot\u001b[0m\u001b[1m(\u001b[0m\u001b[33mx\u001b[0m=\u001b[32m'Step'\u001b[0m, \u001b[33my\u001b[0m=\u001b[1m[\u001b[0m\u001b[32m'val_accuracy'\u001b[0m\u001b[1m]\u001b[0m, \u001b[33mlayout\u001b[0m=\u001b[1;35mLayout\u001b[0m\u001b[1m(\u001b[0m\u001b[33mx\u001b[0m=\u001b[1;36m0\u001b[0m, \u001b[33my\u001b[0m=\u001b[1;36m0\u001b[0m, \u001b[33mw\u001b[0m=\u001b[1;36m8\u001b[0m, \u001b[33mh\u001b[0m=\u001b[1;36m6\u001b[0m\u001b[1m)\u001b[0m\u001b[1m)\u001b[0m\n",
              "            \u001b[1m]\u001b[0m,\n",
              "            \u001b[33mcollapsed\u001b[0m=\u001b[3;92mTrue\u001b[0m,\n",
              "            \u001b[33msection_panel_settings\u001b[0m=\u001b[1;35mSectionPanelSettings\u001b[0m\u001b[1m(\u001b[0m\u001b[33mlayout\u001b[0m=\u001b[32m'standard'\u001b[0m, \u001b[33mcolumns\u001b[0m=\u001b[1;36m5\u001b[0m, \u001b[33mrows\u001b[0m=\u001b[1;36m3\u001b[0m\u001b[1m)\u001b[0m\n",
              "        \u001b[1m)\u001b[0m,\n",
              "        \u001b[1;35mSection\u001b[0m\u001b[1m(\u001b[0m\n",
              "            \u001b[33mname\u001b[0m=\u001b[32m'A section that is 👌'\u001b[0m,\n",
              "            \u001b[33mpanels\u001b[0m=\u001b[1m[\u001b[0m\n",
              "                \u001b[1;35mScalarChart\u001b[0m\u001b[1m(\u001b[0m\u001b[33mmetric\u001b[0m=\u001b[32m'f1_score'\u001b[0m, \u001b[33mlayout\u001b[0m=\u001b[1;35mLayout\u001b[0m\u001b[1m(\u001b[0m\u001b[33mx\u001b[0m=\u001b[1;36m0\u001b[0m, \u001b[33my\u001b[0m=\u001b[1;36m0\u001b[0m, \u001b[33mw\u001b[0m=\u001b[1;36m8\u001b[0m, \u001b[33mh\u001b[0m=\u001b[1;36m6\u001b[0m\u001b[1m)\u001b[0m\u001b[1m)\u001b[0m,\n",
              "                \u001b[1;35mScalarChart\u001b[0m\u001b[1m(\u001b[0m\u001b[33mmetric\u001b[0m=\u001b[32m'precision'\u001b[0m, \u001b[33mlayout\u001b[0m=\u001b[1;35mLayout\u001b[0m\u001b[1m(\u001b[0m\u001b[33mx\u001b[0m=\u001b[1;36m0\u001b[0m, \u001b[33my\u001b[0m=\u001b[1;36m0\u001b[0m, \u001b[33mw\u001b[0m=\u001b[1;36m8\u001b[0m, \u001b[33mh\u001b[0m=\u001b[1;36m6\u001b[0m\u001b[1m)\u001b[0m\u001b[1m)\u001b[0m,\n",
              "                \u001b[1;35mScalarChart\u001b[0m\u001b[1m(\u001b[0m\u001b[33mmetric\u001b[0m=\u001b[32m'recall'\u001b[0m, \u001b[33mlayout\u001b[0m=\u001b[1;35mLayout\u001b[0m\u001b[1m(\u001b[0m\u001b[33mx\u001b[0m=\u001b[1;36m0\u001b[0m, \u001b[33my\u001b[0m=\u001b[1;36m0\u001b[0m, \u001b[33mw\u001b[0m=\u001b[1;36m8\u001b[0m, \u001b[33mh\u001b[0m=\u001b[1;36m6\u001b[0m\u001b[1m)\u001b[0m\u001b[1m)\u001b[0m\n",
              "            \u001b[1m]\u001b[0m,\n",
              "            \u001b[33mcollapsed\u001b[0m=\u001b[3;91mFalse\u001b[0m\n",
              "        \u001b[1m)\u001b[0m\n",
              "    \u001b[1m]\u001b[0m,\n",
              "    \u001b[33msettings\u001b[0m=\u001b[1;35mWorkspaceSettings\u001b[0m\u001b[1m(\u001b[0m\n",
              "        \u001b[33mx_axis\u001b[0m=\u001b[32m'_step'\u001b[0m,\n",
              "        \u001b[33msmoothing_type\u001b[0m=\u001b[32m'gaussian'\u001b[0m,\n",
              "        \u001b[33msmoothing_weight\u001b[0m=\u001b[1;36m20\u001b[0m\u001b[1;36m.0\u001b[0m,\n",
              "        \u001b[33mignore_outliers\u001b[0m=\u001b[3;91mFalse\u001b[0m,\n",
              "        \u001b[33mremove_legends_from_panels\u001b[0m=\u001b[3;91mFalse\u001b[0m,\n",
              "        \u001b[33mtooltip_number_of_runs\u001b[0m=\u001b[32m'default'\u001b[0m,\n",
              "        \u001b[33mtooltip_color_run_names\u001b[0m=\u001b[3;92mTrue\u001b[0m,\n",
              "        \u001b[33mmax_runs\u001b[0m=\u001b[1;36m10\u001b[0m,\n",
              "        \u001b[33mpoint_visualization_method\u001b[0m=\u001b[32m'bucketing'\u001b[0m,\n",
              "        \u001b[33mauto_expand_panel_search_results\u001b[0m=\u001b[3;91mFalse\u001b[0m\n",
              "    \u001b[1m)\u001b[0m,\n",
              "    \u001b[33mrunset_settings\u001b[0m=\u001b[1;35mRunsetSettings\u001b[0m\u001b[1m(\u001b[0m\n",
              "        \u001b[33mregex_query\u001b[0m=\u001b[3;91mFalse\u001b[0m,\n",
              "        \u001b[33mfilters\u001b[0m=\u001b[1m[\u001b[0m\u001b[1m(\u001b[0m\u001b[1;35mMetric\u001b[0m\u001b[1m(\u001b[0m\u001b[33mname\u001b[0m=\u001b[32m'Name'\u001b[0m\u001b[1m)\u001b[0m != \u001b[32m'smooth-star-4'\u001b[0m\u001b[1m)\u001b[0m\u001b[1m]\u001b[0m,\n",
              "        \u001b[33mrun_settings\u001b[0m=\u001b[1m{\u001b[0m\n",
              "            \u001b[32m'1pitw7pm'\u001b[0m: \u001b[1;35mRunSettings\u001b[0m\u001b[1m(\u001b[0m\u001b[33mcolor\u001b[0m=\u001b[32m'red'\u001b[0m, \u001b[33mdisabled\u001b[0m=\u001b[3;91mFalse\u001b[0m\u001b[1m)\u001b[0m,\n",
              "            \u001b[32m'yvkevn0m'\u001b[0m: \u001b[1;35mRunSettings\u001b[0m\u001b[1m(\u001b[0m\u001b[33mcolor\u001b[0m=\u001b[32m'blue'\u001b[0m, \u001b[33mdisabled\u001b[0m=\u001b[3;91mFalse\u001b[0m\u001b[1m)\u001b[0m,\n",
              "            \u001b[32m'2u1g3j1c'\u001b[0m: \u001b[1;35mRunSettings\u001b[0m\u001b[1m(\u001b[0m\u001b[33mcolor\u001b[0m=\u001b[32m'green'\u001b[0m, \u001b[33mdisabled\u001b[0m=\u001b[3;92mTrue\u001b[0m\u001b[1m)\u001b[0m,\n",
              "            \u001b[32m'1mbku38n'\u001b[0m: \u001b[1;35mRunSettings\u001b[0m\u001b[1m(\u001b[0m\u001b[33mcolor\u001b[0m=\u001b[32m'#FAC13C'\u001b[0m, \u001b[33mdisabled\u001b[0m=\u001b[3;91mFalse\u001b[0m\u001b[1m)\u001b[0m\n",
              "        \u001b[1m}\u001b[0m\n",
              "    \u001b[1m)\u001b[0m\n",
              "\u001b[1m)\u001b[0m"
            ]
          },
          "metadata": {},
          "execution_count": 15
        }
      ]
    },
    {
      "cell_type": "markdown",
      "source": [
        "### Filtering with (regex) query\n",
        "- You can further string-filter runs with `runset_settings.query`\n",
        "- You can also enable regex search for more complex search patterns with `runset_settings.regex_query`"
      ],
      "metadata": {
        "id": "rif7QP6JEsQp"
      }
    },
    {
      "cell_type": "code",
      "source": [
        "workspace.runset_settings.query = \"^v\"\n",
        "workspace.runset_settings.regex_query = True\n",
        "\n",
        "workspace.save()"
      ],
      "metadata": {
        "colab": {
          "base_uri": "https://localhost:8080/",
          "height": 885
        },
        "id": "8p_0cfJLEw_n",
        "outputId": "736e3ee3-dadc-4a70-eb20-39328c332dac"
      },
      "execution_count": null,
      "outputs": [
        {
          "output_type": "stream",
          "name": "stderr",
          "text": [
            "\u001b[34m\u001b[1mwandb\u001b[0m: View saved: https://wandb.ai/megatruong/workspace-api-demo?nw=lwclbknum7o\n"
          ]
        },
        {
          "output_type": "display_data",
          "data": {
            "text/plain": [],
            "text/html": [
              "<pre style=\"white-space:pre;overflow-x:auto;line-height:normal;font-family:Menlo,'DejaVu Sans Mono',consolas,'Courier New',monospace\"></pre>\n"
            ]
          },
          "metadata": {}
        },
        {
          "output_type": "execute_result",
          "data": {
            "text/plain": [
              "\n",
              "\u001b[1;35mWorkspace\u001b[0m\u001b[1m(\u001b[0m\n",
              "    \u001b[33mentity\u001b[0m=\u001b[32m'megatruong'\u001b[0m,\n",
              "    \u001b[33mproject\u001b[0m=\u001b[32m'workspace-api-demo'\u001b[0m,\n",
              "    \u001b[33mname\u001b[0m=\u001b[32m'A perfectly reasonable name for a workspace'\u001b[0m,\n",
              "    \u001b[33msections\u001b[0m=\u001b[1m[\u001b[0m\n",
              "        \u001b[1;35mSection\u001b[0m\u001b[1m(\u001b[0m\n",
              "            \u001b[33mname\u001b[0m=\u001b[32m'This 🔥 section'\u001b[0m,\n",
              "            \u001b[33mpanels\u001b[0m=\u001b[1m[\u001b[0m\n",
              "                \u001b[1;35mLinePlot\u001b[0m\u001b[1m(\u001b[0m\u001b[33mx\u001b[0m=\u001b[32m'Step'\u001b[0m, \u001b[33my\u001b[0m=\u001b[1m[\u001b[0m\u001b[32m'val_loss'\u001b[0m\u001b[1m]\u001b[0m, \u001b[33mlayout\u001b[0m=\u001b[1;35mLayout\u001b[0m\u001b[1m(\u001b[0m\u001b[33mx\u001b[0m=\u001b[1;36m0\u001b[0m, \u001b[33my\u001b[0m=\u001b[1;36m0\u001b[0m, \u001b[33mw\u001b[0m=\u001b[1;36m8\u001b[0m, \u001b[33mh\u001b[0m=\u001b[1;36m6\u001b[0m\u001b[1m)\u001b[0m\u001b[1m)\u001b[0m,\n",
              "                \u001b[1;35mLinePlot\u001b[0m\u001b[1m(\u001b[0m\u001b[33mx\u001b[0m=\u001b[32m'Step'\u001b[0m, \u001b[33my\u001b[0m=\u001b[1m[\u001b[0m\u001b[32m'val_accuracy'\u001b[0m\u001b[1m]\u001b[0m, \u001b[33mlayout\u001b[0m=\u001b[1;35mLayout\u001b[0m\u001b[1m(\u001b[0m\u001b[33mx\u001b[0m=\u001b[1;36m0\u001b[0m, \u001b[33my\u001b[0m=\u001b[1;36m0\u001b[0m, \u001b[33mw\u001b[0m=\u001b[1;36m8\u001b[0m, \u001b[33mh\u001b[0m=\u001b[1;36m6\u001b[0m\u001b[1m)\u001b[0m\u001b[1m)\u001b[0m\n",
              "            \u001b[1m]\u001b[0m,\n",
              "            \u001b[33mcollapsed\u001b[0m=\u001b[3;92mTrue\u001b[0m,\n",
              "            \u001b[33msection_panel_settings\u001b[0m=\u001b[1;35mSectionPanelSettings\u001b[0m\u001b[1m(\u001b[0m\u001b[33mlayout\u001b[0m=\u001b[32m'standard'\u001b[0m, \u001b[33mcolumns\u001b[0m=\u001b[1;36m5\u001b[0m, \u001b[33mrows\u001b[0m=\u001b[1;36m3\u001b[0m\u001b[1m)\u001b[0m\n",
              "        \u001b[1m)\u001b[0m,\n",
              "        \u001b[1;35mSection\u001b[0m\u001b[1m(\u001b[0m\n",
              "            \u001b[33mname\u001b[0m=\u001b[32m'A section that is 👌'\u001b[0m,\n",
              "            \u001b[33mpanels\u001b[0m=\u001b[1m[\u001b[0m\n",
              "                \u001b[1;35mScalarChart\u001b[0m\u001b[1m(\u001b[0m\u001b[33mmetric\u001b[0m=\u001b[32m'f1_score'\u001b[0m, \u001b[33mlayout\u001b[0m=\u001b[1;35mLayout\u001b[0m\u001b[1m(\u001b[0m\u001b[33mx\u001b[0m=\u001b[1;36m0\u001b[0m, \u001b[33my\u001b[0m=\u001b[1;36m0\u001b[0m, \u001b[33mw\u001b[0m=\u001b[1;36m8\u001b[0m, \u001b[33mh\u001b[0m=\u001b[1;36m6\u001b[0m\u001b[1m)\u001b[0m\u001b[1m)\u001b[0m,\n",
              "                \u001b[1;35mScalarChart\u001b[0m\u001b[1m(\u001b[0m\u001b[33mmetric\u001b[0m=\u001b[32m'precision'\u001b[0m, \u001b[33mlayout\u001b[0m=\u001b[1;35mLayout\u001b[0m\u001b[1m(\u001b[0m\u001b[33mx\u001b[0m=\u001b[1;36m0\u001b[0m, \u001b[33my\u001b[0m=\u001b[1;36m0\u001b[0m, \u001b[33mw\u001b[0m=\u001b[1;36m8\u001b[0m, \u001b[33mh\u001b[0m=\u001b[1;36m6\u001b[0m\u001b[1m)\u001b[0m\u001b[1m)\u001b[0m,\n",
              "                \u001b[1;35mScalarChart\u001b[0m\u001b[1m(\u001b[0m\u001b[33mmetric\u001b[0m=\u001b[32m'recall'\u001b[0m, \u001b[33mlayout\u001b[0m=\u001b[1;35mLayout\u001b[0m\u001b[1m(\u001b[0m\u001b[33mx\u001b[0m=\u001b[1;36m0\u001b[0m, \u001b[33my\u001b[0m=\u001b[1;36m0\u001b[0m, \u001b[33mw\u001b[0m=\u001b[1;36m8\u001b[0m, \u001b[33mh\u001b[0m=\u001b[1;36m6\u001b[0m\u001b[1m)\u001b[0m\u001b[1m)\u001b[0m\n",
              "            \u001b[1m]\u001b[0m,\n",
              "            \u001b[33mcollapsed\u001b[0m=\u001b[3;91mFalse\u001b[0m\n",
              "        \u001b[1m)\u001b[0m\n",
              "    \u001b[1m]\u001b[0m,\n",
              "    \u001b[33msettings\u001b[0m=\u001b[1;35mWorkspaceSettings\u001b[0m\u001b[1m(\u001b[0m\n",
              "        \u001b[33mx_axis\u001b[0m=\u001b[32m'_step'\u001b[0m,\n",
              "        \u001b[33msmoothing_type\u001b[0m=\u001b[32m'gaussian'\u001b[0m,\n",
              "        \u001b[33msmoothing_weight\u001b[0m=\u001b[1;36m20\u001b[0m\u001b[1;36m.0\u001b[0m,\n",
              "        \u001b[33mignore_outliers\u001b[0m=\u001b[3;91mFalse\u001b[0m,\n",
              "        \u001b[33mremove_legends_from_panels\u001b[0m=\u001b[3;91mFalse\u001b[0m,\n",
              "        \u001b[33mtooltip_number_of_runs\u001b[0m=\u001b[32m'default'\u001b[0m,\n",
              "        \u001b[33mtooltip_color_run_names\u001b[0m=\u001b[3;92mTrue\u001b[0m,\n",
              "        \u001b[33mmax_runs\u001b[0m=\u001b[1;36m10\u001b[0m,\n",
              "        \u001b[33mpoint_visualization_method\u001b[0m=\u001b[32m'bucketing'\u001b[0m,\n",
              "        \u001b[33mauto_expand_panel_search_results\u001b[0m=\u001b[3;91mFalse\u001b[0m\n",
              "    \u001b[1m)\u001b[0m,\n",
              "    \u001b[33mrunset_settings\u001b[0m=\u001b[1;35mRunsetSettings\u001b[0m\u001b[1m(\u001b[0m\n",
              "        \u001b[33mquery\u001b[0m=\u001b[32m'^v'\u001b[0m,\n",
              "        \u001b[33mregex_query\u001b[0m=\u001b[3;92mTrue\u001b[0m,\n",
              "        \u001b[33mfilters\u001b[0m=\u001b[1m[\u001b[0m\u001b[1m(\u001b[0m\u001b[1;35mMetric\u001b[0m\u001b[1m(\u001b[0m\u001b[33mname\u001b[0m=\u001b[32m'Name'\u001b[0m\u001b[1m)\u001b[0m != \u001b[32m'smooth-star-4'\u001b[0m\u001b[1m)\u001b[0m\u001b[1m]\u001b[0m,\n",
              "        \u001b[33mrun_settings\u001b[0m=\u001b[1m{\u001b[0m\n",
              "            \u001b[32m'1pitw7pm'\u001b[0m: \u001b[1;35mRunSettings\u001b[0m\u001b[1m(\u001b[0m\u001b[33mcolor\u001b[0m=\u001b[32m'red'\u001b[0m, \u001b[33mdisabled\u001b[0m=\u001b[3;91mFalse\u001b[0m\u001b[1m)\u001b[0m,\n",
              "            \u001b[32m'yvkevn0m'\u001b[0m: \u001b[1;35mRunSettings\u001b[0m\u001b[1m(\u001b[0m\u001b[33mcolor\u001b[0m=\u001b[32m'blue'\u001b[0m, \u001b[33mdisabled\u001b[0m=\u001b[3;91mFalse\u001b[0m\u001b[1m)\u001b[0m,\n",
              "            \u001b[32m'2u1g3j1c'\u001b[0m: \u001b[1;35mRunSettings\u001b[0m\u001b[1m(\u001b[0m\u001b[33mcolor\u001b[0m=\u001b[32m'green'\u001b[0m, \u001b[33mdisabled\u001b[0m=\u001b[3;92mTrue\u001b[0m\u001b[1m)\u001b[0m,\n",
              "            \u001b[32m'1mbku38n'\u001b[0m: \u001b[1;35mRunSettings\u001b[0m\u001b[1m(\u001b[0m\u001b[33mcolor\u001b[0m=\u001b[32m'#FAC13C'\u001b[0m, \u001b[33mdisabled\u001b[0m=\u001b[3;91mFalse\u001b[0m\u001b[1m)\u001b[0m\n",
              "        \u001b[1m}\u001b[0m\n",
              "    \u001b[1m)\u001b[0m\n",
              "\u001b[1m)\u001b[0m"
            ]
          },
          "metadata": {},
          "execution_count": 16
        }
      ]
    },
    {
      "cell_type": "markdown",
      "source": [
        "### Grouping"
      ],
      "metadata": {
        "id": "4ej3lfKNA9ME"
      }
    },
    {
      "cell_type": "code",
      "source": [
        "workspace.runset_settings.groupby = [\n",
        "    ws.Metric(\"Name\")\n",
        "]\n",
        "\n",
        "workspace.save()"
      ],
      "metadata": {
        "colab": {
          "base_uri": "https://localhost:8080/",
          "height": 902
        },
        "id": "eTLXkpzdCC-I",
        "outputId": "61e976c4-45f8-4bb3-f072-bdb52f38e89a"
      },
      "execution_count": null,
      "outputs": [
        {
          "output_type": "stream",
          "name": "stderr",
          "text": [
            "\u001b[34m\u001b[1mwandb\u001b[0m: View saved: https://wandb.ai/megatruong/workspace-api-demo?nw=kshwyvgg4wk\n"
          ]
        },
        {
          "output_type": "display_data",
          "data": {
            "text/plain": [],
            "text/html": [
              "<pre style=\"white-space:pre;overflow-x:auto;line-height:normal;font-family:Menlo,'DejaVu Sans Mono',consolas,'Courier New',monospace\"></pre>\n"
            ]
          },
          "metadata": {}
        },
        {
          "output_type": "execute_result",
          "data": {
            "text/plain": [
              "\n",
              "\u001b[1;35mWorkspace\u001b[0m\u001b[1m(\u001b[0m\n",
              "    \u001b[33mentity\u001b[0m=\u001b[32m'megatruong'\u001b[0m,\n",
              "    \u001b[33mproject\u001b[0m=\u001b[32m'workspace-api-demo'\u001b[0m,\n",
              "    \u001b[33mname\u001b[0m=\u001b[32m'A perfectly reasonable name for a workspace'\u001b[0m,\n",
              "    \u001b[33msections\u001b[0m=\u001b[1m[\u001b[0m\n",
              "        \u001b[1;35mSection\u001b[0m\u001b[1m(\u001b[0m\n",
              "            \u001b[33mname\u001b[0m=\u001b[32m'This 🔥 section'\u001b[0m,\n",
              "            \u001b[33mpanels\u001b[0m=\u001b[1m[\u001b[0m\n",
              "                \u001b[1;35mLinePlot\u001b[0m\u001b[1m(\u001b[0m\u001b[33mx\u001b[0m=\u001b[32m'Step'\u001b[0m, \u001b[33my\u001b[0m=\u001b[1m[\u001b[0m\u001b[32m'val_loss'\u001b[0m\u001b[1m]\u001b[0m, \u001b[33mlayout\u001b[0m=\u001b[1;35mLayout\u001b[0m\u001b[1m(\u001b[0m\u001b[33mx\u001b[0m=\u001b[1;36m0\u001b[0m, \u001b[33my\u001b[0m=\u001b[1;36m0\u001b[0m, \u001b[33mw\u001b[0m=\u001b[1;36m8\u001b[0m, \u001b[33mh\u001b[0m=\u001b[1;36m6\u001b[0m\u001b[1m)\u001b[0m\u001b[1m)\u001b[0m,\n",
              "                \u001b[1;35mLinePlot\u001b[0m\u001b[1m(\u001b[0m\u001b[33mx\u001b[0m=\u001b[32m'Step'\u001b[0m, \u001b[33my\u001b[0m=\u001b[1m[\u001b[0m\u001b[32m'val_accuracy'\u001b[0m\u001b[1m]\u001b[0m, \u001b[33mlayout\u001b[0m=\u001b[1;35mLayout\u001b[0m\u001b[1m(\u001b[0m\u001b[33mx\u001b[0m=\u001b[1;36m0\u001b[0m, \u001b[33my\u001b[0m=\u001b[1;36m0\u001b[0m, \u001b[33mw\u001b[0m=\u001b[1;36m8\u001b[0m, \u001b[33mh\u001b[0m=\u001b[1;36m6\u001b[0m\u001b[1m)\u001b[0m\u001b[1m)\u001b[0m\n",
              "            \u001b[1m]\u001b[0m,\n",
              "            \u001b[33mcollapsed\u001b[0m=\u001b[3;92mTrue\u001b[0m,\n",
              "            \u001b[33msection_panel_settings\u001b[0m=\u001b[1;35mSectionPanelSettings\u001b[0m\u001b[1m(\u001b[0m\u001b[33mlayout\u001b[0m=\u001b[32m'standard'\u001b[0m, \u001b[33mcolumns\u001b[0m=\u001b[1;36m5\u001b[0m, \u001b[33mrows\u001b[0m=\u001b[1;36m3\u001b[0m\u001b[1m)\u001b[0m\n",
              "        \u001b[1m)\u001b[0m,\n",
              "        \u001b[1;35mSection\u001b[0m\u001b[1m(\u001b[0m\n",
              "            \u001b[33mname\u001b[0m=\u001b[32m'A section that is 👌'\u001b[0m,\n",
              "            \u001b[33mpanels\u001b[0m=\u001b[1m[\u001b[0m\n",
              "                \u001b[1;35mScalarChart\u001b[0m\u001b[1m(\u001b[0m\u001b[33mmetric\u001b[0m=\u001b[32m'f1_score'\u001b[0m, \u001b[33mlayout\u001b[0m=\u001b[1;35mLayout\u001b[0m\u001b[1m(\u001b[0m\u001b[33mx\u001b[0m=\u001b[1;36m0\u001b[0m, \u001b[33my\u001b[0m=\u001b[1;36m0\u001b[0m, \u001b[33mw\u001b[0m=\u001b[1;36m8\u001b[0m, \u001b[33mh\u001b[0m=\u001b[1;36m6\u001b[0m\u001b[1m)\u001b[0m\u001b[1m)\u001b[0m,\n",
              "                \u001b[1;35mScalarChart\u001b[0m\u001b[1m(\u001b[0m\u001b[33mmetric\u001b[0m=\u001b[32m'precision'\u001b[0m, \u001b[33mlayout\u001b[0m=\u001b[1;35mLayout\u001b[0m\u001b[1m(\u001b[0m\u001b[33mx\u001b[0m=\u001b[1;36m0\u001b[0m, \u001b[33my\u001b[0m=\u001b[1;36m0\u001b[0m, \u001b[33mw\u001b[0m=\u001b[1;36m8\u001b[0m, \u001b[33mh\u001b[0m=\u001b[1;36m6\u001b[0m\u001b[1m)\u001b[0m\u001b[1m)\u001b[0m,\n",
              "                \u001b[1;35mScalarChart\u001b[0m\u001b[1m(\u001b[0m\u001b[33mmetric\u001b[0m=\u001b[32m'recall'\u001b[0m, \u001b[33mlayout\u001b[0m=\u001b[1;35mLayout\u001b[0m\u001b[1m(\u001b[0m\u001b[33mx\u001b[0m=\u001b[1;36m0\u001b[0m, \u001b[33my\u001b[0m=\u001b[1;36m0\u001b[0m, \u001b[33mw\u001b[0m=\u001b[1;36m8\u001b[0m, \u001b[33mh\u001b[0m=\u001b[1;36m6\u001b[0m\u001b[1m)\u001b[0m\u001b[1m)\u001b[0m\n",
              "            \u001b[1m]\u001b[0m,\n",
              "            \u001b[33mcollapsed\u001b[0m=\u001b[3;91mFalse\u001b[0m\n",
              "        \u001b[1m)\u001b[0m\n",
              "    \u001b[1m]\u001b[0m,\n",
              "    \u001b[33msettings\u001b[0m=\u001b[1;35mWorkspaceSettings\u001b[0m\u001b[1m(\u001b[0m\n",
              "        \u001b[33mx_axis\u001b[0m=\u001b[32m'_step'\u001b[0m,\n",
              "        \u001b[33msmoothing_type\u001b[0m=\u001b[32m'gaussian'\u001b[0m,\n",
              "        \u001b[33msmoothing_weight\u001b[0m=\u001b[1;36m20\u001b[0m\u001b[1;36m.0\u001b[0m,\n",
              "        \u001b[33mignore_outliers\u001b[0m=\u001b[3;91mFalse\u001b[0m,\n",
              "        \u001b[33mremove_legends_from_panels\u001b[0m=\u001b[3;91mFalse\u001b[0m,\n",
              "        \u001b[33mtooltip_number_of_runs\u001b[0m=\u001b[32m'default'\u001b[0m,\n",
              "        \u001b[33mtooltip_color_run_names\u001b[0m=\u001b[3;92mTrue\u001b[0m,\n",
              "        \u001b[33mmax_runs\u001b[0m=\u001b[1;36m10\u001b[0m,\n",
              "        \u001b[33mpoint_visualization_method\u001b[0m=\u001b[32m'bucketing'\u001b[0m,\n",
              "        \u001b[33mauto_expand_panel_search_results\u001b[0m=\u001b[3;91mFalse\u001b[0m\n",
              "    \u001b[1m)\u001b[0m,\n",
              "    \u001b[33mrunset_settings\u001b[0m=\u001b[1;35mRunsetSettings\u001b[0m\u001b[1m(\u001b[0m\n",
              "        \u001b[33mquery\u001b[0m=\u001b[32m'^v'\u001b[0m,\n",
              "        \u001b[33mregex_query\u001b[0m=\u001b[3;92mTrue\u001b[0m,\n",
              "        \u001b[33mfilters\u001b[0m=\u001b[1m[\u001b[0m\u001b[1m(\u001b[0m\u001b[1;35mMetric\u001b[0m\u001b[1m(\u001b[0m\u001b[33mname\u001b[0m=\u001b[32m'Name'\u001b[0m\u001b[1m)\u001b[0m != \u001b[32m'smooth-star-4'\u001b[0m\u001b[1m)\u001b[0m\u001b[1m]\u001b[0m,\n",
              "        \u001b[33mgroupby\u001b[0m=\u001b[1m[\u001b[0m\u001b[1;35mMetric\u001b[0m\u001b[1m(\u001b[0m\u001b[33mname\u001b[0m=\u001b[32m'Name'\u001b[0m\u001b[1m)\u001b[0m\u001b[1m]\u001b[0m,\n",
              "        \u001b[33mrun_settings\u001b[0m=\u001b[1m{\u001b[0m\n",
              "            \u001b[32m'1pitw7pm'\u001b[0m: \u001b[1;35mRunSettings\u001b[0m\u001b[1m(\u001b[0m\u001b[33mcolor\u001b[0m=\u001b[32m'red'\u001b[0m, \u001b[33mdisabled\u001b[0m=\u001b[3;91mFalse\u001b[0m\u001b[1m)\u001b[0m,\n",
              "            \u001b[32m'yvkevn0m'\u001b[0m: \u001b[1;35mRunSettings\u001b[0m\u001b[1m(\u001b[0m\u001b[33mcolor\u001b[0m=\u001b[32m'blue'\u001b[0m, \u001b[33mdisabled\u001b[0m=\u001b[3;91mFalse\u001b[0m\u001b[1m)\u001b[0m,\n",
              "            \u001b[32m'2u1g3j1c'\u001b[0m: \u001b[1;35mRunSettings\u001b[0m\u001b[1m(\u001b[0m\u001b[33mcolor\u001b[0m=\u001b[32m'green'\u001b[0m, \u001b[33mdisabled\u001b[0m=\u001b[3;92mTrue\u001b[0m\u001b[1m)\u001b[0m,\n",
              "            \u001b[32m'1mbku38n'\u001b[0m: \u001b[1;35mRunSettings\u001b[0m\u001b[1m(\u001b[0m\u001b[33mcolor\u001b[0m=\u001b[32m'#FAC13C'\u001b[0m, \u001b[33mdisabled\u001b[0m=\u001b[3;91mFalse\u001b[0m\u001b[1m)\u001b[0m\n",
              "        \u001b[1m}\u001b[0m\n",
              "    \u001b[1m)\u001b[0m\n",
              "\u001b[1m)\u001b[0m"
            ]
          },
          "metadata": {},
          "execution_count": 17
        }
      ]
    },
    {
      "cell_type": "markdown",
      "source": [
        "### Sorting"
      ],
      "metadata": {
        "id": "QZx6LAE-A-t9"
      }
    },
    {
      "cell_type": "code",
      "source": [
        "workspace.runset_settings.order = [\n",
        "    ws.Ordering(ws.Metric(\"Name\"))\n",
        "]\n",
        "\n",
        "workspace.save()"
      ],
      "metadata": {
        "colab": {
          "base_uri": "https://localhost:8080/",
          "height": 920
        },
        "id": "Y0fv6lLyCNHX",
        "outputId": "9f289169-7601-4ec8-d218-109e308b029f"
      },
      "execution_count": null,
      "outputs": [
        {
          "output_type": "stream",
          "name": "stderr",
          "text": [
            "\u001b[34m\u001b[1mwandb\u001b[0m: View saved: https://wandb.ai/megatruong/workspace-api-demo?nw=hol3euhevi9\n"
          ]
        },
        {
          "output_type": "display_data",
          "data": {
            "text/plain": [],
            "text/html": [
              "<pre style=\"white-space:pre;overflow-x:auto;line-height:normal;font-family:Menlo,'DejaVu Sans Mono',consolas,'Courier New',monospace\"></pre>\n"
            ]
          },
          "metadata": {}
        },
        {
          "output_type": "execute_result",
          "data": {
            "text/plain": [
              "\n",
              "\u001b[1;35mWorkspace\u001b[0m\u001b[1m(\u001b[0m\n",
              "    \u001b[33mentity\u001b[0m=\u001b[32m'megatruong'\u001b[0m,\n",
              "    \u001b[33mproject\u001b[0m=\u001b[32m'workspace-api-demo'\u001b[0m,\n",
              "    \u001b[33mname\u001b[0m=\u001b[32m'A perfectly reasonable name for a workspace'\u001b[0m,\n",
              "    \u001b[33msections\u001b[0m=\u001b[1m[\u001b[0m\n",
              "        \u001b[1;35mSection\u001b[0m\u001b[1m(\u001b[0m\n",
              "            \u001b[33mname\u001b[0m=\u001b[32m'This 🔥 section'\u001b[0m,\n",
              "            \u001b[33mpanels\u001b[0m=\u001b[1m[\u001b[0m\n",
              "                \u001b[1;35mLinePlot\u001b[0m\u001b[1m(\u001b[0m\u001b[33mx\u001b[0m=\u001b[32m'Step'\u001b[0m, \u001b[33my\u001b[0m=\u001b[1m[\u001b[0m\u001b[32m'val_loss'\u001b[0m\u001b[1m]\u001b[0m, \u001b[33mlayout\u001b[0m=\u001b[1;35mLayout\u001b[0m\u001b[1m(\u001b[0m\u001b[33mx\u001b[0m=\u001b[1;36m0\u001b[0m, \u001b[33my\u001b[0m=\u001b[1;36m0\u001b[0m, \u001b[33mw\u001b[0m=\u001b[1;36m8\u001b[0m, \u001b[33mh\u001b[0m=\u001b[1;36m6\u001b[0m\u001b[1m)\u001b[0m\u001b[1m)\u001b[0m,\n",
              "                \u001b[1;35mLinePlot\u001b[0m\u001b[1m(\u001b[0m\u001b[33mx\u001b[0m=\u001b[32m'Step'\u001b[0m, \u001b[33my\u001b[0m=\u001b[1m[\u001b[0m\u001b[32m'val_accuracy'\u001b[0m\u001b[1m]\u001b[0m, \u001b[33mlayout\u001b[0m=\u001b[1;35mLayout\u001b[0m\u001b[1m(\u001b[0m\u001b[33mx\u001b[0m=\u001b[1;36m0\u001b[0m, \u001b[33my\u001b[0m=\u001b[1;36m0\u001b[0m, \u001b[33mw\u001b[0m=\u001b[1;36m8\u001b[0m, \u001b[33mh\u001b[0m=\u001b[1;36m6\u001b[0m\u001b[1m)\u001b[0m\u001b[1m)\u001b[0m\n",
              "            \u001b[1m]\u001b[0m,\n",
              "            \u001b[33mcollapsed\u001b[0m=\u001b[3;92mTrue\u001b[0m,\n",
              "            \u001b[33msection_panel_settings\u001b[0m=\u001b[1;35mSectionPanelSettings\u001b[0m\u001b[1m(\u001b[0m\u001b[33mlayout\u001b[0m=\u001b[32m'standard'\u001b[0m, \u001b[33mcolumns\u001b[0m=\u001b[1;36m5\u001b[0m, \u001b[33mrows\u001b[0m=\u001b[1;36m3\u001b[0m\u001b[1m)\u001b[0m\n",
              "        \u001b[1m)\u001b[0m,\n",
              "        \u001b[1;35mSection\u001b[0m\u001b[1m(\u001b[0m\n",
              "            \u001b[33mname\u001b[0m=\u001b[32m'A section that is 👌'\u001b[0m,\n",
              "            \u001b[33mpanels\u001b[0m=\u001b[1m[\u001b[0m\n",
              "                \u001b[1;35mScalarChart\u001b[0m\u001b[1m(\u001b[0m\u001b[33mmetric\u001b[0m=\u001b[32m'f1_score'\u001b[0m, \u001b[33mlayout\u001b[0m=\u001b[1;35mLayout\u001b[0m\u001b[1m(\u001b[0m\u001b[33mx\u001b[0m=\u001b[1;36m0\u001b[0m, \u001b[33my\u001b[0m=\u001b[1;36m0\u001b[0m, \u001b[33mw\u001b[0m=\u001b[1;36m8\u001b[0m, \u001b[33mh\u001b[0m=\u001b[1;36m6\u001b[0m\u001b[1m)\u001b[0m\u001b[1m)\u001b[0m,\n",
              "                \u001b[1;35mScalarChart\u001b[0m\u001b[1m(\u001b[0m\u001b[33mmetric\u001b[0m=\u001b[32m'precision'\u001b[0m, \u001b[33mlayout\u001b[0m=\u001b[1;35mLayout\u001b[0m\u001b[1m(\u001b[0m\u001b[33mx\u001b[0m=\u001b[1;36m0\u001b[0m, \u001b[33my\u001b[0m=\u001b[1;36m0\u001b[0m, \u001b[33mw\u001b[0m=\u001b[1;36m8\u001b[0m, \u001b[33mh\u001b[0m=\u001b[1;36m6\u001b[0m\u001b[1m)\u001b[0m\u001b[1m)\u001b[0m,\n",
              "                \u001b[1;35mScalarChart\u001b[0m\u001b[1m(\u001b[0m\u001b[33mmetric\u001b[0m=\u001b[32m'recall'\u001b[0m, \u001b[33mlayout\u001b[0m=\u001b[1;35mLayout\u001b[0m\u001b[1m(\u001b[0m\u001b[33mx\u001b[0m=\u001b[1;36m0\u001b[0m, \u001b[33my\u001b[0m=\u001b[1;36m0\u001b[0m, \u001b[33mw\u001b[0m=\u001b[1;36m8\u001b[0m, \u001b[33mh\u001b[0m=\u001b[1;36m6\u001b[0m\u001b[1m)\u001b[0m\u001b[1m)\u001b[0m\n",
              "            \u001b[1m]\u001b[0m,\n",
              "            \u001b[33mcollapsed\u001b[0m=\u001b[3;91mFalse\u001b[0m\n",
              "        \u001b[1m)\u001b[0m\n",
              "    \u001b[1m]\u001b[0m,\n",
              "    \u001b[33msettings\u001b[0m=\u001b[1;35mWorkspaceSettings\u001b[0m\u001b[1m(\u001b[0m\n",
              "        \u001b[33mx_axis\u001b[0m=\u001b[32m'_step'\u001b[0m,\n",
              "        \u001b[33msmoothing_type\u001b[0m=\u001b[32m'gaussian'\u001b[0m,\n",
              "        \u001b[33msmoothing_weight\u001b[0m=\u001b[1;36m20\u001b[0m\u001b[1;36m.0\u001b[0m,\n",
              "        \u001b[33mignore_outliers\u001b[0m=\u001b[3;91mFalse\u001b[0m,\n",
              "        \u001b[33mremove_legends_from_panels\u001b[0m=\u001b[3;91mFalse\u001b[0m,\n",
              "        \u001b[33mtooltip_number_of_runs\u001b[0m=\u001b[32m'default'\u001b[0m,\n",
              "        \u001b[33mtooltip_color_run_names\u001b[0m=\u001b[3;92mTrue\u001b[0m,\n",
              "        \u001b[33mmax_runs\u001b[0m=\u001b[1;36m10\u001b[0m,\n",
              "        \u001b[33mpoint_visualization_method\u001b[0m=\u001b[32m'bucketing'\u001b[0m,\n",
              "        \u001b[33mauto_expand_panel_search_results\u001b[0m=\u001b[3;91mFalse\u001b[0m\n",
              "    \u001b[1m)\u001b[0m,\n",
              "    \u001b[33mrunset_settings\u001b[0m=\u001b[1;35mRunsetSettings\u001b[0m\u001b[1m(\u001b[0m\n",
              "        \u001b[33mquery\u001b[0m=\u001b[32m'^v'\u001b[0m,\n",
              "        \u001b[33mregex_query\u001b[0m=\u001b[3;92mTrue\u001b[0m,\n",
              "        \u001b[33mfilters\u001b[0m=\u001b[1m[\u001b[0m\u001b[1m(\u001b[0m\u001b[1;35mMetric\u001b[0m\u001b[1m(\u001b[0m\u001b[33mname\u001b[0m=\u001b[32m'Name'\u001b[0m\u001b[1m)\u001b[0m != \u001b[32m'smooth-star-4'\u001b[0m\u001b[1m)\u001b[0m\u001b[1m]\u001b[0m,\n",
              "        \u001b[33mgroupby\u001b[0m=\u001b[1m[\u001b[0m\u001b[1;35mMetric\u001b[0m\u001b[1m(\u001b[0m\u001b[33mname\u001b[0m=\u001b[32m'Name'\u001b[0m\u001b[1m)\u001b[0m\u001b[1m]\u001b[0m,\n",
              "        \u001b[33morder\u001b[0m=\u001b[1m[\u001b[0m\u001b[1;35mOrdering\u001b[0m\u001b[1m(\u001b[0m\u001b[33mitem\u001b[0m=\u001b[1;35mMetric\u001b[0m\u001b[1m(\u001b[0m\u001b[33mname\u001b[0m=\u001b[32m'Name'\u001b[0m\u001b[1m)\u001b[0m, \u001b[33mascending\u001b[0m=\u001b[3;92mTrue\u001b[0m\u001b[1m)\u001b[0m\u001b[1m]\u001b[0m,\n",
              "        \u001b[33mrun_settings\u001b[0m=\u001b[1m{\u001b[0m\n",
              "            \u001b[32m'1pitw7pm'\u001b[0m: \u001b[1;35mRunSettings\u001b[0m\u001b[1m(\u001b[0m\u001b[33mcolor\u001b[0m=\u001b[32m'red'\u001b[0m, \u001b[33mdisabled\u001b[0m=\u001b[3;91mFalse\u001b[0m\u001b[1m)\u001b[0m,\n",
              "            \u001b[32m'yvkevn0m'\u001b[0m: \u001b[1;35mRunSettings\u001b[0m\u001b[1m(\u001b[0m\u001b[33mcolor\u001b[0m=\u001b[32m'blue'\u001b[0m, \u001b[33mdisabled\u001b[0m=\u001b[3;91mFalse\u001b[0m\u001b[1m)\u001b[0m,\n",
              "            \u001b[32m'2u1g3j1c'\u001b[0m: \u001b[1;35mRunSettings\u001b[0m\u001b[1m(\u001b[0m\u001b[33mcolor\u001b[0m=\u001b[32m'green'\u001b[0m, \u001b[33mdisabled\u001b[0m=\u001b[3;92mTrue\u001b[0m\u001b[1m)\u001b[0m,\n",
              "            \u001b[32m'1mbku38n'\u001b[0m: \u001b[1;35mRunSettings\u001b[0m\u001b[1m(\u001b[0m\u001b[33mcolor\u001b[0m=\u001b[32m'#FAC13C'\u001b[0m, \u001b[33mdisabled\u001b[0m=\u001b[3;91mFalse\u001b[0m\u001b[1m)\u001b[0m\n",
              "        \u001b[1m}\u001b[0m\n",
              "    \u001b[1m)\u001b[0m\n",
              "\u001b[1m)\u001b[0m"
            ]
          },
          "metadata": {},
          "execution_count": 18
        }
      ]
    },
    {
      "cell_type": "markdown",
      "source": [
        "# Other interesting features"
      ],
      "metadata": {
        "id": "Ee77rkhe2y5o"
      }
    },
    {
      "cell_type": "markdown",
      "source": [
        "## WIP: You can copy-paste any workspace repr to regenerate the exact workspace view.\n",
        "- Try copying any of the workspaces above!\n",
        "- Sorry, this example is currently broken because of namespace collisions.  It is a property I want though -- then you can just copy the repr directly into other workspace code!"
      ],
      "metadata": {
        "id": "zFnWMKB_-pPJ"
      }
    },
    {
      "cell_type": "code",
      "source": [
        "# # just need this for the eval\n",
        "# from wandb.apis.workspaces import *\n",
        "# from wandb.apis.reports.v2 import *\n",
        "\n",
        "# evaled = eval(repr(workspace))\n",
        "\n",
        "# # the internal name is auto-generated and will be different, so we fix them for this example\n",
        "# evaled._internal_name = workspace._internal_name"
      ],
      "metadata": {
        "id": "JtZBFNsZ-7c3"
      },
      "execution_count": null,
      "outputs": []
    },
    {
      "cell_type": "code",
      "source": [
        "# evaled == workspace"
      ],
      "metadata": {
        "id": "gjwKgStm_AlW"
      },
      "execution_count": null,
      "outputs": []
    },
    {
      "cell_type": "markdown",
      "source": [
        "## See all settings available\n",
        "- Some objects have hidden reprs to control verbosity.  This may be removed in future depending on feedback\n",
        "- For now, you can use `ws.{SettingName}??` to see the docs; or\n",
        "- Use tab complete"
      ],
      "metadata": {
        "id": "trYOsObnSIwK"
      }
    },
    {
      "cell_type": "code",
      "source": [
        "all_settings_objects = [x for x in dir(ws) if isinstance(getattr(ws, x), type)]\n",
        "all_settings_objects"
      ],
      "metadata": {
        "colab": {
          "base_uri": "https://localhost:8080/",
          "height": 260
        },
        "id": "QgrWFi3sSLGN",
        "outputId": "f4ee1d0a-0c54-4467-a83e-6fd89ed199a0"
      },
      "execution_count": null,
      "outputs": [
        {
          "output_type": "display_data",
          "data": {
            "text/plain": [],
            "text/html": [
              "<pre style=\"white-space:pre;overflow-x:auto;line-height:normal;font-family:Menlo,'DejaVu Sans Mono',consolas,'Courier New',monospace\"></pre>\n"
            ]
          },
          "metadata": {}
        },
        {
          "output_type": "execute_result",
          "data": {
            "text/plain": [
              "\n",
              "\u001b[1m[\u001b[0m\n",
              "    \u001b[32m'Config'\u001b[0m,\n",
              "    \u001b[32m'Metric'\u001b[0m,\n",
              "    \u001b[32m'Ordering'\u001b[0m,\n",
              "    \u001b[32m'RunSettings'\u001b[0m,\n",
              "    \u001b[32m'RunsetSettings'\u001b[0m,\n",
              "    \u001b[32m'Section'\u001b[0m,\n",
              "    \u001b[32m'SectionPanelSettings'\u001b[0m,\n",
              "    \u001b[32m'Summary'\u001b[0m,\n",
              "    \u001b[32m'Tags'\u001b[0m,\n",
              "    \u001b[32m'Workspace'\u001b[0m,\n",
              "    \u001b[32m'WorkspaceSettings'\u001b[0m\n",
              "\u001b[1m]\u001b[0m"
            ]
          },
          "metadata": {},
          "execution_count": 21
        }
      ]
    },
    {
      "cell_type": "code",
      "source": [
        "ws.Workspace??"
      ],
      "metadata": {
        "id": "0gsbBkajSVbr"
      },
      "execution_count": null,
      "outputs": []
    },
    {
      "cell_type": "markdown",
      "source": [
        "## See a full example of a workspace"
      ],
      "metadata": {
        "id": "j1bv_JKX_pmP"
      }
    },
    {
      "cell_type": "code",
      "source": [
        "workspace = ws.Workspace(\n",
        "    entity=\"megatruong\",\n",
        "    project=\"workspace-api3\",\n",
        "    name=\"My amazing workspace\",\n",
        "    sections=[\n",
        "        ws.Section(\n",
        "            name=\"Panel Gallery\",\n",
        "            panels=[\n",
        "                wr.LinePlot(y=[\"val_loss\"], title=\"My amazing line plot of val loss\"),\n",
        "                wr.BarPlot(metrics=[\"val_accuracy\"], title=\"A fantastic bar plot\"),\n",
        "                wr.ScatterPlot(x=\"precision\", y=\"recall\"),  # report API bug here, just pending merge\n",
        "                wr.ScalarChart(metric=\"recall\"),\n",
        "                wr.CodeComparer(),\n",
        "                wr.ParallelCoordinatesPlot(\n",
        "                    columns=[\n",
        "                        wr.ParallelCoordinatesPlotColumn(\"val_accuracy\"),\n",
        "                        wr.ParallelCoordinatesPlotColumn(\"precision\"),\n",
        "                        wr.ParallelCoordinatesPlotColumn(\"recall\"),\n",
        "                        wr.ParallelCoordinatesPlotColumn(\"f1_score\"),\n",
        "                        wr.ParallelCoordinatesPlotColumn(\"learning_rate\"),\n",
        "                    ]\n",
        "                ),\n",
        "                wr.ParameterImportancePlot(),\n",
        "                wr.RunComparer(),\n",
        "                wr.MediaBrowser(),\n",
        "                wr.MarkdownPanel(markdown=\"This is *markdown*!! $e=mc^2$\"),\n",
        "                wr.CustomChart(),\n",
        "                wr.WeavePanel(),\n",
        "            ]\n",
        "        )\n",
        "    ]\n",
        ")"
      ],
      "metadata": {
        "id": "x_10v8z7Frh5"
      },
      "execution_count": null,
      "outputs": []
    },
    {
      "cell_type": "code",
      "source": [
        "workspace.save()"
      ],
      "metadata": {
        "colab": {
          "base_uri": "https://localhost:8080/",
          "height": 1000
        },
        "id": "HncYoaXoGSNC",
        "outputId": "0b8de313-e53d-435e-9b07-8a3483dc4791"
      },
      "execution_count": null,
      "outputs": [
        {
          "output_type": "stream",
          "name": "stderr",
          "text": [
            "\u001b[34m\u001b[1mwandb\u001b[0m: View saved: https://wandb.ai/megatruong/workspace-api3?nw=3ykzi8khx04\n"
          ]
        },
        {
          "output_type": "display_data",
          "data": {
            "text/plain": [],
            "text/html": [
              "<pre style=\"white-space:pre;overflow-x:auto;line-height:normal;font-family:Menlo,'DejaVu Sans Mono',consolas,'Courier New',monospace\"></pre>\n"
            ]
          },
          "metadata": {}
        },
        {
          "output_type": "execute_result",
          "data": {
            "text/plain": [
              "\n",
              "\u001b[1;35mWorkspace\u001b[0m\u001b[1m(\u001b[0m\n",
              "    \u001b[33mentity\u001b[0m=\u001b[32m'megatruong'\u001b[0m,\n",
              "    \u001b[33mproject\u001b[0m=\u001b[32m'workspace-api3'\u001b[0m,\n",
              "    \u001b[33mname\u001b[0m=\u001b[32m'My amazing workspace'\u001b[0m,\n",
              "    \u001b[33msections\u001b[0m=\u001b[1m[\u001b[0m\n",
              "        \u001b[1;35mSection\u001b[0m\u001b[1m(\u001b[0m\n",
              "            \u001b[33mname\u001b[0m=\u001b[32m'Panel Gallery'\u001b[0m,\n",
              "            \u001b[33mpanels\u001b[0m=\u001b[1m[\u001b[0m\n",
              "                \u001b[1;35mLinePlot\u001b[0m\u001b[1m(\u001b[0m\n",
              "                    \u001b[33mtitle\u001b[0m=\u001b[32m'My amazing line plot of val loss'\u001b[0m,\n",
              "                    \u001b[33mx\u001b[0m=\u001b[32m'Step'\u001b[0m,\n",
              "                    \u001b[33my\u001b[0m=\u001b[1m[\u001b[0m\u001b[32m'val_loss'\u001b[0m\u001b[1m]\u001b[0m,\n",
              "                    \u001b[33mlayout\u001b[0m=\u001b[1;35mLayout\u001b[0m\u001b[1m(\u001b[0m\u001b[33mx\u001b[0m=\u001b[1;36m0\u001b[0m, \u001b[33my\u001b[0m=\u001b[1;36m0\u001b[0m, \u001b[33mw\u001b[0m=\u001b[1;36m8\u001b[0m, \u001b[33mh\u001b[0m=\u001b[1;36m6\u001b[0m\u001b[1m)\u001b[0m\n",
              "                \u001b[1m)\u001b[0m,\n",
              "                \u001b[1;35mBarPlot\u001b[0m\u001b[1m(\u001b[0m\n",
              "                    \u001b[33mtitle\u001b[0m=\u001b[32m'A fantastic bar plot'\u001b[0m,\n",
              "                    \u001b[33mmetrics\u001b[0m=\u001b[1m[\u001b[0m\u001b[32m'val_accuracy'\u001b[0m\u001b[1m]\u001b[0m,\n",
              "                    \u001b[33morientation\u001b[0m=\u001b[32m'h'\u001b[0m,\n",
              "                    \u001b[33mlayout\u001b[0m=\u001b[1;35mLayout\u001b[0m\u001b[1m(\u001b[0m\u001b[33mx\u001b[0m=\u001b[1;36m0\u001b[0m, \u001b[33my\u001b[0m=\u001b[1;36m0\u001b[0m, \u001b[33mw\u001b[0m=\u001b[1;36m8\u001b[0m, \u001b[33mh\u001b[0m=\u001b[1;36m6\u001b[0m\u001b[1m)\u001b[0m\n",
              "                \u001b[1m)\u001b[0m,\n",
              "                \u001b[1;35mScatterPlot\u001b[0m\u001b[1m(\u001b[0m\u001b[33mx\u001b[0m=\u001b[32m'precision'\u001b[0m, \u001b[33my\u001b[0m=\u001b[32m'recall'\u001b[0m, \u001b[33mlayout\u001b[0m=\u001b[1;35mLayout\u001b[0m\u001b[1m(\u001b[0m\u001b[33mx\u001b[0m=\u001b[1;36m0\u001b[0m, \u001b[33my\u001b[0m=\u001b[1;36m0\u001b[0m, \u001b[33mw\u001b[0m=\u001b[1;36m8\u001b[0m, \u001b[33mh\u001b[0m=\u001b[1;36m6\u001b[0m\u001b[1m)\u001b[0m\u001b[1m)\u001b[0m,\n",
              "                \u001b[1;35mScalarChart\u001b[0m\u001b[1m(\u001b[0m\u001b[33mmetric\u001b[0m=\u001b[32m'recall'\u001b[0m, \u001b[33mlayout\u001b[0m=\u001b[1;35mLayout\u001b[0m\u001b[1m(\u001b[0m\u001b[33mx\u001b[0m=\u001b[1;36m0\u001b[0m, \u001b[33my\u001b[0m=\u001b[1;36m0\u001b[0m, \u001b[33mw\u001b[0m=\u001b[1;36m8\u001b[0m, \u001b[33mh\u001b[0m=\u001b[1;36m6\u001b[0m\u001b[1m)\u001b[0m\u001b[1m)\u001b[0m,\n",
              "                \u001b[1;35mCodeComparer\u001b[0m\u001b[1m(\u001b[0m\u001b[33mdiff\u001b[0m=\u001b[32m'split'\u001b[0m, \u001b[33mlayout\u001b[0m=\u001b[1;35mLayout\u001b[0m\u001b[1m(\u001b[0m\u001b[33mx\u001b[0m=\u001b[1;36m0\u001b[0m, \u001b[33my\u001b[0m=\u001b[1;36m0\u001b[0m, \u001b[33mw\u001b[0m=\u001b[1;36m8\u001b[0m, \u001b[33mh\u001b[0m=\u001b[1;36m6\u001b[0m\u001b[1m)\u001b[0m\u001b[1m)\u001b[0m,\n",
              "                \u001b[1;35mParallelCoordinatesPlot\u001b[0m\u001b[1m(\u001b[0m\n",
              "                    \u001b[33mcolumns\u001b[0m=\u001b[1m[\u001b[0m\n",
              "                        \u001b[1;35mParallelCoordinatesPlotColumn\u001b[0m\u001b[1m(\u001b[0m\u001b[33mmetric\u001b[0m=\u001b[32m'val_accuracy'\u001b[0m\u001b[1m)\u001b[0m,\n",
              "                        \u001b[1;35mParallelCoordinatesPlotColumn\u001b[0m\u001b[1m(\u001b[0m\u001b[33mmetric\u001b[0m=\u001b[32m'precision'\u001b[0m\u001b[1m)\u001b[0m,\n",
              "                        \u001b[1;35mParallelCoordinatesPlotColumn\u001b[0m\u001b[1m(\u001b[0m\u001b[33mmetric\u001b[0m=\u001b[32m'recall'\u001b[0m\u001b[1m)\u001b[0m,\n",
              "                        \u001b[1;35mParallelCoordinatesPlotColumn\u001b[0m\u001b[1m(\u001b[0m\u001b[33mmetric\u001b[0m=\u001b[32m'f1_score'\u001b[0m\u001b[1m)\u001b[0m,\n",
              "                        \u001b[1;35mParallelCoordinatesPlotColumn\u001b[0m\u001b[1m(\u001b[0m\u001b[33mmetric\u001b[0m=\u001b[32m'learning_rate'\u001b[0m\u001b[1m)\u001b[0m\n",
              "                    \u001b[1m]\u001b[0m,\n",
              "                    \u001b[33mlayout\u001b[0m=\u001b[1;35mLayout\u001b[0m\u001b[1m(\u001b[0m\u001b[33mx\u001b[0m=\u001b[1;36m0\u001b[0m, \u001b[33my\u001b[0m=\u001b[1;36m0\u001b[0m, \u001b[33mw\u001b[0m=\u001b[1;36m8\u001b[0m, \u001b[33mh\u001b[0m=\u001b[1;36m6\u001b[0m\u001b[1m)\u001b[0m\n",
              "                \u001b[1m)\u001b[0m,\n",
              "                \u001b[1;35mParameterImportancePlot\u001b[0m\u001b[1m(\u001b[0m\u001b[33mlayout\u001b[0m=\u001b[1;35mLayout\u001b[0m\u001b[1m(\u001b[0m\u001b[33mx\u001b[0m=\u001b[1;36m0\u001b[0m, \u001b[33my\u001b[0m=\u001b[1;36m0\u001b[0m, \u001b[33mw\u001b[0m=\u001b[1;36m8\u001b[0m, \u001b[33mh\u001b[0m=\u001b[1;36m6\u001b[0m\u001b[1m)\u001b[0m\u001b[1m)\u001b[0m,\n",
              "                \u001b[1;35mRunComparer\u001b[0m\u001b[1m(\u001b[0m\u001b[33mlayout\u001b[0m=\u001b[1;35mLayout\u001b[0m\u001b[1m(\u001b[0m\u001b[33mx\u001b[0m=\u001b[1;36m0\u001b[0m, \u001b[33my\u001b[0m=\u001b[1;36m0\u001b[0m, \u001b[33mw\u001b[0m=\u001b[1;36m8\u001b[0m, \u001b[33mh\u001b[0m=\u001b[1;36m6\u001b[0m\u001b[1m)\u001b[0m\u001b[1m)\u001b[0m,\n",
              "                \u001b[1;35mMediaBrowser\u001b[0m\u001b[1m(\u001b[0m\u001b[33mlayout\u001b[0m=\u001b[1;35mLayout\u001b[0m\u001b[1m(\u001b[0m\u001b[33mx\u001b[0m=\u001b[1;36m0\u001b[0m, \u001b[33my\u001b[0m=\u001b[1;36m0\u001b[0m, \u001b[33mw\u001b[0m=\u001b[1;36m8\u001b[0m, \u001b[33mh\u001b[0m=\u001b[1;36m6\u001b[0m\u001b[1m)\u001b[0m\u001b[1m)\u001b[0m,\n",
              "                \u001b[1;35mMarkdownPanel\u001b[0m\u001b[1m(\u001b[0m\n",
              "                    \u001b[33mmarkdown\u001b[0m=\u001b[32m'This is *markdown*!! $\u001b[0m\u001b[32me\u001b[0m\u001b[32m=\u001b[0m\u001b[32mmc\u001b[0m\u001b[32m^2$'\u001b[0m,\n",
              "                    \u001b[33mlayout\u001b[0m=\u001b[1;35mLayout\u001b[0m\u001b[1m(\u001b[0m\u001b[33mx\u001b[0m=\u001b[1;36m0\u001b[0m, \u001b[33my\u001b[0m=\u001b[1;36m0\u001b[0m, \u001b[33mw\u001b[0m=\u001b[1;36m8\u001b[0m, \u001b[33mh\u001b[0m=\u001b[1;36m6\u001b[0m\u001b[1m)\u001b[0m\n",
              "                \u001b[1m)\u001b[0m,\n",
              "                \u001b[1;35mCustomChart\u001b[0m\u001b[1m(\u001b[0m\u001b[33mlayout\u001b[0m=\u001b[1;35mLayout\u001b[0m\u001b[1m(\u001b[0m\u001b[33mx\u001b[0m=\u001b[1;36m0\u001b[0m, \u001b[33my\u001b[0m=\u001b[1;36m0\u001b[0m, \u001b[33mw\u001b[0m=\u001b[1;36m8\u001b[0m, \u001b[33mh\u001b[0m=\u001b[1;36m6\u001b[0m\u001b[1m)\u001b[0m\u001b[1m)\u001b[0m,\n",
              "                \u001b[1;35mWeavePanel\u001b[0m\u001b[1m(\u001b[0m\u001b[33mlayout\u001b[0m=\u001b[1;35mLayout\u001b[0m\u001b[1m(\u001b[0m\u001b[33mx\u001b[0m=\u001b[1;36m0\u001b[0m, \u001b[33my\u001b[0m=\u001b[1;36m0\u001b[0m, \u001b[33mw\u001b[0m=\u001b[1;36m8\u001b[0m, \u001b[33mh\u001b[0m=\u001b[1;36m6\u001b[0m\u001b[1m)\u001b[0m\u001b[1m)\u001b[0m\n",
              "            \u001b[1m]\u001b[0m,\n",
              "            \u001b[33mcollapsed\u001b[0m=\u001b[3;91mFalse\u001b[0m\n",
              "        \u001b[1m)\u001b[0m\n",
              "    \u001b[1m]\u001b[0m,\n",
              "    \u001b[33msettings\u001b[0m=\u001b[1;35mWorkspaceSettings\u001b[0m\u001b[1m(\u001b[0m\n",
              "        \u001b[33mx_axis\u001b[0m=\u001b[32m'_step'\u001b[0m,\n",
              "        \u001b[33msmoothing_type\u001b[0m=\u001b[32m'none'\u001b[0m,\n",
              "        \u001b[33msmoothing_weight\u001b[0m=\u001b[1;36m0\u001b[0m,\n",
              "        \u001b[33mignore_outliers\u001b[0m=\u001b[3;91mFalse\u001b[0m,\n",
              "        \u001b[33mremove_legends_from_panels\u001b[0m=\u001b[3;91mFalse\u001b[0m,\n",
              "        \u001b[33mtooltip_number_of_runs\u001b[0m=\u001b[32m'default'\u001b[0m,\n",
              "        \u001b[33mtooltip_color_run_names\u001b[0m=\u001b[3;92mTrue\u001b[0m,\n",
              "        \u001b[33mmax_runs\u001b[0m=\u001b[1;36m10\u001b[0m,\n",
              "        \u001b[33mpoint_visualization_method\u001b[0m=\u001b[32m'bucketing'\u001b[0m,\n",
              "        \u001b[33mauto_expand_panel_search_results\u001b[0m=\u001b[3;91mFalse\u001b[0m\n",
              "    \u001b[1m)\u001b[0m,\n",
              "    \u001b[33mrunset_settings\u001b[0m=\u001b[1;35mRunsetSettings\u001b[0m\u001b[1m(\u001b[0m\u001b[33mregex_query\u001b[0m=\u001b[3;91mFalse\u001b[0m\u001b[1m)\u001b[0m\n",
              "\u001b[1m)\u001b[0m"
            ]
          },
          "metadata": {},
          "execution_count": 24
        }
      ]
    },
    {
      "cell_type": "markdown",
      "source": [
        "## Dev: Expressive `filters` syntax\n",
        "- Lets users build up filters using python syntax\n",
        "- Can be extended to support more complex `AND` and `OR` operations when the UI supports it\n",
        "- The resulting syntax will be familiar with folks who have used `pandas` or `polars` to write expressions, e.g.\n",
        "\n",
        "```py\n",
        "df.loc[\n",
        "  (df.age > 5) |\n",
        "  (\n",
        "    (df.name == \"Alice\") &\n",
        "    (df.job != \"ML Engineer\")\n",
        "  )\n",
        "]\n",
        "```"
      ],
      "metadata": {
        "id": "qIcTbHZiGTDI"
      }
    },
    {
      "cell_type": "code",
      "source": [
        "filters = [\n",
        "    ws.Metric(\"food\") == \"potato\",\n",
        "    ws.Summary(\"val_loss\") < 0.5,\n",
        "\n",
        "    # ui names\n",
        "    ws.Metric(\"Name\") == \"blazing-sun-4\",\n",
        "]"
      ],
      "metadata": {
        "id": "NbnUVO9_fAQN"
      },
      "execution_count": null,
      "outputs": []
    },
    {
      "cell_type": "code",
      "source": [
        "expr_tree = ws.expr.filters_to_expression_tree(filters)\n",
        "expr_tree"
      ],
      "metadata": {
        "colab": {
          "base_uri": "https://localhost:8080/",
          "height": 607
        },
        "id": "-KlG-3S_gDHq",
        "outputId": "ef2af002-c840-4ed6-debd-f00086ea2d7c"
      },
      "execution_count": null,
      "outputs": [
        {
          "output_type": "display_data",
          "data": {
            "text/plain": [],
            "text/html": [
              "<pre style=\"white-space:pre;overflow-x:auto;line-height:normal;font-family:Menlo,'DejaVu Sans Mono',consolas,'Courier New',monospace\"></pre>\n"
            ]
          },
          "metadata": {}
        },
        {
          "output_type": "execute_result",
          "data": {
            "text/plain": [
              "\n",
              "\u001b[1;35mFilters\u001b[0m\u001b[1m(\u001b[0m\n",
              "    \u001b[33mop\u001b[0m=\u001b[32m'AND'\u001b[0m,\n",
              "    \u001b[33mkey\u001b[0m=\u001b[3;35mNone\u001b[0m,\n",
              "    \u001b[33mfilters\u001b[0m=\u001b[1m[\u001b[0m\n",
              "        \u001b[1;35mFilters\u001b[0m\u001b[1m(\u001b[0m\n",
              "            \u001b[33mop\u001b[0m=\u001b[32m'='\u001b[0m,\n",
              "            \u001b[33mkey\u001b[0m=\u001b[1;35mKey\u001b[0m\u001b[1m(\u001b[0m\u001b[33msection\u001b[0m=\u001b[32m'run'\u001b[0m, \u001b[33mname\u001b[0m=\u001b[32m'food'\u001b[0m\u001b[1m)\u001b[0m,\n",
              "            \u001b[33mfilters\u001b[0m=\u001b[3;35mNone\u001b[0m,\n",
              "            \u001b[33mvalue\u001b[0m=\u001b[32m'potato'\u001b[0m,\n",
              "            \u001b[33mdisabled\u001b[0m=\u001b[3;91mFalse\u001b[0m,\n",
              "            \u001b[33mcurrent\u001b[0m=\u001b[3;35mNone\u001b[0m\n",
              "        \u001b[1m)\u001b[0m,\n",
              "        \u001b[1;35mFilters\u001b[0m\u001b[1m(\u001b[0m\n",
              "            \u001b[33mop\u001b[0m=\u001b[32m'<'\u001b[0m,\n",
              "            \u001b[33mkey\u001b[0m=\u001b[1;35mKey\u001b[0m\u001b[1m(\u001b[0m\u001b[33msection\u001b[0m=\u001b[32m'summary'\u001b[0m, \u001b[33mname\u001b[0m=\u001b[32m'val_loss'\u001b[0m\u001b[1m)\u001b[0m,\n",
              "            \u001b[33mfilters\u001b[0m=\u001b[3;35mNone\u001b[0m,\n",
              "            \u001b[33mvalue\u001b[0m=\u001b[1;36m0\u001b[0m\u001b[1;36m.5\u001b[0m,\n",
              "            \u001b[33mdisabled\u001b[0m=\u001b[3;91mFalse\u001b[0m,\n",
              "            \u001b[33mcurrent\u001b[0m=\u001b[3;35mNone\u001b[0m\n",
              "        \u001b[1m)\u001b[0m,\n",
              "        \u001b[1;35mFilters\u001b[0m\u001b[1m(\u001b[0m\n",
              "            \u001b[33mop\u001b[0m=\u001b[32m'='\u001b[0m,\n",
              "            \u001b[33mkey\u001b[0m=\u001b[1;35mKey\u001b[0m\u001b[1m(\u001b[0m\u001b[33msection\u001b[0m=\u001b[32m'run'\u001b[0m, \u001b[33mname\u001b[0m=\u001b[32m'displayName'\u001b[0m\u001b[1m)\u001b[0m,\n",
              "            \u001b[33mfilters\u001b[0m=\u001b[3;35mNone\u001b[0m,\n",
              "            \u001b[33mvalue\u001b[0m=\u001b[32m'blazing-sun-4'\u001b[0m,\n",
              "            \u001b[33mdisabled\u001b[0m=\u001b[3;91mFalse\u001b[0m,\n",
              "            \u001b[33mcurrent\u001b[0m=\u001b[3;35mNone\u001b[0m\n",
              "        \u001b[1m)\u001b[0m\n",
              "    \u001b[1m]\u001b[0m,\n",
              "    \u001b[33mvalue\u001b[0m=\u001b[3;35mNone\u001b[0m,\n",
              "    \u001b[33mdisabled\u001b[0m=\u001b[3;35mNone\u001b[0m,\n",
              "    \u001b[33mcurrent\u001b[0m=\u001b[3;35mNone\u001b[0m\n",
              "\u001b[1m)\u001b[0m"
            ]
          },
          "metadata": {},
          "execution_count": 26
        }
      ]
    },
    {
      "cell_type": "code",
      "source": [
        "filters2 = ws.expr.expression_tree_to_filters(expr_tree)\n",
        "filters2"
      ],
      "metadata": {
        "colab": {
          "base_uri": "https://localhost:8080/",
          "height": 121
        },
        "id": "-yuU2BB-gGFr",
        "outputId": "8d1475b6-a2e8-4e8a-95f5-ec878d893305"
      },
      "execution_count": null,
      "outputs": [
        {
          "output_type": "display_data",
          "data": {
            "text/plain": [],
            "text/html": [
              "<pre style=\"white-space:pre;overflow-x:auto;line-height:normal;font-family:Menlo,'DejaVu Sans Mono',consolas,'Courier New',monospace\"></pre>\n"
            ]
          },
          "metadata": {}
        },
        {
          "output_type": "execute_result",
          "data": {
            "text/plain": [
              "\n",
              "\u001b[1m[\u001b[0m\n",
              "    \u001b[1m(\u001b[0m\u001b[1;35mMetric\u001b[0m\u001b[1m(\u001b[0m\u001b[33mname\u001b[0m=\u001b[32m'food'\u001b[0m\u001b[1m)\u001b[0m == \u001b[32m'potato'\u001b[0m\u001b[1m)\u001b[0m,\n",
              "    \u001b[1m(\u001b[0m\u001b[1;35mSummary\u001b[0m\u001b[1m(\u001b[0m\u001b[33mname\u001b[0m=\u001b[32m'val_loss'\u001b[0m\u001b[1m)\u001b[0m < \u001b[1;36m0.5\u001b[0m\u001b[1m)\u001b[0m,\n",
              "    \u001b[1m(\u001b[0m\u001b[1;35mMetric\u001b[0m\u001b[1m(\u001b[0m\u001b[33mname\u001b[0m=\u001b[32m'Name'\u001b[0m\u001b[1m)\u001b[0m == \u001b[32m'blazing-sun-4'\u001b[0m\u001b[1m)\u001b[0m\n",
              "\u001b[1m]\u001b[0m"
            ]
          },
          "metadata": {},
          "execution_count": 27
        }
      ]
    },
    {
      "cell_type": "code",
      "source": [
        "filters == filters2"
      ],
      "metadata": {
        "colab": {
          "base_uri": "https://localhost:8080/",
          "height": 34
        },
        "id": "xvc1VIE-gzzX",
        "outputId": "f2a7a96e-7b6b-414f-c4ce-eda5248e9b82"
      },
      "execution_count": null,
      "outputs": [
        {
          "output_type": "display_data",
          "data": {
            "text/plain": [],
            "text/html": [
              "<pre style=\"white-space:pre;overflow-x:auto;line-height:normal;font-family:Menlo,'DejaVu Sans Mono',consolas,'Courier New',monospace\"></pre>\n"
            ]
          },
          "metadata": {}
        },
        {
          "output_type": "execute_result",
          "data": {
            "text/plain": [
              "\u001b[3;92mTrue\u001b[0m"
            ]
          },
          "metadata": {},
          "execution_count": 28
        }
      ]
    },
    {
      "cell_type": "code",
      "source": [],
      "metadata": {
        "id": "Kqm0pKCzg3E_"
      },
      "execution_count": null,
      "outputs": []
    }
  ]
}